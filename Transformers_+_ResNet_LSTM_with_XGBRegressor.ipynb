{
 "cells": [
  {
   "cell_type": "markdown",
   "metadata": {
    "id": "fLluPXsAechM"
   },
   "source": [
    "#Download Dataset"
   ]
  },
  {
   "cell_type": "code",
   "execution_count": 9,
   "metadata": {
    "colab": {
     "base_uri": "https://localhost:8080/"
    },
    "id": "PGUXfE-EZvkw",
    "outputId": "7255957f-1391-4180-a8ca-954fb69ca240"
   },
   "outputs": [
    {
     "name": "stdout",
     "output_type": "stream",
     "text": [
      "Downloading feedback-prize-english-language-learning.zip to /content\n",
      "  0% 0.00/2.80M [00:00<?, ?B/s]\n",
      "100% 2.80M/2.80M [00:00<00:00, 158MB/s]\n"
     ]
    }
   ],
   "source": [
    "!kaggle competitions download -c feedback-prize-english-language-learning"
   ]
  },
  {
   "cell_type": "code",
   "execution_count": 10,
   "metadata": {
    "colab": {
     "base_uri": "https://localhost:8080/"
    },
    "id": "IsU6rJEeDApn",
    "outputId": "578649e4-3265-42bc-d03b-0b763a5c558e"
   },
   "outputs": [
    {
     "name": "stdout",
     "output_type": "stream",
     "text": [
      "Archive:  feedback-prize-english-language-learning.zip\n",
      "  inflating: sample_submission.csv   \n",
      "  inflating: test.csv                \n",
      "  inflating: train.csv               \n"
     ]
    }
   ],
   "source": [
    "!unzip feedback-prize-english-language-learning.zip"
   ]
  },
  {
   "cell_type": "code",
   "execution_count": 11,
   "metadata": {
    "colab": {
     "base_uri": "https://localhost:8080/"
    },
    "id": "nzlH8aaV2ZGS",
    "outputId": "fbb17f2d-7614-409d-fdd9-0d3c03ab048f"
   },
   "outputs": [
    {
     "name": "stdout",
     "output_type": "stream",
     "text": [
      "Looking in indexes: https://pypi.org/simple, https://us-python.pkg.dev/colab-wheels/public/simple/\n",
      "Collecting transformers\n",
      "  Downloading transformers-4.21.2-py3-none-any.whl (4.7 MB)\n",
      "\u001b[K     |████████████████████████████████| 4.7 MB 5.1 MB/s \n",
      "\u001b[?25hRequirement already satisfied: filelock in /usr/local/lib/python3.7/dist-packages (from transformers) (3.8.0)\n",
      "Requirement already satisfied: regex!=2019.12.17 in /usr/local/lib/python3.7/dist-packages (from transformers) (2022.6.2)\n",
      "Requirement already satisfied: requests in /usr/local/lib/python3.7/dist-packages (from transformers) (2.23.0)\n",
      "Requirement already satisfied: tqdm>=4.27 in /usr/local/lib/python3.7/dist-packages (from transformers) (4.64.0)\n",
      "Requirement already satisfied: packaging>=20.0 in /usr/local/lib/python3.7/dist-packages (from transformers) (21.3)\n",
      "Requirement already satisfied: importlib-metadata in /usr/local/lib/python3.7/dist-packages (from transformers) (4.12.0)\n",
      "Requirement already satisfied: pyyaml>=5.1 in /usr/local/lib/python3.7/dist-packages (from transformers) (6.0)\n",
      "Requirement already satisfied: numpy>=1.17 in /usr/local/lib/python3.7/dist-packages (from transformers) (1.21.6)\n",
      "Collecting tokenizers!=0.11.3,<0.13,>=0.11.1\n",
      "  Downloading tokenizers-0.12.1-cp37-cp37m-manylinux_2_12_x86_64.manylinux2010_x86_64.whl (6.6 MB)\n",
      "\u001b[K     |████████████████████████████████| 6.6 MB 46.0 MB/s \n",
      "\u001b[?25hCollecting huggingface-hub<1.0,>=0.1.0\n",
      "  Downloading huggingface_hub-0.9.1-py3-none-any.whl (120 kB)\n",
      "\u001b[K     |████████████████████████████████| 120 kB 60.3 MB/s \n",
      "\u001b[?25hRequirement already satisfied: typing-extensions>=3.7.4.3 in /usr/local/lib/python3.7/dist-packages (from huggingface-hub<1.0,>=0.1.0->transformers) (4.1.1)\n",
      "Requirement already satisfied: pyparsing!=3.0.5,>=2.0.2 in /usr/local/lib/python3.7/dist-packages (from packaging>=20.0->transformers) (3.0.9)\n",
      "Requirement already satisfied: zipp>=0.5 in /usr/local/lib/python3.7/dist-packages (from importlib-metadata->transformers) (3.8.1)\n",
      "Requirement already satisfied: chardet<4,>=3.0.2 in /usr/local/lib/python3.7/dist-packages (from requests->transformers) (3.0.4)\n",
      "Requirement already satisfied: certifi>=2017.4.17 in /usr/local/lib/python3.7/dist-packages (from requests->transformers) (2022.6.15)\n",
      "Requirement already satisfied: idna<3,>=2.5 in /usr/local/lib/python3.7/dist-packages (from requests->transformers) (2.10)\n",
      "Requirement already satisfied: urllib3!=1.25.0,!=1.25.1,<1.26,>=1.21.1 in /usr/local/lib/python3.7/dist-packages (from requests->transformers) (1.24.3)\n",
      "Installing collected packages: tokenizers, huggingface-hub, transformers\n",
      "Successfully installed huggingface-hub-0.9.1 tokenizers-0.12.1 transformers-4.21.2\n"
     ]
    }
   ],
   "source": [
    "!pip install transformers"
   ]
  },
  {
   "cell_type": "markdown",
   "metadata": {
    "id": "JLJ-oMRyehJI"
   },
   "source": [
    "#Import Packages"
   ]
  },
  {
   "cell_type": "code",
   "execution_count": 3,
   "metadata": {},
   "outputs": [
    {
     "name": "stdout",
     "output_type": "stream",
     "text": [
      "Num GPUs: 1\n"
     ]
    }
   ],
   "source": [
    "physical_devices = tf.config.list_physical_devices('GPU')\n",
    "print(\"Num GPUs:\", len(physical_devices))\n"
   ]
  },
  {
   "cell_type": "code",
   "execution_count": 2,
   "metadata": {},
   "outputs": [],
   "source": [
    "import tensorflow as tf"
   ]
  },
  {
   "cell_type": "code",
   "execution_count": 3,
   "metadata": {},
   "outputs": [
    {
     "name": "stderr",
     "output_type": "stream",
     "text": [
      "2022-09-13 09:52:04.746430: I tensorflow/stream_executor/cuda/cuda_gpu_executor.cc:975] successful NUMA node read from SysFS had negative value (-1), but there must be at least one NUMA node, so returning NUMA node zero\n",
      "2022-09-13 09:52:04.880055: I tensorflow/stream_executor/cuda/cuda_gpu_executor.cc:975] successful NUMA node read from SysFS had negative value (-1), but there must be at least one NUMA node, so returning NUMA node zero\n",
      "2022-09-13 09:52:04.880342: I tensorflow/stream_executor/cuda/cuda_gpu_executor.cc:975] successful NUMA node read from SysFS had negative value (-1), but there must be at least one NUMA node, so returning NUMA node zero\n"
     ]
    },
    {
     "data": {
      "text/plain": [
       "[PhysicalDevice(name='/physical_device:GPU:0', device_type='GPU')]"
      ]
     },
     "execution_count": 3,
     "metadata": {},
     "output_type": "execute_result"
    }
   ],
   "source": [
    "tf.config.experimental.list_physical_devices('GPU')"
   ]
  },
  {
   "cell_type": "code",
   "execution_count": 4,
   "metadata": {},
   "outputs": [],
   "source": [
    "gpu_devices = tf.config.experimental.list_physical_devices('GPU')\n",
    "for device in gpu_devices:\n",
    "    tf.config.experimental.set_memory_growth(device, True)"
   ]
  },
  {
   "cell_type": "code",
   "execution_count": 5,
   "metadata": {
    "id": "mtLoz1UzDLw1"
   },
   "outputs": [],
   "source": [
    "import pandas as pd\n",
    "import numpy as np\n",
    "import os\n",
    "import string\n",
    "import tensorflow as tf\n",
    "import matplotlib.pyplot as plt\n",
    "import nltk\n",
    "from nltk.corpus import stopwords"
   ]
  },
  {
   "cell_type": "markdown",
   "metadata": {
    "id": "FNUCPftwelfq"
   },
   "source": [
    "#Preprocessing Dataset"
   ]
  },
  {
   "cell_type": "code",
   "execution_count": 6,
   "metadata": {
    "colab": {
     "base_uri": "https://localhost:8080/",
     "height": 302
    },
    "id": "yLThkzRuDLYy",
    "outputId": "0e927141-c73f-4e54-82c1-2ffe5ac7e553"
   },
   "outputs": [
    {
     "data": {
      "text/html": [
       "<div>\n",
       "<style scoped>\n",
       "    .dataframe tbody tr th:only-of-type {\n",
       "        vertical-align: middle;\n",
       "    }\n",
       "\n",
       "    .dataframe tbody tr th {\n",
       "        vertical-align: top;\n",
       "    }\n",
       "\n",
       "    .dataframe thead th {\n",
       "        text-align: right;\n",
       "    }\n",
       "</style>\n",
       "<table border=\"1\" class=\"dataframe\">\n",
       "  <thead>\n",
       "    <tr style=\"text-align: right;\">\n",
       "      <th></th>\n",
       "      <th>text_id</th>\n",
       "      <th>full_text</th>\n",
       "      <th>cohesion</th>\n",
       "      <th>syntax</th>\n",
       "      <th>vocabulary</th>\n",
       "      <th>phraseology</th>\n",
       "      <th>grammar</th>\n",
       "      <th>conventions</th>\n",
       "    </tr>\n",
       "  </thead>\n",
       "  <tbody>\n",
       "    <tr>\n",
       "      <th>0</th>\n",
       "      <td>0016926B079C</td>\n",
       "      <td>I think that students would benefit from learn...</td>\n",
       "      <td>3.5</td>\n",
       "      <td>3.5</td>\n",
       "      <td>3.0</td>\n",
       "      <td>3.0</td>\n",
       "      <td>4.0</td>\n",
       "      <td>3.0</td>\n",
       "    </tr>\n",
       "    <tr>\n",
       "      <th>1</th>\n",
       "      <td>0022683E9EA5</td>\n",
       "      <td>When a problem is a change you have to let it ...</td>\n",
       "      <td>2.5</td>\n",
       "      <td>2.5</td>\n",
       "      <td>3.0</td>\n",
       "      <td>2.0</td>\n",
       "      <td>2.0</td>\n",
       "      <td>2.5</td>\n",
       "    </tr>\n",
       "    <tr>\n",
       "      <th>2</th>\n",
       "      <td>00299B378633</td>\n",
       "      <td>Dear, Principal\\n\\nIf u change the school poli...</td>\n",
       "      <td>3.0</td>\n",
       "      <td>3.5</td>\n",
       "      <td>3.0</td>\n",
       "      <td>3.0</td>\n",
       "      <td>3.0</td>\n",
       "      <td>2.5</td>\n",
       "    </tr>\n",
       "    <tr>\n",
       "      <th>3</th>\n",
       "      <td>003885A45F42</td>\n",
       "      <td>The best time in life is when you become yours...</td>\n",
       "      <td>4.5</td>\n",
       "      <td>4.5</td>\n",
       "      <td>4.5</td>\n",
       "      <td>4.5</td>\n",
       "      <td>4.0</td>\n",
       "      <td>5.0</td>\n",
       "    </tr>\n",
       "    <tr>\n",
       "      <th>4</th>\n",
       "      <td>0049B1DF5CCC</td>\n",
       "      <td>Small act of kindness can impact in other peop...</td>\n",
       "      <td>2.5</td>\n",
       "      <td>3.0</td>\n",
       "      <td>3.0</td>\n",
       "      <td>3.0</td>\n",
       "      <td>2.5</td>\n",
       "      <td>2.5</td>\n",
       "    </tr>\n",
       "  </tbody>\n",
       "</table>\n",
       "</div>"
      ],
      "text/plain": [
       "        text_id                                          full_text  cohesion  \\\n",
       "0  0016926B079C  I think that students would benefit from learn...       3.5   \n",
       "1  0022683E9EA5  When a problem is a change you have to let it ...       2.5   \n",
       "2  00299B378633  Dear, Principal\\n\\nIf u change the school poli...       3.0   \n",
       "3  003885A45F42  The best time in life is when you become yours...       4.5   \n",
       "4  0049B1DF5CCC  Small act of kindness can impact in other peop...       2.5   \n",
       "\n",
       "   syntax  vocabulary  phraseology  grammar  conventions  \n",
       "0     3.5         3.0          3.0      4.0          3.0  \n",
       "1     2.5         3.0          2.0      2.0          2.5  \n",
       "2     3.5         3.0          3.0      3.0          2.5  \n",
       "3     4.5         4.5          4.5      4.0          5.0  \n",
       "4     3.0         3.0          3.0      2.5          2.5  "
      ]
     },
     "execution_count": 6,
     "metadata": {},
     "output_type": "execute_result"
    }
   ],
   "source": [
    "train_dataset = pd.read_csv(\"train.csv\")\n",
    "train_dataset.head()"
   ]
  },
  {
   "cell_type": "code",
   "execution_count": 7,
   "metadata": {
    "colab": {
     "base_uri": "https://localhost:8080/",
     "height": 300
    },
    "id": "YKQzZD9Ws37m",
    "outputId": "98c3e85f-cd34-46a0-f388-aa6d3ef58efd"
   },
   "outputs": [
    {
     "data": {
      "text/html": [
       "<div>\n",
       "<style scoped>\n",
       "    .dataframe tbody tr th:only-of-type {\n",
       "        vertical-align: middle;\n",
       "    }\n",
       "\n",
       "    .dataframe tbody tr th {\n",
       "        vertical-align: top;\n",
       "    }\n",
       "\n",
       "    .dataframe thead th {\n",
       "        text-align: right;\n",
       "    }\n",
       "</style>\n",
       "<table border=\"1\" class=\"dataframe\">\n",
       "  <thead>\n",
       "    <tr style=\"text-align: right;\">\n",
       "      <th></th>\n",
       "      <th>cohesion</th>\n",
       "      <th>syntax</th>\n",
       "      <th>vocabulary</th>\n",
       "      <th>phraseology</th>\n",
       "      <th>grammar</th>\n",
       "      <th>conventions</th>\n",
       "    </tr>\n",
       "  </thead>\n",
       "  <tbody>\n",
       "    <tr>\n",
       "      <th>count</th>\n",
       "      <td>3911.000000</td>\n",
       "      <td>3911.000000</td>\n",
       "      <td>3911.000000</td>\n",
       "      <td>3911.000000</td>\n",
       "      <td>3911.000000</td>\n",
       "      <td>3911.000000</td>\n",
       "    </tr>\n",
       "    <tr>\n",
       "      <th>mean</th>\n",
       "      <td>3.127077</td>\n",
       "      <td>3.028254</td>\n",
       "      <td>3.235745</td>\n",
       "      <td>3.116850</td>\n",
       "      <td>3.032856</td>\n",
       "      <td>3.081053</td>\n",
       "    </tr>\n",
       "    <tr>\n",
       "      <th>std</th>\n",
       "      <td>0.662542</td>\n",
       "      <td>0.644399</td>\n",
       "      <td>0.583148</td>\n",
       "      <td>0.655997</td>\n",
       "      <td>0.699841</td>\n",
       "      <td>0.671450</td>\n",
       "    </tr>\n",
       "    <tr>\n",
       "      <th>min</th>\n",
       "      <td>1.000000</td>\n",
       "      <td>1.000000</td>\n",
       "      <td>1.000000</td>\n",
       "      <td>1.000000</td>\n",
       "      <td>1.000000</td>\n",
       "      <td>1.000000</td>\n",
       "    </tr>\n",
       "    <tr>\n",
       "      <th>25%</th>\n",
       "      <td>2.500000</td>\n",
       "      <td>2.500000</td>\n",
       "      <td>3.000000</td>\n",
       "      <td>2.500000</td>\n",
       "      <td>2.500000</td>\n",
       "      <td>2.500000</td>\n",
       "    </tr>\n",
       "    <tr>\n",
       "      <th>50%</th>\n",
       "      <td>3.000000</td>\n",
       "      <td>3.000000</td>\n",
       "      <td>3.000000</td>\n",
       "      <td>3.000000</td>\n",
       "      <td>3.000000</td>\n",
       "      <td>3.000000</td>\n",
       "    </tr>\n",
       "    <tr>\n",
       "      <th>75%</th>\n",
       "      <td>3.500000</td>\n",
       "      <td>3.500000</td>\n",
       "      <td>3.500000</td>\n",
       "      <td>3.500000</td>\n",
       "      <td>3.500000</td>\n",
       "      <td>3.500000</td>\n",
       "    </tr>\n",
       "    <tr>\n",
       "      <th>max</th>\n",
       "      <td>5.000000</td>\n",
       "      <td>5.000000</td>\n",
       "      <td>5.000000</td>\n",
       "      <td>5.000000</td>\n",
       "      <td>5.000000</td>\n",
       "      <td>5.000000</td>\n",
       "    </tr>\n",
       "  </tbody>\n",
       "</table>\n",
       "</div>"
      ],
      "text/plain": [
       "          cohesion       syntax   vocabulary  phraseology      grammar  \\\n",
       "count  3911.000000  3911.000000  3911.000000  3911.000000  3911.000000   \n",
       "mean      3.127077     3.028254     3.235745     3.116850     3.032856   \n",
       "std       0.662542     0.644399     0.583148     0.655997     0.699841   \n",
       "min       1.000000     1.000000     1.000000     1.000000     1.000000   \n",
       "25%       2.500000     2.500000     3.000000     2.500000     2.500000   \n",
       "50%       3.000000     3.000000     3.000000     3.000000     3.000000   \n",
       "75%       3.500000     3.500000     3.500000     3.500000     3.500000   \n",
       "max       5.000000     5.000000     5.000000     5.000000     5.000000   \n",
       "\n",
       "       conventions  \n",
       "count  3911.000000  \n",
       "mean      3.081053  \n",
       "std       0.671450  \n",
       "min       1.000000  \n",
       "25%       2.500000  \n",
       "50%       3.000000  \n",
       "75%       3.500000  \n",
       "max       5.000000  "
      ]
     },
     "execution_count": 7,
     "metadata": {},
     "output_type": "execute_result"
    }
   ],
   "source": [
    "train_dataset.describe()"
   ]
  },
  {
   "cell_type": "code",
   "execution_count": 8,
   "metadata": {
    "colab": {
     "base_uri": "https://localhost:8080/"
    },
    "id": "-bg772yws3iN",
    "outputId": "dcc35682-38b8-4f71-d9b5-0917cbdd7fea"
   },
   "outputs": [
    {
     "name": "stdout",
     "output_type": "stream",
     "text": [
      "<class 'pandas.core.frame.DataFrame'>\n",
      "RangeIndex: 3911 entries, 0 to 3910\n",
      "Data columns (total 8 columns):\n",
      " #   Column       Non-Null Count  Dtype  \n",
      "---  ------       --------------  -----  \n",
      " 0   text_id      3911 non-null   object \n",
      " 1   full_text    3911 non-null   object \n",
      " 2   cohesion     3911 non-null   float64\n",
      " 3   syntax       3911 non-null   float64\n",
      " 4   vocabulary   3911 non-null   float64\n",
      " 5   phraseology  3911 non-null   float64\n",
      " 6   grammar      3911 non-null   float64\n",
      " 7   conventions  3911 non-null   float64\n",
      "dtypes: float64(6), object(2)\n",
      "memory usage: 244.6+ KB\n"
     ]
    }
   ],
   "source": [
    "train_dataset.info()"
   ]
  },
  {
   "cell_type": "code",
   "execution_count": 9,
   "metadata": {
    "id": "ddqN03sqtxtG"
   },
   "outputs": [],
   "source": [
    "full_text = train_dataset['full_text']\n",
    "cohesion = train_dataset['cohesion']\n",
    "syntax = train_dataset['syntax']\n",
    "vocabulary = train_dataset['vocabulary']\n",
    "phraseology = train_dataset['phraseology']\n",
    "grammar = train_dataset['grammar']\n",
    "conventions = train_dataset['conventions']"
   ]
  },
  {
   "cell_type": "code",
   "execution_count": 10,
   "metadata": {
    "colab": {
     "base_uri": "https://localhost:8080/"
    },
    "id": "PLVeUJnOx-dQ",
    "outputId": "da5aac91-bcc1-4733-a916-29d01f29653d"
   },
   "outputs": [
    {
     "data": {
      "text/plain": [
       "(3911,)"
      ]
     },
     "execution_count": 10,
     "metadata": {},
     "output_type": "execute_result"
    }
   ],
   "source": [
    "full_text.shape"
   ]
  },
  {
   "cell_type": "code",
   "execution_count": 11,
   "metadata": {
    "colab": {
     "base_uri": "https://localhost:8080/"
    },
    "id": "C0kzZaFtDANt",
    "outputId": "8022d569-cf41-4a37-cccc-22aeba299d2b"
   },
   "outputs": [
    {
     "data": {
      "text/plain": [
       "0       3.5\n",
       "1       2.5\n",
       "2       3.0\n",
       "3       4.5\n",
       "4       2.5\n",
       "       ... \n",
       "3906    2.5\n",
       "3907    4.0\n",
       "3908    2.5\n",
       "3909    4.0\n",
       "3910    3.5\n",
       "Name: cohesion, Length: 3911, dtype: float64"
      ]
     },
     "execution_count": 11,
     "metadata": {},
     "output_type": "execute_result"
    }
   ],
   "source": [
    "cohesion"
   ]
  },
  {
   "cell_type": "code",
   "execution_count": 12,
   "metadata": {
    "colab": {
     "base_uri": "https://localhost:8080/"
    },
    "id": "JOxGfUbDArO2",
    "outputId": "ef229e35-0fb0-48f1-e47e-5cf5faaa5ed3"
   },
   "outputs": [
    {
     "data": {
      "text/plain": [
       "array([1. , 1.5, 2. , 2.5, 3. , 3.5, 4. , 4.5, 5. ])"
      ]
     },
     "execution_count": 12,
     "metadata": {},
     "output_type": "execute_result"
    }
   ],
   "source": [
    "np.unique(cohesion)"
   ]
  },
  {
   "cell_type": "code",
   "execution_count": 13,
   "metadata": {},
   "outputs": [],
   "source": [
    "# from nltk.corpus import stopwords\n",
    "# nltk.download()"
   ]
  },
  {
   "cell_type": "code",
   "execution_count": 14,
   "metadata": {
    "colab": {
     "base_uri": "https://localhost:8080/"
    },
    "id": "iTJRTt5oSn_v",
    "outputId": "a5fe0c31-065c-4303-9d00-53c0ec1ed666"
   },
   "outputs": [],
   "source": [
    "from nltk.corpus import stopwords, brown\n",
    "# nltk.download('stopwords')\n",
    "stop_words = stopwords.words('english')"
   ]
  },
  {
   "cell_type": "code",
   "execution_count": 15,
   "metadata": {},
   "outputs": [
    {
     "data": {
      "text/plain": [
       "['The', 'Fulton', 'County', 'Grand', 'Jury', 'said', ...]"
      ]
     },
     "execution_count": 15,
     "metadata": {},
     "output_type": "execute_result"
    }
   ],
   "source": [
    "brown.words()"
   ]
  },
  {
   "cell_type": "code",
   "execution_count": 16,
   "metadata": {
    "id": "q9BuoCMBEa7m"
   },
   "outputs": [],
   "source": [
    "def CleanFeatures(sentences):\n",
    "  sentences = sentences.apply(lambda sequence:\n",
    "                                            [ltrs.lower() for ltrs in sequence if ltrs not in string.punctuation])\n",
    "  sentences = sentences.apply(lambda wrd: ''.join(wrd))\n",
    "  sentences = sentences.apply(lambda sequence:\n",
    "                                            [word for word in sequence.split() if word not in stop_words])\n",
    "  sentences = sentences.apply(lambda wrd: ' '.join(wrd))\n",
    "  return sentences"
   ]
  },
  {
   "cell_type": "code",
   "execution_count": 17,
   "metadata": {
    "id": "4LBClh5fEcRN"
   },
   "outputs": [],
   "source": [
    "full_text = CleanFeatures(full_text)"
   ]
  },
  {
   "cell_type": "code",
   "execution_count": 18,
   "metadata": {
    "colab": {
     "base_uri": "https://localhost:8080/"
    },
    "id": "6UYUxNuOm1I_",
    "outputId": "bb046bb2-064d-415b-ccec-3aa0e87125ae"
   },
   "outputs": [
    {
     "data": {
      "text/plain": [
       "0       think students would benefit learning homebeca...\n",
       "1       problem change let best matter happening chang...\n",
       "2       dear principal u change school policy grade b ...\n",
       "3       best time life become agree greatest accomplis...\n",
       "4       small act kindness impact people change people...\n",
       "                              ...                        \n",
       "3906    believe using cellphones class education us go...\n",
       "3907    working alone students argue decission proyect...\n",
       "3908    problem chance best think quote cant best ever...\n",
       "3909    many people disagree albert schweitzers quote ...\n",
       "3910    think failure main thing people consist goals ...\n",
       "Name: full_text, Length: 3911, dtype: object"
      ]
     },
     "execution_count": 18,
     "metadata": {},
     "output_type": "execute_result"
    }
   ],
   "source": [
    "full_text"
   ]
  },
  {
   "cell_type": "markdown",
   "metadata": {
    "id": "XdBehtR4e52w"
   },
   "source": [
    "#Tokenizer Input Text"
   ]
  },
  {
   "cell_type": "code",
   "execution_count": 19,
   "metadata": {
    "id": "9yWRDGWP4ZDw"
   },
   "outputs": [
    {
     "name": "stderr",
     "output_type": "stream",
     "text": [
      "/home/anonymous/projects/stanlito/lib/python3.10/site-packages/tqdm/auto.py:22: TqdmWarning: IProgress not found. Please update jupyter and ipywidgets. See https://ipywidgets.readthedocs.io/en/stable/user_install.html\n",
      "  from .autonotebook import tqdm as notebook_tqdm\n"
     ]
    }
   ],
   "source": [
    "from transformers import AutoTokenizer"
   ]
  },
  {
   "cell_type": "code",
   "execution_count": 20,
   "metadata": {
    "id": "nsR3Zhmf2wmg"
   },
   "outputs": [],
   "source": [
    "list_words = [len(text.split()) for text in full_text]"
   ]
  },
  {
   "cell_type": "code",
   "execution_count": 21,
   "metadata": {
    "colab": {
     "base_uri": "https://localhost:8080/"
    },
    "id": "hObb8h3E3C2K",
    "outputId": "468ed810-998c-45d2-cc2c-6626789fbcab"
   },
   "outputs": [
    {
     "data": {
      "text/plain": [
       "593"
      ]
     },
     "execution_count": 21,
     "metadata": {},
     "output_type": "execute_result"
    }
   ],
   "source": [
    "seq_len = np.max(list_words)\n",
    "seq_len"
   ]
  },
  {
   "cell_type": "code",
   "execution_count": 22,
   "metadata": {
    "id": "RtXtsqTA3L-a"
   },
   "outputs": [],
   "source": [
    "tokenizer = AutoTokenizer.from_pretrained('bert-base-uncased')"
   ]
  },
  {
   "cell_type": "code",
   "execution_count": 23,
   "metadata": {
    "id": "-n69KgDCr-9q"
   },
   "outputs": [],
   "source": [
    "input_ids = []\n",
    "attention_mask = []"
   ]
  },
  {
   "cell_type": "code",
   "execution_count": 24,
   "metadata": {
    "id": "bMIK11tN3kKD"
   },
   "outputs": [],
   "source": [
    "for index, value in enumerate(full_text):\n",
    "  tokens = tokenizer.encode_plus(value, max_length = seq_len,padding = \"max_length\",\n",
    "                                 truncation = True, return_token_type_ids = True,\n",
    "                                 return_attention_mask = True,\n",
    "                                 return_tensors = 'np')\n",
    "  input_ids.append(tokens['input_ids'])\n",
    "  attention_mask.append(tokens['attention_mask'])"
   ]
  },
  {
   "cell_type": "code",
   "execution_count": 25,
   "metadata": {
    "id": "G48Kkbv8s9_y"
   },
   "outputs": [],
   "source": [
    "input_ids = np.asarray(input_ids)\n",
    "attention_mask = np.asarray(attention_mask)"
   ]
  },
  {
   "cell_type": "code",
   "execution_count": 26,
   "metadata": {
    "colab": {
     "base_uri": "https://localhost:8080/"
    },
    "id": "soJ5yg7A4nxr",
    "outputId": "6201fe54-92ec-4df4-84d2-6d52c3d45ed3"
   },
   "outputs": [
    {
     "data": {
      "text/plain": [
       "(3911, 1, 593)"
      ]
     },
     "execution_count": 26,
     "metadata": {},
     "output_type": "execute_result"
    }
   ],
   "source": [
    "input_ids.shape"
   ]
  },
  {
   "cell_type": "code",
   "execution_count": 27,
   "metadata": {
    "id": "qrSl9Pib4tr6"
   },
   "outputs": [],
   "source": [
    "input_ids = np.reshape(input_ids, (input_ids.shape[0], input_ids.shape[2]))\n",
    "attention_mask = np.reshape(attention_mask, (attention_mask.shape[0], attention_mask.shape[2]))"
   ]
  },
  {
   "cell_type": "code",
   "execution_count": 28,
   "metadata": {
    "colab": {
     "base_uri": "https://localhost:8080/"
    },
    "id": "EA86fPJStSTi",
    "outputId": "912c484a-4b1f-48f1-ad33-e3accebe5a6c"
   },
   "outputs": [
    {
     "data": {
      "text/plain": [
       "(3911, 593)"
      ]
     },
     "execution_count": 28,
     "metadata": {},
     "output_type": "execute_result"
    }
   ],
   "source": [
    "input_ids.shape"
   ]
  },
  {
   "cell_type": "code",
   "execution_count": 29,
   "metadata": {
    "colab": {
     "base_uri": "https://localhost:8080/"
    },
    "id": "2JUb05_rBhEk",
    "outputId": "b0f8a042-e397-408a-b1d8-292cfbc405b4"
   },
   "outputs": [
    {
     "data": {
      "text/plain": [
       "3911"
      ]
     },
     "execution_count": 29,
     "metadata": {},
     "output_type": "execute_result"
    }
   ],
   "source": [
    "len(syntax)"
   ]
  },
  {
   "cell_type": "code",
   "execution_count": 30,
   "metadata": {
    "id": "eIK0p2YHAS5s"
   },
   "outputs": [],
   "source": [
    "syntax = np.asarray(syntax)\n",
    "cohesion = np.asarray(cohesion)\n",
    "vocabulary = np.asarray(vocabulary)\n",
    "phraseology = np.asarray(phraseology)\n",
    "grammar = np.asarray(grammar)\n",
    "conventions = np.asarray(conventions)"
   ]
  },
  {
   "cell_type": "markdown",
   "metadata": {
    "id": "BufP_3KIfBPR"
   },
   "source": [
    "#TFBertModel"
   ]
  },
  {
   "cell_type": "code",
   "execution_count": 31,
   "metadata": {
    "colab": {
     "base_uri": "https://localhost:8080/"
    },
    "id": "GhWRh2Fa6sOr",
    "outputId": "24d3bf3e-78ea-47b4-92b0-d1b6e37add1e"
   },
   "outputs": [
    {
     "name": "stderr",
     "output_type": "stream",
     "text": [
      "2022-09-13 09:52:55.190827: I tensorflow/stream_executor/cuda/cuda_gpu_executor.cc:975] successful NUMA node read from SysFS had negative value (-1), but there must be at least one NUMA node, so returning NUMA node zero\n",
      "2022-09-13 09:52:55.191131: I tensorflow/stream_executor/cuda/cuda_gpu_executor.cc:975] successful NUMA node read from SysFS had negative value (-1), but there must be at least one NUMA node, so returning NUMA node zero\n",
      "2022-09-13 09:52:55.192536: I tensorflow/stream_executor/cuda/cuda_gpu_executor.cc:975] successful NUMA node read from SysFS had negative value (-1), but there must be at least one NUMA node, so returning NUMA node zero\n",
      "2022-09-13 09:52:56.350366: I tensorflow/stream_executor/cuda/cuda_gpu_executor.cc:975] successful NUMA node read from SysFS had negative value (-1), but there must be at least one NUMA node, so returning NUMA node zero\n",
      "2022-09-13 09:52:56.350637: I tensorflow/stream_executor/cuda/cuda_gpu_executor.cc:975] successful NUMA node read from SysFS had negative value (-1), but there must be at least one NUMA node, so returning NUMA node zero\n",
      "2022-09-13 09:52:56.350856: I tensorflow/stream_executor/cuda/cuda_gpu_executor.cc:975] successful NUMA node read from SysFS had negative value (-1), but there must be at least one NUMA node, so returning NUMA node zero\n",
      "2022-09-13 09:52:56.351040: I tensorflow/core/common_runtime/gpu/gpu_device.cc:1532] Created device /job:localhost/replica:0/task:0/device:GPU:0 with 5328 MB memory:  -> device: 0, name: NVIDIA GeForce GTX 1060 6GB, pci bus id: 0000:05:00.0, compute capability: 6.1\n",
      "Some layers from the model checkpoint at bert-base-uncased were not used when initializing TFBertModel: ['mlm___cls', 'nsp___cls']\n",
      "- This IS expected if you are initializing TFBertModel from the checkpoint of a model trained on another task or with another architecture (e.g. initializing a BertForSequenceClassification model from a BertForPreTraining model).\n",
      "- This IS NOT expected if you are initializing TFBertModel from the checkpoint of a model that you expect to be exactly identical (initializing a BertForSequenceClassification model from a BertForSequenceClassification model).\n",
      "All the layers of TFBertModel were initialized from the model checkpoint at bert-base-uncased.\n",
      "If your task is similar to the task the model of the checkpoint was trained on, you can already use TFBertModel for predictions without further training.\n"
     ]
    }
   ],
   "source": [
    "from transformers import TFBertModel\n",
    "bert = TFBertModel.from_pretrained('bert-base-uncased')"
   ]
  },
  {
   "cell_type": "code",
   "execution_count": 32,
   "metadata": {
    "id": "L8E_avSB7OFq"
   },
   "outputs": [],
   "source": [
    "from keras.layers import LSTM, Lambda\n"
   ]
  },
  {
   "cell_type": "code",
   "execution_count": 33,
   "metadata": {},
   "outputs": [],
   "source": [
    "from keras.layers.merging import add, maximum, subtract, minimum"
   ]
  },
  {
   "cell_type": "code",
   "execution_count": 34,
   "metadata": {
    "id": "IHvPatIuYfXM"
   },
   "outputs": [],
   "source": [
    "def resnet(inputs, units):\n",
    "  x = tf.keras.layers.LSTM(units,return_sequences = True, dropout=0.35)(inputs)\n",
    "  return x"
   ]
  },
  {
   "cell_type": "code",
   "execution_count": 35,
   "metadata": {
    "id": "IRDyI-a2AQWF"
   },
   "outputs": [
    {
     "name": "stdout",
     "output_type": "stream",
     "text": [
      "WARNING:tensorflow:Layer lstm_3 will not use cuDNN kernels since it doesn't meet the criteria. It will use a generic GPU kernel as fallback when running on GPU.\n",
      "WARNING:tensorflow:Layer lstm_5 will not use cuDNN kernels since it doesn't meet the criteria. It will use a generic GPU kernel as fallback when running on GPU.\n"
     ]
    }
   ],
   "source": [
    "units = 32\n",
    "input_ids_m = tf.keras.layers.Input(shape = (seq_len, ), dtype = 'int32')\n",
    "attention_mask_n = tf.keras.layers.Input(shape = (seq_len, ),  dtype = 'int32')\n",
    "bert_m = bert(input_ids_m, attention_mask = attention_mask_n)[0]\n",
    "x = resnet(bert_m, units)\n",
    "for stack in range(3):\n",
    "  for block in range(1):\n",
    "    y = resnet(x, units)\n",
    "    if stack > 0 and block == 0:\n",
    "      x = tf.keras.layers.LSTM(units, return_sequences = True, dropout=0.35, recurrent_dropout=0.35)(x)\n",
    "    x = minimum([x, y])\n",
    "  units *=2\n",
    "x1 = tf.keras.layers.GlobalAveragePooling1D()(x)\n",
    "x2 = tf.keras.layers.GlobalMaxPool1D()(x)\n",
    "x = tf.keras.layers.concatenate([x1, x2], name=\"our_param\")\n",
    "y = tf.keras.layers.Dense(1,  name='syntax')(x)\n",
    "y2 = tf.keras.layers.Dense(1, name='cohesion')(x)\n",
    "y3 = tf.keras.layers.Dense(1, name='vocabulary')(x)\n",
    "m = tf.keras.models.Model(inputs = [input_ids_m, attention_mask_n], outputs = [y, y2, y3])      "
   ]
  },
  {
   "cell_type": "code",
   "execution_count": 36,
   "metadata": {
    "id": "Lc1UyDgq9yzb"
   },
   "outputs": [],
   "source": [
    "m.layers[2].trainable = False"
   ]
  },
  {
   "cell_type": "code",
   "execution_count": 37,
   "metadata": {
    "colab": {
     "base_uri": "https://localhost:8080/"
    },
    "id": "5eu3K9wt70ah",
    "outputId": "25509c10-433d-45a6-8e0f-03c05b9cffb0"
   },
   "outputs": [
    {
     "name": "stdout",
     "output_type": "stream",
     "text": [
      "Model: \"model\"\n",
      "__________________________________________________________________________________________________\n",
      " Layer (type)                   Output Shape         Param #     Connected to                     \n",
      "==================================================================================================\n",
      " input_1 (InputLayer)           [(None, 593)]        0           []                               \n",
      "                                                                                                  \n",
      " input_2 (InputLayer)           [(None, 593)]        0           []                               \n",
      "                                                                                                  \n",
      " tf_bert_model (TFBertModel)    TFBaseModelOutputWi  109482240   ['input_1[0][0]',                \n",
      "                                thPoolingAndCrossAt               'input_2[0][0]']                \n",
      "                                tentions(last_hidde                                               \n",
      "                                n_state=(None, 593,                                               \n",
      "                                 768),                                                            \n",
      "                                 pooler_output=(Non                                               \n",
      "                                e, 768),                                                          \n",
      "                                 past_key_values=No                                               \n",
      "                                ne, hidden_states=N                                               \n",
      "                                one, attentions=Non                                               \n",
      "                                e, cross_attentions                                               \n",
      "                                =None)                                                            \n",
      "                                                                                                  \n",
      " lstm (LSTM)                    (None, 593, 32)      102528      ['tf_bert_model[0][0]']          \n",
      "                                                                                                  \n",
      " lstm_1 (LSTM)                  (None, 593, 32)      8320        ['lstm[0][0]']                   \n",
      "                                                                                                  \n",
      " minimum (Minimum)              (None, 593, 32)      0           ['lstm[0][0]',                   \n",
      "                                                                  'lstm_1[0][0]']                 \n",
      "                                                                                                  \n",
      " lstm_3 (LSTM)                  (None, 593, 64)      24832       ['minimum[0][0]']                \n",
      "                                                                                                  \n",
      " lstm_2 (LSTM)                  (None, 593, 64)      24832       ['minimum[0][0]']                \n",
      "                                                                                                  \n",
      " minimum_1 (Minimum)            (None, 593, 64)      0           ['lstm_3[0][0]',                 \n",
      "                                                                  'lstm_2[0][0]']                 \n",
      "                                                                                                  \n",
      " lstm_5 (LSTM)                  (None, 593, 128)     98816       ['minimum_1[0][0]']              \n",
      "                                                                                                  \n",
      " lstm_4 (LSTM)                  (None, 593, 128)     98816       ['minimum_1[0][0]']              \n",
      "                                                                                                  \n",
      " minimum_2 (Minimum)            (None, 593, 128)     0           ['lstm_5[0][0]',                 \n",
      "                                                                  'lstm_4[0][0]']                 \n",
      "                                                                                                  \n",
      " global_average_pooling1d (Glob  (None, 128)         0           ['minimum_2[0][0]']              \n",
      " alAveragePooling1D)                                                                              \n",
      "                                                                                                  \n",
      " global_max_pooling1d (GlobalMa  (None, 128)         0           ['minimum_2[0][0]']              \n",
      " xPooling1D)                                                                                      \n",
      "                                                                                                  \n",
      " our_param (Concatenate)        (None, 256)          0           ['global_average_pooling1d[0][0]'\n",
      "                                                                 , 'global_max_pooling1d[0][0]']  \n",
      "                                                                                                  \n",
      " syntax (Dense)                 (None, 1)            257         ['our_param[0][0]']              \n",
      "                                                                                                  \n",
      " cohesion (Dense)               (None, 1)            257         ['our_param[0][0]']              \n",
      "                                                                                                  \n",
      " vocabulary (Dense)             (None, 1)            257         ['our_param[0][0]']              \n",
      "                                                                                                  \n",
      "==================================================================================================\n",
      "Total params: 109,841,155\n",
      "Trainable params: 358,915\n",
      "Non-trainable params: 109,482,240\n",
      "__________________________________________________________________________________________________\n"
     ]
    }
   ],
   "source": [
    "m.summary()"
   ]
  },
  {
   "cell_type": "code",
   "execution_count": 38,
   "metadata": {
    "colab": {
     "base_uri": "https://localhost:8080/",
     "height": 632
    },
    "id": "_sp1LY21c-E1",
    "outputId": "11090a04-09d8-4711-88d4-cf3d8f3e8bf3"
   },
   "outputs": [
    {
     "data": {
      "image/png": "[encoded data removed]",
      "text/plain": [
       "<IPython.core.display.Image object>"
      ]
     },
     "execution_count": 38,
     "metadata": {},
     "output_type": "execute_result"
    }
   ],
   "source": [
    "tf.keras.utils.plot_model(m, show_shapes=True, \n",
    "                          show_dtype=False, \n",
    "                          show_layer_names=True, \n",
    "                          expand_nested=True, \n",
    "                          show_layer_activations=True)"
   ]
  },
  {
   "cell_type": "code",
   "execution_count": 39,
   "metadata": {
    "id": "IzjtDcPo0pzS"
   },
   "outputs": [],
   "source": [
    "m.compile(loss=\"mse\", optimizer= \"adam\", metrics=['accuracy'])"
   ]
  },
  {
   "cell_type": "code",
   "execution_count": null,
   "metadata": {
    "colab": {
     "base_uri": "https://localhost:8080/"
    },
    "id": "EVW2niSV84yJ",
    "outputId": "f2bf22c7-3ad3-42a9-98e9-1f8eaff3b480"
   },
   "outputs": [
    {
     "name": "stdout",
     "output_type": "stream",
     "text": [
      "Epoch 1/6\n"
     ]
    },
    {
     "name": "stderr",
     "output_type": "stream",
     "text": [
      "2022-09-13 09:53:41.246796: I tensorflow/stream_executor/cuda/cuda_dnn.cc:384] Loaded cuDNN version 8303\n"
     ]
    },
    {
     "name": "stdout",
     "output_type": "stream",
     "text": [
      "3715/3715 [==============================] - ETA: 0s - loss: 1.2063 - syntax_loss: 0.4197 - cohesion_loss: 0.4385 - vocabulary_loss: 0.3481 - syntax_accuracy: 0.0030 - cohesion_accuracy: 0.0027 - vocabulary_accuracy: 5.3836e-04"
     ]
    }
   ],
   "source": [
    "history_training = m.fit([input_ids, attention_mask],\n",
    "                         y = [syntax, cohesion, vocabulary],\n",
    "                         batch_size= 1,\n",
    "                         validation_split = 0.05, \n",
    "                         epochs= 6,\n",
    "                         callbacks = [tf.keras.callbacks.ReduceLROnPlateau(monitor='val_loss', \n",
    "                                                                           factor=0.1, \n",
    "                                                                           mode = 'min',\n",
    "                                                  patience= 1),\n",
    "                             tf.keras.callbacks.EarlyStopping(patience = 2, \n",
    "                                                              monitor = 'val_loss', \n",
    "                                                              mode = 'min', \n",
    "                                                              restore_best_weights=True)])"
   ]
  },
  {
   "cell_type": "code",
   "execution_count": null,
   "metadata": {
    "colab": {
     "base_uri": "https://localhost:8080/"
    },
    "id": "7viE-wROYqE8",
    "outputId": "5b1e3292-c62c-447b-a4c6-af921097711e"
   },
   "outputs": [],
   "source": [
    "m.evaluate([input_ids, attention_mask],\n",
    "                         y = [syntax, cohesion, vocabulary],\n",
    "                         batch_size= 1)"
   ]
  },
  {
   "cell_type": "code",
   "execution_count": null,
   "metadata": {
    "id": "OINHhBz9ZySH"
   },
   "outputs": [],
   "source": [
    "m.save(\"feedbackmodel.h5\")\n",
    "m.save_weights(\"feedbackmodel_weights.h5\")"
   ]
  },
  {
   "cell_type": "markdown",
   "metadata": {
    "id": "zm4Vy_UnfGhX"
   },
   "source": [
    "#Transfer Learning (Bert + ResNet LSTM)"
   ]
  },
  {
   "cell_type": "code",
   "execution_count": null,
   "metadata": {
    "id": "l0VaNcm9Ywsm"
   },
   "outputs": [],
   "source": [
    "import xgboost as xg"
   ]
  },
  {
   "cell_type": "code",
   "execution_count": null,
   "metadata": {
    "id": "B_1NCeYKZSHP"
   },
   "outputs": [],
   "source": [
    "model = tf.keras.models.Model(\n",
    "    m.input, \n",
    "    m.get_layer('our_param').output\n",
    ")"
   ]
  },
  {
   "cell_type": "code",
   "execution_count": null,
   "metadata": {
    "id": "NyvL0IT_e_Cx"
   },
   "outputs": [],
   "source": [
    "x_train = [input_ids[:3300], attention_mask[:3300]]\n",
    "x_test = [input_ids[3300:], attention_mask[3300:]]"
   ]
  },
  {
   "cell_type": "code",
   "execution_count": null,
   "metadata": {
    "id": "gbcUY0Vub714"
   },
   "outputs": [],
   "source": [
    "X_train_features = model.predict(x_train)"
   ]
  },
  {
   "cell_type": "code",
   "execution_count": null,
   "metadata": {
    "id": "Xp2ALpyQhZEC"
   },
   "outputs": [],
   "source": [
    "X_test_features = model.predict(x_test)"
   ]
  },
  {
   "cell_type": "code",
   "execution_count": null,
   "metadata": {
    "colab": {
     "base_uri": "https://localhost:8080/"
    },
    "id": "bja1Rcc5ekT5",
    "outputId": "d74957a4-aa43-4358-f87e-4456afa24ce5"
   },
   "outputs": [],
   "source": [
    "X_train_features.shape"
   ]
  },
  {
   "cell_type": "code",
   "execution_count": null,
   "metadata": {
    "colab": {
     "base_uri": "https://localhost:8080/"
    },
    "id": "OL-TuxXrdzs1",
    "outputId": "dc109791-b3d6-4e1d-ddb3-cfac17903b80"
   },
   "outputs": [],
   "source": [
    "X_test_features.shape"
   ]
  },
  {
   "cell_type": "markdown",
   "metadata": {
    "id": "udNiYt9WeXlX"
   },
   "source": [
    "#Transfer Learning (Bert + ResNet LSTM) with XGBRegressor"
   ]
  },
  {
   "cell_type": "code",
   "execution_count": null,
   "metadata": {
    "id": "5KzZ6Umlkhwz"
   },
   "outputs": [],
   "source": [
    "from sklearn.metrics import mean_squared_error as MSE"
   ]
  },
  {
   "cell_type": "code",
   "execution_count": null,
   "metadata": {
    "id": "E7K33dSBhHl4"
   },
   "outputs": [],
   "source": [
    "def xgboost_syntax(data, x_train, x_test):\n",
    "  data_y_train = data[:3300]\n",
    "  data_y_test = data[3300:]\n",
    "  xgb = xg.XGBRegressor(objective ='reg:squarederror',\n",
    "                  n_estimators = 100)\n",
    "  xgb.fit(x_train, data_y_train)\n",
    "  y_pred = xgb.predict(x_test)\n",
    "  loss_metrics = MSE(data_y_test, y_pred)\n",
    "  return [y_pred, data_y_test, loss_metrics]"
   ]
  },
  {
   "cell_type": "markdown",
   "metadata": {
    "id": "5fe27JDOfZeD"
   },
   "source": [
    "##Syntax Regression"
   ]
  },
  {
   "cell_type": "code",
   "execution_count": null,
   "metadata": {
    "id": "74JIwgPLg-mX"
   },
   "outputs": [],
   "source": [
    "[y_pred, y_true, loss_metrics] = xgboost_syntax(syntax, X_train_features, X_test_features)"
   ]
  },
  {
   "cell_type": "code",
   "execution_count": null,
   "metadata": {
    "colab": {
     "base_uri": "https://localhost:8080/"
    },
    "id": "cS_8bEo9iTrN",
    "outputId": "43d6a3be-801a-464f-d571-6bdae7aa3d1b"
   },
   "outputs": [],
   "source": [
    "loss_metrics"
   ]
  },
  {
   "cell_type": "code",
   "execution_count": null,
   "metadata": {
    "colab": {
     "base_uri": "https://localhost:8080/",
     "height": 990
    },
    "id": "ZTQEqezhifAp",
    "outputId": "f85d8b73-b2e2-4e4e-bff7-b006857379a0"
   },
   "outputs": [],
   "source": [
    "pd.DataFrame({\n",
    "    'y_pred': y_pred,\n",
    "    'y_true': y_true,\n",
    "    'loss': y_pred -  y_true\n",
    "}).head(n= 30)"
   ]
  },
  {
   "cell_type": "markdown",
   "metadata": {
    "id": "5PQuO8OPfffg"
   },
   "source": [
    "##Cohesion Regression"
   ]
  },
  {
   "cell_type": "code",
   "execution_count": null,
   "metadata": {
    "id": "PXgodw8thHTG"
   },
   "outputs": [],
   "source": [
    "[y_pred, y_true, loss_metrics] = xgboost_syntax(cohesion, X_train_features, X_test_features)"
   ]
  },
  {
   "cell_type": "code",
   "execution_count": null,
   "metadata": {
    "colab": {
     "base_uri": "https://localhost:8080/"
    },
    "id": "YEQCkG_7jdpP",
    "outputId": "1c60a04f-94fd-43b7-f64b-b9233f125150"
   },
   "outputs": [],
   "source": [
    "loss_metrics"
   ]
  },
  {
   "cell_type": "code",
   "execution_count": null,
   "metadata": {
    "colab": {
     "base_uri": "https://localhost:8080/",
     "height": 990
    },
    "id": "DCSjyiPzjlDX",
    "outputId": "5ac944e0-430c-44ba-ae19-f2b6a7460677"
   },
   "outputs": [],
   "source": [
    "pd.DataFrame({\n",
    "    'y_pred': y_pred,\n",
    "    'y_true': y_true,\n",
    "    'loss': y_pred -  y_true\n",
    "}).head(n= 30)"
   ]
  },
  {
   "cell_type": "markdown",
   "metadata": {
    "id": "CuLDUQDVfk-o"
   },
   "source": [
    "##Vocabulary Regression"
   ]
  },
  {
   "cell_type": "code",
   "execution_count": 225,
   "metadata": {
    "id": "lsRsYT4Lias-"
   },
   "outputs": [],
   "source": [
    "[y_pred, y_true, loss_metrics] = xgboost_syntax(vocabulary, X_train_features, X_test_features)"
   ]
  },
  {
   "cell_type": "code",
   "execution_count": null,
   "metadata": {},
   "outputs": [],
   "source": []
  },
  {
   "cell_type": "code",
   "execution_count": 226,
   "metadata": {
    "colab": {
     "base_uri": "https://localhost:8080/"
    },
    "id": "mAJ3SvM_jqqH",
    "outputId": "c795c92b-f404-4ffc-a589-ceb07b11c879"
   },
   "outputs": [
    {
     "data": {
      "text/plain": [
       "0.2201188132420945"
      ]
     },
     "execution_count": 226,
     "metadata": {},
     "output_type": "execute_result"
    }
   ],
   "source": [
    "loss_metrics"
   ]
  },
  {
   "cell_type": "code",
   "execution_count": 227,
   "metadata": {
    "colab": {
     "base_uri": "https://localhost:8080/",
     "height": 990
    },
    "id": "nn1_aBzrjz9h",
    "outputId": "27ea53db-f1a4-4708-a5ef-4b2c4f767695"
   },
   "outputs": [
    {
     "data": {
      "text/html": [
       "\n",
       "  <div id=\"df-f65dc446-d8c8-4b2b-b5ee-b6dd8dd8304b\">\n",
       "    <div class=\"colab-df-container\">\n",
       "      <div>\n",
       "<style scoped>\n",
       "    .dataframe tbody tr th:only-of-type {\n",
       "        vertical-align: middle;\n",
       "    }\n",
       "\n",
       "    .dataframe tbody tr th {\n",
       "        vertical-align: top;\n",
       "    }\n",
       "\n",
       "    .dataframe thead th {\n",
       "        text-align: right;\n",
       "    }\n",
       "</style>\n",
       "<table border=\"1\" class=\"dataframe\">\n",
       "  <thead>\n",
       "    <tr style=\"text-align: right;\">\n",
       "      <th></th>\n",
       "      <th>y_pred</th>\n",
       "      <th>y_true</th>\n",
       "      <th>loss</th>\n",
       "    </tr>\n",
       "  </thead>\n",
       "  <tbody>\n",
       "    <tr>\n",
       "      <th>0</th>\n",
       "      <td>3.557647</td>\n",
       "      <td>3.5</td>\n",
       "      <td>0.057647</td>\n",
       "    </tr>\n",
       "    <tr>\n",
       "      <th>1</th>\n",
       "      <td>3.126863</td>\n",
       "      <td>2.5</td>\n",
       "      <td>0.626863</td>\n",
       "    </tr>\n",
       "    <tr>\n",
       "      <th>2</th>\n",
       "      <td>3.010127</td>\n",
       "      <td>3.0</td>\n",
       "      <td>0.010127</td>\n",
       "    </tr>\n",
       "    <tr>\n",
       "      <th>3</th>\n",
       "      <td>2.955162</td>\n",
       "      <td>2.5</td>\n",
       "      <td>0.455162</td>\n",
       "    </tr>\n",
       "    <tr>\n",
       "      <th>4</th>\n",
       "      <td>3.310529</td>\n",
       "      <td>3.0</td>\n",
       "      <td>0.310529</td>\n",
       "    </tr>\n",
       "    <tr>\n",
       "      <th>5</th>\n",
       "      <td>3.127928</td>\n",
       "      <td>3.0</td>\n",
       "      <td>0.127928</td>\n",
       "    </tr>\n",
       "    <tr>\n",
       "      <th>6</th>\n",
       "      <td>2.737059</td>\n",
       "      <td>2.5</td>\n",
       "      <td>0.237059</td>\n",
       "    </tr>\n",
       "    <tr>\n",
       "      <th>7</th>\n",
       "      <td>2.796192</td>\n",
       "      <td>3.5</td>\n",
       "      <td>-0.703808</td>\n",
       "    </tr>\n",
       "    <tr>\n",
       "      <th>8</th>\n",
       "      <td>3.450845</td>\n",
       "      <td>3.0</td>\n",
       "      <td>0.450845</td>\n",
       "    </tr>\n",
       "    <tr>\n",
       "      <th>9</th>\n",
       "      <td>3.245592</td>\n",
       "      <td>3.5</td>\n",
       "      <td>-0.254408</td>\n",
       "    </tr>\n",
       "    <tr>\n",
       "      <th>10</th>\n",
       "      <td>2.777331</td>\n",
       "      <td>2.5</td>\n",
       "      <td>0.277331</td>\n",
       "    </tr>\n",
       "    <tr>\n",
       "      <th>11</th>\n",
       "      <td>2.504651</td>\n",
       "      <td>2.0</td>\n",
       "      <td>0.504651</td>\n",
       "    </tr>\n",
       "    <tr>\n",
       "      <th>12</th>\n",
       "      <td>3.566185</td>\n",
       "      <td>3.5</td>\n",
       "      <td>0.066185</td>\n",
       "    </tr>\n",
       "    <tr>\n",
       "      <th>13</th>\n",
       "      <td>3.096103</td>\n",
       "      <td>3.0</td>\n",
       "      <td>0.096103</td>\n",
       "    </tr>\n",
       "    <tr>\n",
       "      <th>14</th>\n",
       "      <td>2.818860</td>\n",
       "      <td>2.0</td>\n",
       "      <td>0.818860</td>\n",
       "    </tr>\n",
       "    <tr>\n",
       "      <th>15</th>\n",
       "      <td>3.526090</td>\n",
       "      <td>3.5</td>\n",
       "      <td>0.026090</td>\n",
       "    </tr>\n",
       "    <tr>\n",
       "      <th>16</th>\n",
       "      <td>3.456858</td>\n",
       "      <td>3.0</td>\n",
       "      <td>0.456858</td>\n",
       "    </tr>\n",
       "    <tr>\n",
       "      <th>17</th>\n",
       "      <td>3.133145</td>\n",
       "      <td>3.5</td>\n",
       "      <td>-0.366855</td>\n",
       "    </tr>\n",
       "    <tr>\n",
       "      <th>18</th>\n",
       "      <td>2.905829</td>\n",
       "      <td>2.5</td>\n",
       "      <td>0.405829</td>\n",
       "    </tr>\n",
       "    <tr>\n",
       "      <th>19</th>\n",
       "      <td>3.368342</td>\n",
       "      <td>3.5</td>\n",
       "      <td>-0.131658</td>\n",
       "    </tr>\n",
       "    <tr>\n",
       "      <th>20</th>\n",
       "      <td>3.045870</td>\n",
       "      <td>3.0</td>\n",
       "      <td>0.045870</td>\n",
       "    </tr>\n",
       "    <tr>\n",
       "      <th>21</th>\n",
       "      <td>2.918038</td>\n",
       "      <td>3.5</td>\n",
       "      <td>-0.581962</td>\n",
       "    </tr>\n",
       "    <tr>\n",
       "      <th>22</th>\n",
       "      <td>2.842246</td>\n",
       "      <td>3.0</td>\n",
       "      <td>-0.157754</td>\n",
       "    </tr>\n",
       "    <tr>\n",
       "      <th>23</th>\n",
       "      <td>3.017637</td>\n",
       "      <td>4.0</td>\n",
       "      <td>-0.982363</td>\n",
       "    </tr>\n",
       "    <tr>\n",
       "      <th>24</th>\n",
       "      <td>4.046706</td>\n",
       "      <td>4.0</td>\n",
       "      <td>0.046706</td>\n",
       "    </tr>\n",
       "    <tr>\n",
       "      <th>25</th>\n",
       "      <td>2.746681</td>\n",
       "      <td>3.0</td>\n",
       "      <td>-0.253319</td>\n",
       "    </tr>\n",
       "    <tr>\n",
       "      <th>26</th>\n",
       "      <td>3.828246</td>\n",
       "      <td>3.5</td>\n",
       "      <td>0.328246</td>\n",
       "    </tr>\n",
       "    <tr>\n",
       "      <th>27</th>\n",
       "      <td>2.903836</td>\n",
       "      <td>3.0</td>\n",
       "      <td>-0.096164</td>\n",
       "    </tr>\n",
       "    <tr>\n",
       "      <th>28</th>\n",
       "      <td>3.108514</td>\n",
       "      <td>2.5</td>\n",
       "      <td>0.608514</td>\n",
       "    </tr>\n",
       "    <tr>\n",
       "      <th>29</th>\n",
       "      <td>3.254277</td>\n",
       "      <td>3.0</td>\n",
       "      <td>0.254277</td>\n",
       "    </tr>\n",
       "  </tbody>\n",
       "</table>\n",
       "</div>\n",
       "      <button class=\"colab-df-convert\" onclick=\"convertToInteractive('df-f65dc446-d8c8-4b2b-b5ee-b6dd8dd8304b')\"\n",
       "              title=\"Convert this dataframe to an interactive table.\"\n",
       "              style=\"display:none;\">\n",
       "        \n",
       "  <svg xmlns=\"http://www.w3.org/2000/svg\" height=\"24px\"viewBox=\"0 0 24 24\"\n",
       "       width=\"24px\">\n",
       "    <path d=\"M0 0h24v24H0V0z\" fill=\"none\"/>\n",
       "    <path d=\"M18.56 5.44l.94 2.06.94-2.06 2.06-.94-2.06-.94-.94-2.06-.94 2.06-2.06.94zm-11 1L8.5 8.5l.94-2.06 2.06-.94-2.06-.94L8.5 2.5l-.94 2.06-2.06.94zm10 10l.94 2.06.94-2.06 2.06-.94-2.06-.94-.94-2.06-.94 2.06-2.06.94z\"/><path d=\"M17.41 7.96l-1.37-1.37c-.4-.4-.92-.59-1.43-.59-.52 0-1.04.2-1.43.59L10.3 9.45l-7.72 7.72c-.78.78-.78 2.05 0 2.83L4 21.41c.39.39.9.59 1.41.59.51 0 1.02-.2 1.41-.59l7.78-7.78 2.81-2.81c.8-.78.8-2.07 0-2.86zM5.41 20L4 18.59l7.72-7.72 1.47 1.35L5.41 20z\"/>\n",
       "  </svg>\n",
       "      </button>\n",
       "      \n",
       "  <style>\n",
       "    .colab-df-container {\n",
       "      display:flex;\n",
       "      flex-wrap:wrap;\n",
       "      gap: 12px;\n",
       "    }\n",
       "\n",
       "    .colab-df-convert {\n",
       "      background-color: #E8F0FE;\n",
       "      border: none;\n",
       "      border-radius: 50%;\n",
       "      cursor: pointer;\n",
       "      display: none;\n",
       "      fill: #1967D2;\n",
       "      height: 32px;\n",
       "      padding: 0 0 0 0;\n",
       "      width: 32px;\n",
       "    }\n",
       "\n",
       "    .colab-df-convert:hover {\n",
       "      background-color: #E2EBFA;\n",
       "      box-shadow: 0px 1px 2px rgba(60, 64, 67, 0.3), 0px 1px 3px 1px rgba(60, 64, 67, 0.15);\n",
       "      fill: #174EA6;\n",
       "    }\n",
       "\n",
       "    [theme=dark] .colab-df-convert {\n",
       "      background-color: #3B4455;\n",
       "      fill: #D2E3FC;\n",
       "    }\n",
       "\n",
       "    [theme=dark] .colab-df-convert:hover {\n",
       "      background-color: #434B5C;\n",
       "      box-shadow: 0px 1px 3px 1px rgba(0, 0, 0, 0.15);\n",
       "      filter: drop-shadow(0px 1px 2px rgba(0, 0, 0, 0.3));\n",
       "      fill: #FFFFFF;\n",
       "    }\n",
       "  </style>\n",
       "\n",
       "      <script>\n",
       "        const buttonEl =\n",
       "          document.querySelector('#df-f65dc446-d8c8-4b2b-b5ee-b6dd8dd8304b button.colab-df-convert');\n",
       "        buttonEl.style.display =\n",
       "          google.colab.kernel.accessAllowed ? 'block' : 'none';\n",
       "\n",
       "        async function convertToInteractive(key) {\n",
       "          const element = document.querySelector('#df-f65dc446-d8c8-4b2b-b5ee-b6dd8dd8304b');\n",
       "          const dataTable =\n",
       "            await google.colab.kernel.invokeFunction('convertToInteractive',\n",
       "                                                     [key], {});\n",
       "          if (!dataTable) return;\n",
       "\n",
       "          const docLinkHtml = 'Like what you see? Visit the ' +\n",
       "            '<a target=\"_blank\" href=https://colab.research.google.com/notebooks/data_table.ipynb>data table notebook</a>'\n",
       "            + ' to learn more about interactive tables.';\n",
       "          element.innerHTML = '';\n",
       "          dataTable['output_type'] = 'display_data';\n",
       "          await google.colab.output.renderOutput(dataTable, element);\n",
       "          const docLink = document.createElement('div');\n",
       "          docLink.innerHTML = docLinkHtml;\n",
       "          element.appendChild(docLink);\n",
       "        }\n",
       "      </script>\n",
       "    </div>\n",
       "  </div>\n",
       "  "
      ],
      "text/plain": [
       "      y_pred  y_true      loss\n",
       "0   3.557647     3.5  0.057647\n",
       "1   3.126863     2.5  0.626863\n",
       "2   3.010127     3.0  0.010127\n",
       "3   2.955162     2.5  0.455162\n",
       "4   3.310529     3.0  0.310529\n",
       "5   3.127928     3.0  0.127928\n",
       "6   2.737059     2.5  0.237059\n",
       "7   2.796192     3.5 -0.703808\n",
       "8   3.450845     3.0  0.450845\n",
       "9   3.245592     3.5 -0.254408\n",
       "10  2.777331     2.5  0.277331\n",
       "11  2.504651     2.0  0.504651\n",
       "12  3.566185     3.5  0.066185\n",
       "13  3.096103     3.0  0.096103\n",
       "14  2.818860     2.0  0.818860\n",
       "15  3.526090     3.5  0.026090\n",
       "16  3.456858     3.0  0.456858\n",
       "17  3.133145     3.5 -0.366855\n",
       "18  2.905829     2.5  0.405829\n",
       "19  3.368342     3.5 -0.131658\n",
       "20  3.045870     3.0  0.045870\n",
       "21  2.918038     3.5 -0.581962\n",
       "22  2.842246     3.0 -0.157754\n",
       "23  3.017637     4.0 -0.982363\n",
       "24  4.046706     4.0  0.046706\n",
       "25  2.746681     3.0 -0.253319\n",
       "26  3.828246     3.5  0.328246\n",
       "27  2.903836     3.0 -0.096164\n",
       "28  3.108514     2.5  0.608514\n",
       "29  3.254277     3.0  0.254277"
      ]
     },
     "execution_count": 227,
     "metadata": {},
     "output_type": "execute_result"
    }
   ],
   "source": [
    "pd.DataFrame({\n",
    "    'y_pred': y_pred,\n",
    "    'y_true': y_true,\n",
    "    'loss': y_pred -  y_true\n",
    "}).head(n= 30)"
   ]
  },
  {
   "cell_type": "markdown",
   "metadata": {
    "id": "0Z9mCc46frFK"
   },
   "source": [
    "##Phraseology Regression"
   ]
  },
  {
   "cell_type": "code",
   "execution_count": 235,
   "metadata": {
    "id": "orZDiNoRb4WB"
   },
   "outputs": [],
   "source": [
    "[y_pred, y_true, loss_metrics] = xgboost_syntax(phraseology, X_train_features, X_test_features)"
   ]
  },
  {
   "cell_type": "code",
   "execution_count": 236,
   "metadata": {
    "colab": {
     "base_uri": "https://localhost:8080/"
    },
    "id": "Tr62qxuMkDGK",
    "outputId": "c7a63057-be7d-4992-df17-8103683695f0"
   },
   "outputs": [
    {
     "data": {
      "text/plain": [
       "0.279147987968599"
      ]
     },
     "execution_count": 236,
     "metadata": {},
     "output_type": "execute_result"
    }
   ],
   "source": [
    "loss_metrics"
   ]
  },
  {
   "cell_type": "code",
   "execution_count": 237,
   "metadata": {
    "colab": {
     "base_uri": "https://localhost:8080/",
     "height": 990
    },
    "id": "NbtaKXSwf_uh",
    "outputId": "e373563f-aa9e-4ce2-87fa-1bd819ae1e8a"
   },
   "outputs": [
    {
     "data": {
      "text/html": [
       "\n",
       "  <div id=\"df-d4fc8a03-9ffe-4037-aa6b-f232f6afbffa\">\n",
       "    <div class=\"colab-df-container\">\n",
       "      <div>\n",
       "<style scoped>\n",
       "    .dataframe tbody tr th:only-of-type {\n",
       "        vertical-align: middle;\n",
       "    }\n",
       "\n",
       "    .dataframe tbody tr th {\n",
       "        vertical-align: top;\n",
       "    }\n",
       "\n",
       "    .dataframe thead th {\n",
       "        text-align: right;\n",
       "    }\n",
       "</style>\n",
       "<table border=\"1\" class=\"dataframe\">\n",
       "  <thead>\n",
       "    <tr style=\"text-align: right;\">\n",
       "      <th></th>\n",
       "      <th>y_pred</th>\n",
       "      <th>y_true</th>\n",
       "      <th>loss</th>\n",
       "    </tr>\n",
       "  </thead>\n",
       "  <tbody>\n",
       "    <tr>\n",
       "      <th>0</th>\n",
       "      <td>3.559639</td>\n",
       "      <td>4.0</td>\n",
       "      <td>-0.440361</td>\n",
       "    </tr>\n",
       "    <tr>\n",
       "      <th>1</th>\n",
       "      <td>3.021089</td>\n",
       "      <td>3.0</td>\n",
       "      <td>0.021089</td>\n",
       "    </tr>\n",
       "    <tr>\n",
       "      <th>2</th>\n",
       "      <td>2.874880</td>\n",
       "      <td>3.0</td>\n",
       "      <td>-0.125120</td>\n",
       "    </tr>\n",
       "    <tr>\n",
       "      <th>3</th>\n",
       "      <td>2.862811</td>\n",
       "      <td>2.5</td>\n",
       "      <td>0.362811</td>\n",
       "    </tr>\n",
       "    <tr>\n",
       "      <th>4</th>\n",
       "      <td>3.183568</td>\n",
       "      <td>3.0</td>\n",
       "      <td>0.183568</td>\n",
       "    </tr>\n",
       "    <tr>\n",
       "      <th>5</th>\n",
       "      <td>2.489570</td>\n",
       "      <td>2.5</td>\n",
       "      <td>-0.010430</td>\n",
       "    </tr>\n",
       "    <tr>\n",
       "      <th>6</th>\n",
       "      <td>2.529724</td>\n",
       "      <td>2.5</td>\n",
       "      <td>0.029724</td>\n",
       "    </tr>\n",
       "    <tr>\n",
       "      <th>7</th>\n",
       "      <td>2.506747</td>\n",
       "      <td>3.0</td>\n",
       "      <td>-0.493253</td>\n",
       "    </tr>\n",
       "    <tr>\n",
       "      <th>8</th>\n",
       "      <td>3.313673</td>\n",
       "      <td>2.5</td>\n",
       "      <td>0.813673</td>\n",
       "    </tr>\n",
       "    <tr>\n",
       "      <th>9</th>\n",
       "      <td>3.133345</td>\n",
       "      <td>3.0</td>\n",
       "      <td>0.133345</td>\n",
       "    </tr>\n",
       "    <tr>\n",
       "      <th>10</th>\n",
       "      <td>2.793864</td>\n",
       "      <td>2.5</td>\n",
       "      <td>0.293864</td>\n",
       "    </tr>\n",
       "    <tr>\n",
       "      <th>11</th>\n",
       "      <td>1.991235</td>\n",
       "      <td>2.5</td>\n",
       "      <td>-0.508765</td>\n",
       "    </tr>\n",
       "    <tr>\n",
       "      <th>12</th>\n",
       "      <td>3.376294</td>\n",
       "      <td>3.5</td>\n",
       "      <td>-0.123706</td>\n",
       "    </tr>\n",
       "    <tr>\n",
       "      <th>13</th>\n",
       "      <td>2.947071</td>\n",
       "      <td>3.5</td>\n",
       "      <td>-0.552929</td>\n",
       "    </tr>\n",
       "    <tr>\n",
       "      <th>14</th>\n",
       "      <td>2.755894</td>\n",
       "      <td>2.5</td>\n",
       "      <td>0.255894</td>\n",
       "    </tr>\n",
       "    <tr>\n",
       "      <th>15</th>\n",
       "      <td>3.411466</td>\n",
       "      <td>3.0</td>\n",
       "      <td>0.411466</td>\n",
       "    </tr>\n",
       "    <tr>\n",
       "      <th>16</th>\n",
       "      <td>3.358874</td>\n",
       "      <td>3.5</td>\n",
       "      <td>-0.141126</td>\n",
       "    </tr>\n",
       "    <tr>\n",
       "      <th>17</th>\n",
       "      <td>3.167339</td>\n",
       "      <td>3.5</td>\n",
       "      <td>-0.332661</td>\n",
       "    </tr>\n",
       "    <tr>\n",
       "      <th>18</th>\n",
       "      <td>2.750416</td>\n",
       "      <td>2.5</td>\n",
       "      <td>0.250416</td>\n",
       "    </tr>\n",
       "    <tr>\n",
       "      <th>19</th>\n",
       "      <td>3.264067</td>\n",
       "      <td>3.0</td>\n",
       "      <td>0.264067</td>\n",
       "    </tr>\n",
       "    <tr>\n",
       "      <th>20</th>\n",
       "      <td>2.807033</td>\n",
       "      <td>2.0</td>\n",
       "      <td>0.807033</td>\n",
       "    </tr>\n",
       "    <tr>\n",
       "      <th>21</th>\n",
       "      <td>2.744336</td>\n",
       "      <td>3.0</td>\n",
       "      <td>-0.255664</td>\n",
       "    </tr>\n",
       "    <tr>\n",
       "      <th>22</th>\n",
       "      <td>2.670109</td>\n",
       "      <td>3.5</td>\n",
       "      <td>-0.829891</td>\n",
       "    </tr>\n",
       "    <tr>\n",
       "      <th>23</th>\n",
       "      <td>2.912652</td>\n",
       "      <td>4.0</td>\n",
       "      <td>-1.087348</td>\n",
       "    </tr>\n",
       "    <tr>\n",
       "      <th>24</th>\n",
       "      <td>3.975867</td>\n",
       "      <td>3.5</td>\n",
       "      <td>0.475867</td>\n",
       "    </tr>\n",
       "    <tr>\n",
       "      <th>25</th>\n",
       "      <td>2.444421</td>\n",
       "      <td>3.0</td>\n",
       "      <td>-0.555579</td>\n",
       "    </tr>\n",
       "    <tr>\n",
       "      <th>26</th>\n",
       "      <td>3.873044</td>\n",
       "      <td>4.0</td>\n",
       "      <td>-0.126956</td>\n",
       "    </tr>\n",
       "    <tr>\n",
       "      <th>27</th>\n",
       "      <td>2.928387</td>\n",
       "      <td>2.5</td>\n",
       "      <td>0.428387</td>\n",
       "    </tr>\n",
       "    <tr>\n",
       "      <th>28</th>\n",
       "      <td>3.023735</td>\n",
       "      <td>3.0</td>\n",
       "      <td>0.023735</td>\n",
       "    </tr>\n",
       "    <tr>\n",
       "      <th>29</th>\n",
       "      <td>3.204320</td>\n",
       "      <td>2.5</td>\n",
       "      <td>0.704320</td>\n",
       "    </tr>\n",
       "  </tbody>\n",
       "</table>\n",
       "</div>\n",
       "      <button class=\"colab-df-convert\" onclick=\"convertToInteractive('df-d4fc8a03-9ffe-4037-aa6b-f232f6afbffa')\"\n",
       "              title=\"Convert this dataframe to an interactive table.\"\n",
       "              style=\"display:none;\">\n",
       "        \n",
       "  <svg xmlns=\"http://www.w3.org/2000/svg\" height=\"24px\"viewBox=\"0 0 24 24\"\n",
       "       width=\"24px\">\n",
       "    <path d=\"M0 0h24v24H0V0z\" fill=\"none\"/>\n",
       "    <path d=\"M18.56 5.44l.94 2.06.94-2.06 2.06-.94-2.06-.94-.94-2.06-.94 2.06-2.06.94zm-11 1L8.5 8.5l.94-2.06 2.06-.94-2.06-.94L8.5 2.5l-.94 2.06-2.06.94zm10 10l.94 2.06.94-2.06 2.06-.94-2.06-.94-.94-2.06-.94 2.06-2.06.94z\"/><path d=\"M17.41 7.96l-1.37-1.37c-.4-.4-.92-.59-1.43-.59-.52 0-1.04.2-1.43.59L10.3 9.45l-7.72 7.72c-.78.78-.78 2.05 0 2.83L4 21.41c.39.39.9.59 1.41.59.51 0 1.02-.2 1.41-.59l7.78-7.78 2.81-2.81c.8-.78.8-2.07 0-2.86zM5.41 20L4 18.59l7.72-7.72 1.47 1.35L5.41 20z\"/>\n",
       "  </svg>\n",
       "      </button>\n",
       "      \n",
       "  <style>\n",
       "    .colab-df-container {\n",
       "      display:flex;\n",
       "      flex-wrap:wrap;\n",
       "      gap: 12px;\n",
       "    }\n",
       "\n",
       "    .colab-df-convert {\n",
       "      background-color: #E8F0FE;\n",
       "      border: none;\n",
       "      border-radius: 50%;\n",
       "      cursor: pointer;\n",
       "      display: none;\n",
       "      fill: #1967D2;\n",
       "      height: 32px;\n",
       "      padding: 0 0 0 0;\n",
       "      width: 32px;\n",
       "    }\n",
       "\n",
       "    .colab-df-convert:hover {\n",
       "      background-color: #E2EBFA;\n",
       "      box-shadow: 0px 1px 2px rgba(60, 64, 67, 0.3), 0px 1px 3px 1px rgba(60, 64, 67, 0.15);\n",
       "      fill: #174EA6;\n",
       "    }\n",
       "\n",
       "    [theme=dark] .colab-df-convert {\n",
       "      background-color: #3B4455;\n",
       "      fill: #D2E3FC;\n",
       "    }\n",
       "\n",
       "    [theme=dark] .colab-df-convert:hover {\n",
       "      background-color: #434B5C;\n",
       "      box-shadow: 0px 1px 3px 1px rgba(0, 0, 0, 0.15);\n",
       "      filter: drop-shadow(0px 1px 2px rgba(0, 0, 0, 0.3));\n",
       "      fill: #FFFFFF;\n",
       "    }\n",
       "  </style>\n",
       "\n",
       "      <script>\n",
       "        const buttonEl =\n",
       "          document.querySelector('#df-d4fc8a03-9ffe-4037-aa6b-f232f6afbffa button.colab-df-convert');\n",
       "        buttonEl.style.display =\n",
       "          google.colab.kernel.accessAllowed ? 'block' : 'none';\n",
       "\n",
       "        async function convertToInteractive(key) {\n",
       "          const element = document.querySelector('#df-d4fc8a03-9ffe-4037-aa6b-f232f6afbffa');\n",
       "          const dataTable =\n",
       "            await google.colab.kernel.invokeFunction('convertToInteractive',\n",
       "                                                     [key], {});\n",
       "          if (!dataTable) return;\n",
       "\n",
       "          const docLinkHtml = 'Like what you see? Visit the ' +\n",
       "            '<a target=\"_blank\" href=https://colab.research.google.com/notebooks/data_table.ipynb>data table notebook</a>'\n",
       "            + ' to learn more about interactive tables.';\n",
       "          element.innerHTML = '';\n",
       "          dataTable['output_type'] = 'display_data';\n",
       "          await google.colab.output.renderOutput(dataTable, element);\n",
       "          const docLink = document.createElement('div');\n",
       "          docLink.innerHTML = docLinkHtml;\n",
       "          element.appendChild(docLink);\n",
       "        }\n",
       "      </script>\n",
       "    </div>\n",
       "  </div>\n",
       "  "
      ],
      "text/plain": [
       "      y_pred  y_true      loss\n",
       "0   3.559639     4.0 -0.440361\n",
       "1   3.021089     3.0  0.021089\n",
       "2   2.874880     3.0 -0.125120\n",
       "3   2.862811     2.5  0.362811\n",
       "4   3.183568     3.0  0.183568\n",
       "5   2.489570     2.5 -0.010430\n",
       "6   2.529724     2.5  0.029724\n",
       "7   2.506747     3.0 -0.493253\n",
       "8   3.313673     2.5  0.813673\n",
       "9   3.133345     3.0  0.133345\n",
       "10  2.793864     2.5  0.293864\n",
       "11  1.991235     2.5 -0.508765\n",
       "12  3.376294     3.5 -0.123706\n",
       "13  2.947071     3.5 -0.552929\n",
       "14  2.755894     2.5  0.255894\n",
       "15  3.411466     3.0  0.411466\n",
       "16  3.358874     3.5 -0.141126\n",
       "17  3.167339     3.5 -0.332661\n",
       "18  2.750416     2.5  0.250416\n",
       "19  3.264067     3.0  0.264067\n",
       "20  2.807033     2.0  0.807033\n",
       "21  2.744336     3.0 -0.255664\n",
       "22  2.670109     3.5 -0.829891\n",
       "23  2.912652     4.0 -1.087348\n",
       "24  3.975867     3.5  0.475867\n",
       "25  2.444421     3.0 -0.555579\n",
       "26  3.873044     4.0 -0.126956\n",
       "27  2.928387     2.5  0.428387\n",
       "28  3.023735     3.0  0.023735\n",
       "29  3.204320     2.5  0.704320"
      ]
     },
     "execution_count": 237,
     "metadata": {},
     "output_type": "execute_result"
    }
   ],
   "source": [
    "pd.DataFrame({\n",
    "    'y_pred': y_pred,\n",
    "    'y_true': y_true,\n",
    "    'loss': y_pred -  y_true\n",
    "}).head(n= 30)"
   ]
  },
  {
   "cell_type": "markdown",
   "metadata": {
    "id": "n_xwrzA6fyCh"
   },
   "source": [
    "##Grammar Regression"
   ]
  },
  {
   "cell_type": "code",
   "execution_count": 238,
   "metadata": {
    "id": "cdP4V6o3kHdy"
   },
   "outputs": [],
   "source": [
    "[y_pred, y_true, loss_metrics] = xgboost_syntax(grammar, X_train_features, X_test_features)"
   ]
  },
  {
   "cell_type": "code",
   "execution_count": 239,
   "metadata": {
    "colab": {
     "base_uri": "https://localhost:8080/"
    },
    "id": "zWuPHTiRkJ7i",
    "outputId": "566e2c4b-e8a3-4638-a739-19adffc6c040"
   },
   "outputs": [
    {
     "data": {
      "text/plain": [
       "0.3888626417276952"
      ]
     },
     "execution_count": 239,
     "metadata": {},
     "output_type": "execute_result"
    }
   ],
   "source": [
    "loss_metrics"
   ]
  },
  {
   "cell_type": "code",
   "execution_count": 240,
   "metadata": {
    "colab": {
     "base_uri": "https://localhost:8080/",
     "height": 990
    },
    "id": "lv5wmMc-gBea",
    "outputId": "3edb051b-317a-47b8-a337-4a742f808ddf"
   },
   "outputs": [
    {
     "data": {
      "text/html": [
       "\n",
       "  <div id=\"df-5547602d-4325-4828-8fc1-10316972e90b\">\n",
       "    <div class=\"colab-df-container\">\n",
       "      <div>\n",
       "<style scoped>\n",
       "    .dataframe tbody tr th:only-of-type {\n",
       "        vertical-align: middle;\n",
       "    }\n",
       "\n",
       "    .dataframe tbody tr th {\n",
       "        vertical-align: top;\n",
       "    }\n",
       "\n",
       "    .dataframe thead th {\n",
       "        text-align: right;\n",
       "    }\n",
       "</style>\n",
       "<table border=\"1\" class=\"dataframe\">\n",
       "  <thead>\n",
       "    <tr style=\"text-align: right;\">\n",
       "      <th></th>\n",
       "      <th>y_pred</th>\n",
       "      <th>y_true</th>\n",
       "      <th>loss</th>\n",
       "    </tr>\n",
       "  </thead>\n",
       "  <tbody>\n",
       "    <tr>\n",
       "      <th>0</th>\n",
       "      <td>3.505884</td>\n",
       "      <td>4.0</td>\n",
       "      <td>-0.494116</td>\n",
       "    </tr>\n",
       "    <tr>\n",
       "      <th>1</th>\n",
       "      <td>3.017936</td>\n",
       "      <td>3.0</td>\n",
       "      <td>0.017936</td>\n",
       "    </tr>\n",
       "    <tr>\n",
       "      <th>2</th>\n",
       "      <td>2.925714</td>\n",
       "      <td>3.5</td>\n",
       "      <td>-0.574286</td>\n",
       "    </tr>\n",
       "    <tr>\n",
       "      <th>3</th>\n",
       "      <td>2.984320</td>\n",
       "      <td>3.5</td>\n",
       "      <td>-0.515680</td>\n",
       "    </tr>\n",
       "    <tr>\n",
       "      <th>4</th>\n",
       "      <td>3.289282</td>\n",
       "      <td>2.5</td>\n",
       "      <td>0.789282</td>\n",
       "    </tr>\n",
       "    <tr>\n",
       "      <th>5</th>\n",
       "      <td>2.412958</td>\n",
       "      <td>2.5</td>\n",
       "      <td>-0.087042</td>\n",
       "    </tr>\n",
       "    <tr>\n",
       "      <th>6</th>\n",
       "      <td>2.344587</td>\n",
       "      <td>2.0</td>\n",
       "      <td>0.344587</td>\n",
       "    </tr>\n",
       "    <tr>\n",
       "      <th>7</th>\n",
       "      <td>2.526742</td>\n",
       "      <td>3.5</td>\n",
       "      <td>-0.973258</td>\n",
       "    </tr>\n",
       "    <tr>\n",
       "      <th>8</th>\n",
       "      <td>3.353337</td>\n",
       "      <td>2.5</td>\n",
       "      <td>0.853337</td>\n",
       "    </tr>\n",
       "    <tr>\n",
       "      <th>9</th>\n",
       "      <td>3.063531</td>\n",
       "      <td>3.5</td>\n",
       "      <td>-0.436469</td>\n",
       "    </tr>\n",
       "    <tr>\n",
       "      <th>10</th>\n",
       "      <td>2.681858</td>\n",
       "      <td>2.0</td>\n",
       "      <td>0.681858</td>\n",
       "    </tr>\n",
       "    <tr>\n",
       "      <th>11</th>\n",
       "      <td>2.258455</td>\n",
       "      <td>2.5</td>\n",
       "      <td>-0.241545</td>\n",
       "    </tr>\n",
       "    <tr>\n",
       "      <th>12</th>\n",
       "      <td>3.287114</td>\n",
       "      <td>3.0</td>\n",
       "      <td>0.287114</td>\n",
       "    </tr>\n",
       "    <tr>\n",
       "      <th>13</th>\n",
       "      <td>2.915446</td>\n",
       "      <td>3.5</td>\n",
       "      <td>-0.584554</td>\n",
       "    </tr>\n",
       "    <tr>\n",
       "      <th>14</th>\n",
       "      <td>2.723644</td>\n",
       "      <td>2.0</td>\n",
       "      <td>0.723644</td>\n",
       "    </tr>\n",
       "    <tr>\n",
       "      <th>15</th>\n",
       "      <td>3.288476</td>\n",
       "      <td>3.0</td>\n",
       "      <td>0.288476</td>\n",
       "    </tr>\n",
       "    <tr>\n",
       "      <th>16</th>\n",
       "      <td>3.528306</td>\n",
       "      <td>3.0</td>\n",
       "      <td>0.528306</td>\n",
       "    </tr>\n",
       "    <tr>\n",
       "      <th>17</th>\n",
       "      <td>3.158263</td>\n",
       "      <td>2.5</td>\n",
       "      <td>0.658263</td>\n",
       "    </tr>\n",
       "    <tr>\n",
       "      <th>18</th>\n",
       "      <td>2.575980</td>\n",
       "      <td>2.5</td>\n",
       "      <td>0.075980</td>\n",
       "    </tr>\n",
       "    <tr>\n",
       "      <th>19</th>\n",
       "      <td>3.190245</td>\n",
       "      <td>3.0</td>\n",
       "      <td>0.190245</td>\n",
       "    </tr>\n",
       "    <tr>\n",
       "      <th>20</th>\n",
       "      <td>2.618908</td>\n",
       "      <td>2.0</td>\n",
       "      <td>0.618908</td>\n",
       "    </tr>\n",
       "    <tr>\n",
       "      <th>21</th>\n",
       "      <td>2.637298</td>\n",
       "      <td>3.0</td>\n",
       "      <td>-0.362702</td>\n",
       "    </tr>\n",
       "    <tr>\n",
       "      <th>22</th>\n",
       "      <td>2.557502</td>\n",
       "      <td>3.5</td>\n",
       "      <td>-0.942498</td>\n",
       "    </tr>\n",
       "    <tr>\n",
       "      <th>23</th>\n",
       "      <td>2.842303</td>\n",
       "      <td>3.5</td>\n",
       "      <td>-0.657697</td>\n",
       "    </tr>\n",
       "    <tr>\n",
       "      <th>24</th>\n",
       "      <td>3.944310</td>\n",
       "      <td>3.5</td>\n",
       "      <td>0.444310</td>\n",
       "    </tr>\n",
       "    <tr>\n",
       "      <th>25</th>\n",
       "      <td>2.540854</td>\n",
       "      <td>2.0</td>\n",
       "      <td>0.540854</td>\n",
       "    </tr>\n",
       "    <tr>\n",
       "      <th>26</th>\n",
       "      <td>3.696027</td>\n",
       "      <td>3.5</td>\n",
       "      <td>0.196027</td>\n",
       "    </tr>\n",
       "    <tr>\n",
       "      <th>27</th>\n",
       "      <td>2.969586</td>\n",
       "      <td>2.0</td>\n",
       "      <td>0.969586</td>\n",
       "    </tr>\n",
       "    <tr>\n",
       "      <th>28</th>\n",
       "      <td>2.995078</td>\n",
       "      <td>2.5</td>\n",
       "      <td>0.495078</td>\n",
       "    </tr>\n",
       "    <tr>\n",
       "      <th>29</th>\n",
       "      <td>3.129016</td>\n",
       "      <td>2.5</td>\n",
       "      <td>0.629016</td>\n",
       "    </tr>\n",
       "  </tbody>\n",
       "</table>\n",
       "</div>\n",
       "      <button class=\"colab-df-convert\" onclick=\"convertToInteractive('df-5547602d-4325-4828-8fc1-10316972e90b')\"\n",
       "              title=\"Convert this dataframe to an interactive table.\"\n",
       "              style=\"display:none;\">\n",
       "        \n",
       "  <svg xmlns=\"http://www.w3.org/2000/svg\" height=\"24px\"viewBox=\"0 0 24 24\"\n",
       "       width=\"24px\">\n",
       "    <path d=\"M0 0h24v24H0V0z\" fill=\"none\"/>\n",
       "    <path d=\"M18.56 5.44l.94 2.06.94-2.06 2.06-.94-2.06-.94-.94-2.06-.94 2.06-2.06.94zm-11 1L8.5 8.5l.94-2.06 2.06-.94-2.06-.94L8.5 2.5l-.94 2.06-2.06.94zm10 10l.94 2.06.94-2.06 2.06-.94-2.06-.94-.94-2.06-.94 2.06-2.06.94z\"/><path d=\"M17.41 7.96l-1.37-1.37c-.4-.4-.92-.59-1.43-.59-.52 0-1.04.2-1.43.59L10.3 9.45l-7.72 7.72c-.78.78-.78 2.05 0 2.83L4 21.41c.39.39.9.59 1.41.59.51 0 1.02-.2 1.41-.59l7.78-7.78 2.81-2.81c.8-.78.8-2.07 0-2.86zM5.41 20L4 18.59l7.72-7.72 1.47 1.35L5.41 20z\"/>\n",
       "  </svg>\n",
       "      </button>\n",
       "      \n",
       "  <style>\n",
       "    .colab-df-container {\n",
       "      display:flex;\n",
       "      flex-wrap:wrap;\n",
       "      gap: 12px;\n",
       "    }\n",
       "\n",
       "    .colab-df-convert {\n",
       "      background-color: #E8F0FE;\n",
       "      border: none;\n",
       "      border-radius: 50%;\n",
       "      cursor: pointer;\n",
       "      display: none;\n",
       "      fill: #1967D2;\n",
       "      height: 32px;\n",
       "      padding: 0 0 0 0;\n",
       "      width: 32px;\n",
       "    }\n",
       "\n",
       "    .colab-df-convert:hover {\n",
       "      background-color: #E2EBFA;\n",
       "      box-shadow: 0px 1px 2px rgba(60, 64, 67, 0.3), 0px 1px 3px 1px rgba(60, 64, 67, 0.15);\n",
       "      fill: #174EA6;\n",
       "    }\n",
       "\n",
       "    [theme=dark] .colab-df-convert {\n",
       "      background-color: #3B4455;\n",
       "      fill: #D2E3FC;\n",
       "    }\n",
       "\n",
       "    [theme=dark] .colab-df-convert:hover {\n",
       "      background-color: #434B5C;\n",
       "      box-shadow: 0px 1px 3px 1px rgba(0, 0, 0, 0.15);\n",
       "      filter: drop-shadow(0px 1px 2px rgba(0, 0, 0, 0.3));\n",
       "      fill: #FFFFFF;\n",
       "    }\n",
       "  </style>\n",
       "\n",
       "      <script>\n",
       "        const buttonEl =\n",
       "          document.querySelector('#df-5547602d-4325-4828-8fc1-10316972e90b button.colab-df-convert');\n",
       "        buttonEl.style.display =\n",
       "          google.colab.kernel.accessAllowed ? 'block' : 'none';\n",
       "\n",
       "        async function convertToInteractive(key) {\n",
       "          const element = document.querySelector('#df-5547602d-4325-4828-8fc1-10316972e90b');\n",
       "          const dataTable =\n",
       "            await google.colab.kernel.invokeFunction('convertToInteractive',\n",
       "                                                     [key], {});\n",
       "          if (!dataTable) return;\n",
       "\n",
       "          const docLinkHtml = 'Like what you see? Visit the ' +\n",
       "            '<a target=\"_blank\" href=https://colab.research.google.com/notebooks/data_table.ipynb>data table notebook</a>'\n",
       "            + ' to learn more about interactive tables.';\n",
       "          element.innerHTML = '';\n",
       "          dataTable['output_type'] = 'display_data';\n",
       "          await google.colab.output.renderOutput(dataTable, element);\n",
       "          const docLink = document.createElement('div');\n",
       "          docLink.innerHTML = docLinkHtml;\n",
       "          element.appendChild(docLink);\n",
       "        }\n",
       "      </script>\n",
       "    </div>\n",
       "  </div>\n",
       "  "
      ],
      "text/plain": [
       "      y_pred  y_true      loss\n",
       "0   3.505884     4.0 -0.494116\n",
       "1   3.017936     3.0  0.017936\n",
       "2   2.925714     3.5 -0.574286\n",
       "3   2.984320     3.5 -0.515680\n",
       "4   3.289282     2.5  0.789282\n",
       "5   2.412958     2.5 -0.087042\n",
       "6   2.344587     2.0  0.344587\n",
       "7   2.526742     3.5 -0.973258\n",
       "8   3.353337     2.5  0.853337\n",
       "9   3.063531     3.5 -0.436469\n",
       "10  2.681858     2.0  0.681858\n",
       "11  2.258455     2.5 -0.241545\n",
       "12  3.287114     3.0  0.287114\n",
       "13  2.915446     3.5 -0.584554\n",
       "14  2.723644     2.0  0.723644\n",
       "15  3.288476     3.0  0.288476\n",
       "16  3.528306     3.0  0.528306\n",
       "17  3.158263     2.5  0.658263\n",
       "18  2.575980     2.5  0.075980\n",
       "19  3.190245     3.0  0.190245\n",
       "20  2.618908     2.0  0.618908\n",
       "21  2.637298     3.0 -0.362702\n",
       "22  2.557502     3.5 -0.942498\n",
       "23  2.842303     3.5 -0.657697\n",
       "24  3.944310     3.5  0.444310\n",
       "25  2.540854     2.0  0.540854\n",
       "26  3.696027     3.5  0.196027\n",
       "27  2.969586     2.0  0.969586\n",
       "28  2.995078     2.5  0.495078\n",
       "29  3.129016     2.5  0.629016"
      ]
     },
     "execution_count": 240,
     "metadata": {},
     "output_type": "execute_result"
    }
   ],
   "source": [
    "pd.DataFrame({\n",
    "    'y_pred': y_pred,\n",
    "    'y_true': y_true,\n",
    "    'loss': y_pred -  y_true\n",
    "}).head(n= 30)"
   ]
  },
  {
   "cell_type": "markdown",
   "metadata": {
    "id": "RyQ93jL7f3AE"
   },
   "source": [
    "##Conventions Regression"
   ]
  },
  {
   "cell_type": "code",
   "execution_count": 241,
   "metadata": {
    "id": "DqnGTW_LkL4D"
   },
   "outputs": [],
   "source": [
    "[y_pred, y_true, loss_metrics] = xgboost_syntax(conventions, X_train_features, X_test_features)"
   ]
  },
  {
   "cell_type": "code",
   "execution_count": 242,
   "metadata": {
    "colab": {
     "base_uri": "https://localhost:8080/"
    },
    "id": "vxNjxBITkQ2D",
    "outputId": "73a1b482-958d-4dd0-a34a-b949085b97e8"
   },
   "outputs": [
    {
     "data": {
      "text/plain": [
       "0.28148406819585364"
      ]
     },
     "execution_count": 242,
     "metadata": {},
     "output_type": "execute_result"
    }
   ],
   "source": [
    "loss_metrics"
   ]
  },
  {
   "cell_type": "code",
   "execution_count": 243,
   "metadata": {
    "colab": {
     "base_uri": "https://localhost:8080/",
     "height": 990
    },
    "id": "7l8ST_5AgCyg",
    "outputId": "d080ce3a-2120-45f6-d3a0-e294aca7eead"
   },
   "outputs": [
    {
     "data": {
      "text/html": [
       "\n",
       "  <div id=\"df-ad218d65-0493-4a95-ab1c-f0b9f89824e9\">\n",
       "    <div class=\"colab-df-container\">\n",
       "      <div>\n",
       "<style scoped>\n",
       "    .dataframe tbody tr th:only-of-type {\n",
       "        vertical-align: middle;\n",
       "    }\n",
       "\n",
       "    .dataframe tbody tr th {\n",
       "        vertical-align: top;\n",
       "    }\n",
       "\n",
       "    .dataframe thead th {\n",
       "        text-align: right;\n",
       "    }\n",
       "</style>\n",
       "<table border=\"1\" class=\"dataframe\">\n",
       "  <thead>\n",
       "    <tr style=\"text-align: right;\">\n",
       "      <th></th>\n",
       "      <th>y_pred</th>\n",
       "      <th>y_true</th>\n",
       "      <th>loss</th>\n",
       "    </tr>\n",
       "  </thead>\n",
       "  <tbody>\n",
       "    <tr>\n",
       "      <th>0</th>\n",
       "      <td>3.483822</td>\n",
       "      <td>3.0</td>\n",
       "      <td>0.483822</td>\n",
       "    </tr>\n",
       "    <tr>\n",
       "      <th>1</th>\n",
       "      <td>3.190214</td>\n",
       "      <td>2.5</td>\n",
       "      <td>0.690214</td>\n",
       "    </tr>\n",
       "    <tr>\n",
       "      <th>2</th>\n",
       "      <td>2.853128</td>\n",
       "      <td>3.5</td>\n",
       "      <td>-0.646872</td>\n",
       "    </tr>\n",
       "    <tr>\n",
       "      <th>3</th>\n",
       "      <td>2.777188</td>\n",
       "      <td>3.5</td>\n",
       "      <td>-0.722812</td>\n",
       "    </tr>\n",
       "    <tr>\n",
       "      <th>4</th>\n",
       "      <td>3.238925</td>\n",
       "      <td>2.5</td>\n",
       "      <td>0.738925</td>\n",
       "    </tr>\n",
       "    <tr>\n",
       "      <th>5</th>\n",
       "      <td>2.639908</td>\n",
       "      <td>2.5</td>\n",
       "      <td>0.139908</td>\n",
       "    </tr>\n",
       "    <tr>\n",
       "      <th>6</th>\n",
       "      <td>2.406075</td>\n",
       "      <td>3.0</td>\n",
       "      <td>-0.593925</td>\n",
       "    </tr>\n",
       "    <tr>\n",
       "      <th>7</th>\n",
       "      <td>2.300741</td>\n",
       "      <td>3.0</td>\n",
       "      <td>-0.699259</td>\n",
       "    </tr>\n",
       "    <tr>\n",
       "      <th>8</th>\n",
       "      <td>3.399169</td>\n",
       "      <td>2.5</td>\n",
       "      <td>0.899169</td>\n",
       "    </tr>\n",
       "    <tr>\n",
       "      <th>9</th>\n",
       "      <td>3.128091</td>\n",
       "      <td>3.0</td>\n",
       "      <td>0.128091</td>\n",
       "    </tr>\n",
       "    <tr>\n",
       "      <th>10</th>\n",
       "      <td>2.631543</td>\n",
       "      <td>3.0</td>\n",
       "      <td>-0.368457</td>\n",
       "    </tr>\n",
       "    <tr>\n",
       "      <th>11</th>\n",
       "      <td>2.164017</td>\n",
       "      <td>2.0</td>\n",
       "      <td>0.164017</td>\n",
       "    </tr>\n",
       "    <tr>\n",
       "      <th>12</th>\n",
       "      <td>3.481812</td>\n",
       "      <td>3.5</td>\n",
       "      <td>-0.018188</td>\n",
       "    </tr>\n",
       "    <tr>\n",
       "      <th>13</th>\n",
       "      <td>2.931417</td>\n",
       "      <td>2.5</td>\n",
       "      <td>0.431417</td>\n",
       "    </tr>\n",
       "    <tr>\n",
       "      <th>14</th>\n",
       "      <td>2.804427</td>\n",
       "      <td>3.0</td>\n",
       "      <td>-0.195573</td>\n",
       "    </tr>\n",
       "    <tr>\n",
       "      <th>15</th>\n",
       "      <td>3.092263</td>\n",
       "      <td>4.0</td>\n",
       "      <td>-0.907737</td>\n",
       "    </tr>\n",
       "    <tr>\n",
       "      <th>16</th>\n",
       "      <td>3.686530</td>\n",
       "      <td>4.5</td>\n",
       "      <td>-0.813470</td>\n",
       "    </tr>\n",
       "    <tr>\n",
       "      <th>17</th>\n",
       "      <td>3.315806</td>\n",
       "      <td>3.0</td>\n",
       "      <td>0.315806</td>\n",
       "    </tr>\n",
       "    <tr>\n",
       "      <th>18</th>\n",
       "      <td>2.888179</td>\n",
       "      <td>2.5</td>\n",
       "      <td>0.388179</td>\n",
       "    </tr>\n",
       "    <tr>\n",
       "      <th>19</th>\n",
       "      <td>3.090271</td>\n",
       "      <td>3.0</td>\n",
       "      <td>0.090271</td>\n",
       "    </tr>\n",
       "    <tr>\n",
       "      <th>20</th>\n",
       "      <td>2.990332</td>\n",
       "      <td>2.5</td>\n",
       "      <td>0.490332</td>\n",
       "    </tr>\n",
       "    <tr>\n",
       "      <th>21</th>\n",
       "      <td>2.394998</td>\n",
       "      <td>2.5</td>\n",
       "      <td>-0.105002</td>\n",
       "    </tr>\n",
       "    <tr>\n",
       "      <th>22</th>\n",
       "      <td>2.282842</td>\n",
       "      <td>3.0</td>\n",
       "      <td>-0.717158</td>\n",
       "    </tr>\n",
       "    <tr>\n",
       "      <th>23</th>\n",
       "      <td>2.890845</td>\n",
       "      <td>3.5</td>\n",
       "      <td>-0.609155</td>\n",
       "    </tr>\n",
       "    <tr>\n",
       "      <th>24</th>\n",
       "      <td>3.865985</td>\n",
       "      <td>3.5</td>\n",
       "      <td>0.365985</td>\n",
       "    </tr>\n",
       "    <tr>\n",
       "      <th>25</th>\n",
       "      <td>2.525534</td>\n",
       "      <td>2.5</td>\n",
       "      <td>0.025534</td>\n",
       "    </tr>\n",
       "    <tr>\n",
       "      <th>26</th>\n",
       "      <td>3.711207</td>\n",
       "      <td>3.5</td>\n",
       "      <td>0.211207</td>\n",
       "    </tr>\n",
       "    <tr>\n",
       "      <th>27</th>\n",
       "      <td>3.119321</td>\n",
       "      <td>2.5</td>\n",
       "      <td>0.619321</td>\n",
       "    </tr>\n",
       "    <tr>\n",
       "      <th>28</th>\n",
       "      <td>2.845467</td>\n",
       "      <td>2.0</td>\n",
       "      <td>0.845467</td>\n",
       "    </tr>\n",
       "    <tr>\n",
       "      <th>29</th>\n",
       "      <td>3.261374</td>\n",
       "      <td>3.5</td>\n",
       "      <td>-0.238626</td>\n",
       "    </tr>\n",
       "  </tbody>\n",
       "</table>\n",
       "</div>\n",
       "      <button class=\"colab-df-convert\" onclick=\"convertToInteractive('df-ad218d65-0493-4a95-ab1c-f0b9f89824e9')\"\n",
       "              title=\"Convert this dataframe to an interactive table.\"\n",
       "              style=\"display:none;\">\n",
       "        \n",
       "  <svg xmlns=\"http://www.w3.org/2000/svg\" height=\"24px\"viewBox=\"0 0 24 24\"\n",
       "       width=\"24px\">\n",
       "    <path d=\"M0 0h24v24H0V0z\" fill=\"none\"/>\n",
       "    <path d=\"M18.56 5.44l.94 2.06.94-2.06 2.06-.94-2.06-.94-.94-2.06-.94 2.06-2.06.94zm-11 1L8.5 8.5l.94-2.06 2.06-.94-2.06-.94L8.5 2.5l-.94 2.06-2.06.94zm10 10l.94 2.06.94-2.06 2.06-.94-2.06-.94-.94-2.06-.94 2.06-2.06.94z\"/><path d=\"M17.41 7.96l-1.37-1.37c-.4-.4-.92-.59-1.43-.59-.52 0-1.04.2-1.43.59L10.3 9.45l-7.72 7.72c-.78.78-.78 2.05 0 2.83L4 21.41c.39.39.9.59 1.41.59.51 0 1.02-.2 1.41-.59l7.78-7.78 2.81-2.81c.8-.78.8-2.07 0-2.86zM5.41 20L4 18.59l7.72-7.72 1.47 1.35L5.41 20z\"/>\n",
       "  </svg>\n",
       "      </button>\n",
       "      \n",
       "  <style>\n",
       "    .colab-df-container {\n",
       "      display:flex;\n",
       "      flex-wrap:wrap;\n",
       "      gap: 12px;\n",
       "    }\n",
       "\n",
       "    .colab-df-convert {\n",
       "      background-color: #E8F0FE;\n",
       "      border: none;\n",
       "      border-radius: 50%;\n",
       "      cursor: pointer;\n",
       "      display: none;\n",
       "      fill: #1967D2;\n",
       "      height: 32px;\n",
       "      padding: 0 0 0 0;\n",
       "      width: 32px;\n",
       "    }\n",
       "\n",
       "    .colab-df-convert:hover {\n",
       "      background-color: #E2EBFA;\n",
       "      box-shadow: 0px 1px 2px rgba(60, 64, 67, 0.3), 0px 1px 3px 1px rgba(60, 64, 67, 0.15);\n",
       "      fill: #174EA6;\n",
       "    }\n",
       "\n",
       "    [theme=dark] .colab-df-convert {\n",
       "      background-color: #3B4455;\n",
       "      fill: #D2E3FC;\n",
       "    }\n",
       "\n",
       "    [theme=dark] .colab-df-convert:hover {\n",
       "      background-color: #434B5C;\n",
       "      box-shadow: 0px 1px 3px 1px rgba(0, 0, 0, 0.15);\n",
       "      filter: drop-shadow(0px 1px 2px rgba(0, 0, 0, 0.3));\n",
       "      fill: #FFFFFF;\n",
       "    }\n",
       "  </style>\n",
       "\n",
       "      <script>\n",
       "        const buttonEl =\n",
       "          document.querySelector('#df-ad218d65-0493-4a95-ab1c-f0b9f89824e9 button.colab-df-convert');\n",
       "        buttonEl.style.display =\n",
       "          google.colab.kernel.accessAllowed ? 'block' : 'none';\n",
       "\n",
       "        async function convertToInteractive(key) {\n",
       "          const element = document.querySelector('#df-ad218d65-0493-4a95-ab1c-f0b9f89824e9');\n",
       "          const dataTable =\n",
       "            await google.colab.kernel.invokeFunction('convertToInteractive',\n",
       "                                                     [key], {});\n",
       "          if (!dataTable) return;\n",
       "\n",
       "          const docLinkHtml = 'Like what you see? Visit the ' +\n",
       "            '<a target=\"_blank\" href=https://colab.research.google.com/notebooks/data_table.ipynb>data table notebook</a>'\n",
       "            + ' to learn more about interactive tables.';\n",
       "          element.innerHTML = '';\n",
       "          dataTable['output_type'] = 'display_data';\n",
       "          await google.colab.output.renderOutput(dataTable, element);\n",
       "          const docLink = document.createElement('div');\n",
       "          docLink.innerHTML = docLinkHtml;\n",
       "          element.appendChild(docLink);\n",
       "        }\n",
       "      </script>\n",
       "    </div>\n",
       "  </div>\n",
       "  "
      ],
      "text/plain": [
       "      y_pred  y_true      loss\n",
       "0   3.483822     3.0  0.483822\n",
       "1   3.190214     2.5  0.690214\n",
       "2   2.853128     3.5 -0.646872\n",
       "3   2.777188     3.5 -0.722812\n",
       "4   3.238925     2.5  0.738925\n",
       "5   2.639908     2.5  0.139908\n",
       "6   2.406075     3.0 -0.593925\n",
       "7   2.300741     3.0 -0.699259\n",
       "8   3.399169     2.5  0.899169\n",
       "9   3.128091     3.0  0.128091\n",
       "10  2.631543     3.0 -0.368457\n",
       "11  2.164017     2.0  0.164017\n",
       "12  3.481812     3.5 -0.018188\n",
       "13  2.931417     2.5  0.431417\n",
       "14  2.804427     3.0 -0.195573\n",
       "15  3.092263     4.0 -0.907737\n",
       "16  3.686530     4.5 -0.813470\n",
       "17  3.315806     3.0  0.315806\n",
       "18  2.888179     2.5  0.388179\n",
       "19  3.090271     3.0  0.090271\n",
       "20  2.990332     2.5  0.490332\n",
       "21  2.394998     2.5 -0.105002\n",
       "22  2.282842     3.0 -0.717158\n",
       "23  2.890845     3.5 -0.609155\n",
       "24  3.865985     3.5  0.365985\n",
       "25  2.525534     2.5  0.025534\n",
       "26  3.711207     3.5  0.211207\n",
       "27  3.119321     2.5  0.619321\n",
       "28  2.845467     2.0  0.845467\n",
       "29  3.261374     3.5 -0.238626"
      ]
     },
     "execution_count": 243,
     "metadata": {},
     "output_type": "execute_result"
    }
   ],
   "source": [
    "pd.DataFrame({\n",
    "    'y_pred': y_pred,\n",
    "    'y_true': y_true,\n",
    "    'loss': y_pred -  y_true\n",
    "}).head(n= 30)"
   ]
  }
 ],
 "metadata": {
  "accelerator": "GPU",
  "colab": {
   "collapsed_sections": [],
   "machine_shape": "hm",
   "provenance": []
  },
  "gpuClass": "standard",
  "kernelspec": {
   "display_name": "Python 3 (ipykernel)",
   "language": "python",
   "name": "python3"
  },
  "language_info": {
   "codemirror_mode": {
    "name": "ipython",
    "version": 3
   },
   "file_extension": ".py",
   "mimetype": "text/x-python",
   "name": "python",
   "nbconvert_exporter": "python",
   "pygments_lexer": "ipython3",
   "version": "3.10.4"
  }
 },
 "nbformat": 4,
 "nbformat_minor": 4
}
