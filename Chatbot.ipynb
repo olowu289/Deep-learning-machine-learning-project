{
  "nbformat": 4,
  "nbformat_minor": 0,
  "metadata": {
    "colab": {
      "provenance": [],
      "collapsed_sections": [],
      "authorship_tag": "ABX9TyO5mXDuiSZN+w9XVaDYTrj6",
      "include_colab_link": true
    },
    "kernelspec": {
      "name": "python3",
      "display_name": "Python 3"
    },
    "language_info": {
      "name": "python"
    }
  },
  "cells": [
    {
      "cell_type": "markdown",
      "metadata": {
        "id": "view-in-github",
        "colab_type": "text"
      },
      "source": [
        "<a href=\"https://colab.research.google.com/github/olowu289/Deep-learning-machine-learning-project/blob/main/Chatbot.ipynb\" target=\"_parent\"><img src=\"https://colab.research.google.com/assets/colab-badge.svg\" alt=\"Open In Colab\"/></a>"
      ]
    },
    {
      "cell_type": "code",
      "execution_count": null,
      "metadata": {
        "id": "f92zhVSnDl2k"
      },
      "outputs": [],
      "source": [
        "#  importing the usefull liabaries\n",
        "import tensorflow as tf\n",
        "import json\n",
        "import numpy as np\n",
        "import pandas as pd\n",
        "import matplotlib.pyplot as plt"
      ]
    },
    {
      "cell_type": "code",
      "source": [
        "# Downloding our dataset\n",
        "!wget https://gist.githubusercontent.com/amilavm/f9d370b96e893206688117532328f21e/raw/7409cf368c1d71e63a2fcbe1095d0117205f54d3/intents.json"
      ],
      "metadata": {
        "colab": {
          "base_uri": "https://localhost:8080/"
        },
        "id": "lh9lXYFTMbvH",
        "outputId": "93360afc-921c-4ed1-f772-3a6ec8d029e4"
      },
      "execution_count": null,
      "outputs": [
        {
          "output_type": "stream",
          "name": "stdout",
          "text": [
            "--2022-09-10 10:04:40--  https://gist.githubusercontent.com/amilavm/f9d370b96e893206688117532328f21e/raw/7409cf368c1d71e63a2fcbe1095d0117205f54d3/intents.json\n",
            "Resolving gist.githubusercontent.com (gist.githubusercontent.com)... 185.199.109.133, 185.199.108.133, 185.199.111.133, ...\n",
            "Connecting to gist.githubusercontent.com (gist.githubusercontent.com)|185.199.109.133|:443... connected.\n",
            "HTTP request sent, awaiting response... 200 OK\n",
            "Length: 1907 (1.9K) [text/plain]\n",
            "Saving to: ‘intents.json.4’\n",
            "\n",
            "intents.json.4      100%[===================>]   1.86K  --.-KB/s    in 0s      \n",
            "\n",
            "2022-09-10 10:04:40 (37.9 MB/s) - ‘intents.json.4’ saved [1907/1907]\n",
            "\n"
          ]
        }
      ]
    },
    {
      "cell_type": "code",
      "source": [
        "data= open(\"/content/intents.json\")\n",
        "\n",
        "chatbot_data= json.load(data)"
      ],
      "metadata": {
        "id": "Ncc75alCMk43"
      },
      "execution_count": null,
      "outputs": []
    },
    {
      "cell_type": "code",
      "source": [
        "chatbot_data"
      ],
      "metadata": {
        "colab": {
          "base_uri": "https://localhost:8080/"
        },
        "id": "YAY1gjFkRd2u",
        "outputId": "45399632-4f2d-40c5-ea3e-8d03c3aac06d"
      },
      "execution_count": null,
      "outputs": [
        {
          "output_type": "execute_result",
          "data": {
            "text/plain": [
              "{'intents': [{'tag': 'greeting',\n",
              "   'patterns': ['Hi', 'Hey', 'Is anyone there?', 'Hello', 'Hay'],\n",
              "   'responses': ['Hello', 'Hi', 'Hi there']},\n",
              "  {'tag': 'goodbye',\n",
              "   'patterns': ['Bye', 'See you later', 'Goodbye'],\n",
              "   'responses': ['See you later', 'Have a nice day', 'Bye! Come back again']},\n",
              "  {'tag': 'thanks',\n",
              "   'patterns': ['Thanks',\n",
              "    'Thank you',\n",
              "    \"That's helpful\",\n",
              "    'Thanks for the help'],\n",
              "   'responses': ['Happy to help!',\n",
              "    'Any time!',\n",
              "    'My pleasure',\n",
              "    \"You're most welcome!\"]},\n",
              "  {'tag': 'about',\n",
              "   'patterns': ['Who are you?', 'What are you?', 'Who you are?'],\n",
              "   'responses': ['I.m Joana, your bot assistant',\n",
              "    \"I'm Joana, an Artificial Intelligent bot\"]},\n",
              "  {'tag': 'name',\n",
              "   'patterns': ['what is your name',\n",
              "    'what should I call you',\n",
              "    'whats your name?'],\n",
              "   'responses': ['You can call me Joana.',\n",
              "    \"I'm Joana!\",\n",
              "    'Just call me as Joana']},\n",
              "  {'tag': 'help',\n",
              "   'patterns': ['Could you help me?',\n",
              "    'give me a hand please',\n",
              "    'Can you help?',\n",
              "    'What can you do for me?',\n",
              "    'I need a support',\n",
              "    'I need a help',\n",
              "    'support me please'],\n",
              "   'responses': ['Tell me how can assist you',\n",
              "    'Tell me your problem to assist you',\n",
              "    'Yes Sure, How can I support you']},\n",
              "  {'tag': 'createaccount',\n",
              "   'patterns': ['I need to create a new account',\n",
              "    'how to open a new account',\n",
              "    'I want to create an account',\n",
              "    'can you create an account for me',\n",
              "    'how to open a new account'],\n",
              "   'responses': ['You can just easily create a new account from our web site',\n",
              "    'Just go to our web site and follow the guidelines to create a new account']},\n",
              "  {'tag': 'complaint',\n",
              "   'patterns': ['have a complaint',\n",
              "    'I want to raise a complaint',\n",
              "    'there is a complaint about a service'],\n",
              "   'responses': ['Please provide us your complaint in order to assist you',\n",
              "    'Please mention your complaint, we will reach you and sorry for any inconvenience caused']}]}"
            ]
          },
          "metadata": {},
          "execution_count": 374
        }
      ]
    },
    {
      "cell_type": "code",
      "source": [
        "# Getting all data to a list\n",
        "tag= []\n",
        "patterns= []\n",
        "responses= {}\n",
        "\n",
        "for intent in chatbot_data[\"intents\"]:\n",
        "  responses[intent[\"tag\"]]= intent[\"responses\"]\n",
        "  for lines in intent[\"patterns\"]:\n",
        "    patterns.append(lines)\n",
        "    tag.append(intent[\"tag\"])\n",
        "\n"
      ],
      "metadata": {
        "id": "xVf7Vx0TRgoR"
      },
      "execution_count": null,
      "outputs": []
    },
    {
      "cell_type": "code",
      "source": [
        "chatbot_df= pd.DataFrame({\"inputs\": patterns,\n",
        "                          \"tags\": tag})\n",
        "\n",
        "\n",
        "chatbot_df"
      ],
      "metadata": {
        "colab": {
          "base_uri": "https://localhost:8080/",
          "height": 1000
        },
        "id": "44orLygLVY6j",
        "outputId": "d9125dba-7970-4473-c0a7-062791f3ffc8"
      },
      "execution_count": null,
      "outputs": [
        {
          "output_type": "execute_result",
          "data": {
            "text/plain": [
              "                                  inputs           tags\n",
              "0                                     Hi       greeting\n",
              "1                                    Hey       greeting\n",
              "2                       Is anyone there?       greeting\n",
              "3                                  Hello       greeting\n",
              "4                                    Hay       greeting\n",
              "5                                    Bye        goodbye\n",
              "6                          See you later        goodbye\n",
              "7                                Goodbye        goodbye\n",
              "8                                 Thanks         thanks\n",
              "9                              Thank you         thanks\n",
              "10                        That's helpful         thanks\n",
              "11                   Thanks for the help         thanks\n",
              "12                          Who are you?          about\n",
              "13                         What are you?          about\n",
              "14                          Who you are?          about\n",
              "15                     what is your name           name\n",
              "16                what should I call you           name\n",
              "17                      whats your name?           name\n",
              "18                    Could you help me?           help\n",
              "19                 give me a hand please           help\n",
              "20                         Can you help?           help\n",
              "21               What can you do for me?           help\n",
              "22                      I need a support           help\n",
              "23                         I need a help           help\n",
              "24                     support me please           help\n",
              "25        I need to create a new account  createaccount\n",
              "26             how to open a new account  createaccount\n",
              "27           I want to create an account  createaccount\n",
              "28      can you create an account for me  createaccount\n",
              "29             how to open a new account  createaccount\n",
              "30                      have a complaint      complaint\n",
              "31           I want to raise a complaint      complaint\n",
              "32  there is a complaint about a service      complaint"
            ],
            "text/html": [
              "\n",
              "  <div id=\"df-74bad17b-4838-433b-a8a6-bd223521e6e2\">\n",
              "    <div class=\"colab-df-container\">\n",
              "      <div>\n",
              "<style scoped>\n",
              "    .dataframe tbody tr th:only-of-type {\n",
              "        vertical-align: middle;\n",
              "    }\n",
              "\n",
              "    .dataframe tbody tr th {\n",
              "        vertical-align: top;\n",
              "    }\n",
              "\n",
              "    .dataframe thead th {\n",
              "        text-align: right;\n",
              "    }\n",
              "</style>\n",
              "<table border=\"1\" class=\"dataframe\">\n",
              "  <thead>\n",
              "    <tr style=\"text-align: right;\">\n",
              "      <th></th>\n",
              "      <th>inputs</th>\n",
              "      <th>tags</th>\n",
              "    </tr>\n",
              "  </thead>\n",
              "  <tbody>\n",
              "    <tr>\n",
              "      <th>0</th>\n",
              "      <td>Hi</td>\n",
              "      <td>greeting</td>\n",
              "    </tr>\n",
              "    <tr>\n",
              "      <th>1</th>\n",
              "      <td>Hey</td>\n",
              "      <td>greeting</td>\n",
              "    </tr>\n",
              "    <tr>\n",
              "      <th>2</th>\n",
              "      <td>Is anyone there?</td>\n",
              "      <td>greeting</td>\n",
              "    </tr>\n",
              "    <tr>\n",
              "      <th>3</th>\n",
              "      <td>Hello</td>\n",
              "      <td>greeting</td>\n",
              "    </tr>\n",
              "    <tr>\n",
              "      <th>4</th>\n",
              "      <td>Hay</td>\n",
              "      <td>greeting</td>\n",
              "    </tr>\n",
              "    <tr>\n",
              "      <th>5</th>\n",
              "      <td>Bye</td>\n",
              "      <td>goodbye</td>\n",
              "    </tr>\n",
              "    <tr>\n",
              "      <th>6</th>\n",
              "      <td>See you later</td>\n",
              "      <td>goodbye</td>\n",
              "    </tr>\n",
              "    <tr>\n",
              "      <th>7</th>\n",
              "      <td>Goodbye</td>\n",
              "      <td>goodbye</td>\n",
              "    </tr>\n",
              "    <tr>\n",
              "      <th>8</th>\n",
              "      <td>Thanks</td>\n",
              "      <td>thanks</td>\n",
              "    </tr>\n",
              "    <tr>\n",
              "      <th>9</th>\n",
              "      <td>Thank you</td>\n",
              "      <td>thanks</td>\n",
              "    </tr>\n",
              "    <tr>\n",
              "      <th>10</th>\n",
              "      <td>That's helpful</td>\n",
              "      <td>thanks</td>\n",
              "    </tr>\n",
              "    <tr>\n",
              "      <th>11</th>\n",
              "      <td>Thanks for the help</td>\n",
              "      <td>thanks</td>\n",
              "    </tr>\n",
              "    <tr>\n",
              "      <th>12</th>\n",
              "      <td>Who are you?</td>\n",
              "      <td>about</td>\n",
              "    </tr>\n",
              "    <tr>\n",
              "      <th>13</th>\n",
              "      <td>What are you?</td>\n",
              "      <td>about</td>\n",
              "    </tr>\n",
              "    <tr>\n",
              "      <th>14</th>\n",
              "      <td>Who you are?</td>\n",
              "      <td>about</td>\n",
              "    </tr>\n",
              "    <tr>\n",
              "      <th>15</th>\n",
              "      <td>what is your name</td>\n",
              "      <td>name</td>\n",
              "    </tr>\n",
              "    <tr>\n",
              "      <th>16</th>\n",
              "      <td>what should I call you</td>\n",
              "      <td>name</td>\n",
              "    </tr>\n",
              "    <tr>\n",
              "      <th>17</th>\n",
              "      <td>whats your name?</td>\n",
              "      <td>name</td>\n",
              "    </tr>\n",
              "    <tr>\n",
              "      <th>18</th>\n",
              "      <td>Could you help me?</td>\n",
              "      <td>help</td>\n",
              "    </tr>\n",
              "    <tr>\n",
              "      <th>19</th>\n",
              "      <td>give me a hand please</td>\n",
              "      <td>help</td>\n",
              "    </tr>\n",
              "    <tr>\n",
              "      <th>20</th>\n",
              "      <td>Can you help?</td>\n",
              "      <td>help</td>\n",
              "    </tr>\n",
              "    <tr>\n",
              "      <th>21</th>\n",
              "      <td>What can you do for me?</td>\n",
              "      <td>help</td>\n",
              "    </tr>\n",
              "    <tr>\n",
              "      <th>22</th>\n",
              "      <td>I need a support</td>\n",
              "      <td>help</td>\n",
              "    </tr>\n",
              "    <tr>\n",
              "      <th>23</th>\n",
              "      <td>I need a help</td>\n",
              "      <td>help</td>\n",
              "    </tr>\n",
              "    <tr>\n",
              "      <th>24</th>\n",
              "      <td>support me please</td>\n",
              "      <td>help</td>\n",
              "    </tr>\n",
              "    <tr>\n",
              "      <th>25</th>\n",
              "      <td>I need to create a new account</td>\n",
              "      <td>createaccount</td>\n",
              "    </tr>\n",
              "    <tr>\n",
              "      <th>26</th>\n",
              "      <td>how to open a new account</td>\n",
              "      <td>createaccount</td>\n",
              "    </tr>\n",
              "    <tr>\n",
              "      <th>27</th>\n",
              "      <td>I want to create an account</td>\n",
              "      <td>createaccount</td>\n",
              "    </tr>\n",
              "    <tr>\n",
              "      <th>28</th>\n",
              "      <td>can you create an account for me</td>\n",
              "      <td>createaccount</td>\n",
              "    </tr>\n",
              "    <tr>\n",
              "      <th>29</th>\n",
              "      <td>how to open a new account</td>\n",
              "      <td>createaccount</td>\n",
              "    </tr>\n",
              "    <tr>\n",
              "      <th>30</th>\n",
              "      <td>have a complaint</td>\n",
              "      <td>complaint</td>\n",
              "    </tr>\n",
              "    <tr>\n",
              "      <th>31</th>\n",
              "      <td>I want to raise a complaint</td>\n",
              "      <td>complaint</td>\n",
              "    </tr>\n",
              "    <tr>\n",
              "      <th>32</th>\n",
              "      <td>there is a complaint about a service</td>\n",
              "      <td>complaint</td>\n",
              "    </tr>\n",
              "  </tbody>\n",
              "</table>\n",
              "</div>\n",
              "      <button class=\"colab-df-convert\" onclick=\"convertToInteractive('df-74bad17b-4838-433b-a8a6-bd223521e6e2')\"\n",
              "              title=\"Convert this dataframe to an interactive table.\"\n",
              "              style=\"display:none;\">\n",
              "        \n",
              "  <svg xmlns=\"http://www.w3.org/2000/svg\" height=\"24px\"viewBox=\"0 0 24 24\"\n",
              "       width=\"24px\">\n",
              "    <path d=\"M0 0h24v24H0V0z\" fill=\"none\"/>\n",
              "    <path d=\"M18.56 5.44l.94 2.06.94-2.06 2.06-.94-2.06-.94-.94-2.06-.94 2.06-2.06.94zm-11 1L8.5 8.5l.94-2.06 2.06-.94-2.06-.94L8.5 2.5l-.94 2.06-2.06.94zm10 10l.94 2.06.94-2.06 2.06-.94-2.06-.94-.94-2.06-.94 2.06-2.06.94z\"/><path d=\"M17.41 7.96l-1.37-1.37c-.4-.4-.92-.59-1.43-.59-.52 0-1.04.2-1.43.59L10.3 9.45l-7.72 7.72c-.78.78-.78 2.05 0 2.83L4 21.41c.39.39.9.59 1.41.59.51 0 1.02-.2 1.41-.59l7.78-7.78 2.81-2.81c.8-.78.8-2.07 0-2.86zM5.41 20L4 18.59l7.72-7.72 1.47 1.35L5.41 20z\"/>\n",
              "  </svg>\n",
              "      </button>\n",
              "      \n",
              "  <style>\n",
              "    .colab-df-container {\n",
              "      display:flex;\n",
              "      flex-wrap:wrap;\n",
              "      gap: 12px;\n",
              "    }\n",
              "\n",
              "    .colab-df-convert {\n",
              "      background-color: #E8F0FE;\n",
              "      border: none;\n",
              "      border-radius: 50%;\n",
              "      cursor: pointer;\n",
              "      display: none;\n",
              "      fill: #1967D2;\n",
              "      height: 32px;\n",
              "      padding: 0 0 0 0;\n",
              "      width: 32px;\n",
              "    }\n",
              "\n",
              "    .colab-df-convert:hover {\n",
              "      background-color: #E2EBFA;\n",
              "      box-shadow: 0px 1px 2px rgba(60, 64, 67, 0.3), 0px 1px 3px 1px rgba(60, 64, 67, 0.15);\n",
              "      fill: #174EA6;\n",
              "    }\n",
              "\n",
              "    [theme=dark] .colab-df-convert {\n",
              "      background-color: #3B4455;\n",
              "      fill: #D2E3FC;\n",
              "    }\n",
              "\n",
              "    [theme=dark] .colab-df-convert:hover {\n",
              "      background-color: #434B5C;\n",
              "      box-shadow: 0px 1px 3px 1px rgba(0, 0, 0, 0.15);\n",
              "      filter: drop-shadow(0px 1px 2px rgba(0, 0, 0, 0.3));\n",
              "      fill: #FFFFFF;\n",
              "    }\n",
              "  </style>\n",
              "\n",
              "      <script>\n",
              "        const buttonEl =\n",
              "          document.querySelector('#df-74bad17b-4838-433b-a8a6-bd223521e6e2 button.colab-df-convert');\n",
              "        buttonEl.style.display =\n",
              "          google.colab.kernel.accessAllowed ? 'block' : 'none';\n",
              "\n",
              "        async function convertToInteractive(key) {\n",
              "          const element = document.querySelector('#df-74bad17b-4838-433b-a8a6-bd223521e6e2');\n",
              "          const dataTable =\n",
              "            await google.colab.kernel.invokeFunction('convertToInteractive',\n",
              "                                                     [key], {});\n",
              "          if (!dataTable) return;\n",
              "\n",
              "          const docLinkHtml = 'Like what you see? Visit the ' +\n",
              "            '<a target=\"_blank\" href=https://colab.research.google.com/notebooks/data_table.ipynb>data table notebook</a>'\n",
              "            + ' to learn more about interactive tables.';\n",
              "          element.innerHTML = '';\n",
              "          dataTable['output_type'] = 'display_data';\n",
              "          await google.colab.output.renderOutput(dataTable, element);\n",
              "          const docLink = document.createElement('div');\n",
              "          docLink.innerHTML = docLinkHtml;\n",
              "          element.appendChild(docLink);\n",
              "        }\n",
              "      </script>\n",
              "    </div>\n",
              "  </div>\n",
              "  "
            ]
          },
          "metadata": {},
          "execution_count": 376
        }
      ]
    },
    {
      "cell_type": "code",
      "source": [
        "# Let shuffle our data set\n",
        "chatbot_df= chatbot_df.sample(frac=1, random_state=42)\n",
        "chatbot_df"
      ],
      "metadata": {
        "colab": {
          "base_uri": "https://localhost:8080/",
          "height": 1000
        },
        "id": "NT7s-rbHnj-8",
        "outputId": "ffd77fcc-66c5-4db5-faf6-83a63d402710"
      },
      "execution_count": null,
      "outputs": [
        {
          "output_type": "execute_result",
          "data": {
            "text/plain": [
              "                                  inputs           tags\n",
              "31           I want to raise a complaint      complaint\n",
              "15                     what is your name           name\n",
              "26             how to open a new account  createaccount\n",
              "17                      whats your name?           name\n",
              "8                                 Thanks         thanks\n",
              "9                              Thank you         thanks\n",
              "19                 give me a hand please           help\n",
              "21               What can you do for me?           help\n",
              "12                          Who are you?          about\n",
              "0                                     Hi       greeting\n",
              "4                                    Hay       greeting\n",
              "16                what should I call you           name\n",
              "5                                    Bye        goodbye\n",
              "13                         What are you?          about\n",
              "11                   Thanks for the help         thanks\n",
              "24                     support me please           help\n",
              "1                                    Hey       greeting\n",
              "2                       Is anyone there?       greeting\n",
              "29             how to open a new account  createaccount\n",
              "3                                  Hello       greeting\n",
              "27           I want to create an account  createaccount\n",
              "23                         I need a help           help\n",
              "30                      have a complaint      complaint\n",
              "22                      I need a support           help\n",
              "18                    Could you help me?           help\n",
              "25        I need to create a new account  createaccount\n",
              "6                          See you later        goodbye\n",
              "20                         Can you help?           help\n",
              "32  there is a complaint about a service      complaint\n",
              "7                                Goodbye        goodbye\n",
              "10                        That's helpful         thanks\n",
              "14                          Who you are?          about\n",
              "28      can you create an account for me  createaccount"
            ],
            "text/html": [
              "\n",
              "  <div id=\"df-07ab59d9-8ac4-4a90-af01-63b974e9c4b7\">\n",
              "    <div class=\"colab-df-container\">\n",
              "      <div>\n",
              "<style scoped>\n",
              "    .dataframe tbody tr th:only-of-type {\n",
              "        vertical-align: middle;\n",
              "    }\n",
              "\n",
              "    .dataframe tbody tr th {\n",
              "        vertical-align: top;\n",
              "    }\n",
              "\n",
              "    .dataframe thead th {\n",
              "        text-align: right;\n",
              "    }\n",
              "</style>\n",
              "<table border=\"1\" class=\"dataframe\">\n",
              "  <thead>\n",
              "    <tr style=\"text-align: right;\">\n",
              "      <th></th>\n",
              "      <th>inputs</th>\n",
              "      <th>tags</th>\n",
              "    </tr>\n",
              "  </thead>\n",
              "  <tbody>\n",
              "    <tr>\n",
              "      <th>31</th>\n",
              "      <td>I want to raise a complaint</td>\n",
              "      <td>complaint</td>\n",
              "    </tr>\n",
              "    <tr>\n",
              "      <th>15</th>\n",
              "      <td>what is your name</td>\n",
              "      <td>name</td>\n",
              "    </tr>\n",
              "    <tr>\n",
              "      <th>26</th>\n",
              "      <td>how to open a new account</td>\n",
              "      <td>createaccount</td>\n",
              "    </tr>\n",
              "    <tr>\n",
              "      <th>17</th>\n",
              "      <td>whats your name?</td>\n",
              "      <td>name</td>\n",
              "    </tr>\n",
              "    <tr>\n",
              "      <th>8</th>\n",
              "      <td>Thanks</td>\n",
              "      <td>thanks</td>\n",
              "    </tr>\n",
              "    <tr>\n",
              "      <th>9</th>\n",
              "      <td>Thank you</td>\n",
              "      <td>thanks</td>\n",
              "    </tr>\n",
              "    <tr>\n",
              "      <th>19</th>\n",
              "      <td>give me a hand please</td>\n",
              "      <td>help</td>\n",
              "    </tr>\n",
              "    <tr>\n",
              "      <th>21</th>\n",
              "      <td>What can you do for me?</td>\n",
              "      <td>help</td>\n",
              "    </tr>\n",
              "    <tr>\n",
              "      <th>12</th>\n",
              "      <td>Who are you?</td>\n",
              "      <td>about</td>\n",
              "    </tr>\n",
              "    <tr>\n",
              "      <th>0</th>\n",
              "      <td>Hi</td>\n",
              "      <td>greeting</td>\n",
              "    </tr>\n",
              "    <tr>\n",
              "      <th>4</th>\n",
              "      <td>Hay</td>\n",
              "      <td>greeting</td>\n",
              "    </tr>\n",
              "    <tr>\n",
              "      <th>16</th>\n",
              "      <td>what should I call you</td>\n",
              "      <td>name</td>\n",
              "    </tr>\n",
              "    <tr>\n",
              "      <th>5</th>\n",
              "      <td>Bye</td>\n",
              "      <td>goodbye</td>\n",
              "    </tr>\n",
              "    <tr>\n",
              "      <th>13</th>\n",
              "      <td>What are you?</td>\n",
              "      <td>about</td>\n",
              "    </tr>\n",
              "    <tr>\n",
              "      <th>11</th>\n",
              "      <td>Thanks for the help</td>\n",
              "      <td>thanks</td>\n",
              "    </tr>\n",
              "    <tr>\n",
              "      <th>24</th>\n",
              "      <td>support me please</td>\n",
              "      <td>help</td>\n",
              "    </tr>\n",
              "    <tr>\n",
              "      <th>1</th>\n",
              "      <td>Hey</td>\n",
              "      <td>greeting</td>\n",
              "    </tr>\n",
              "    <tr>\n",
              "      <th>2</th>\n",
              "      <td>Is anyone there?</td>\n",
              "      <td>greeting</td>\n",
              "    </tr>\n",
              "    <tr>\n",
              "      <th>29</th>\n",
              "      <td>how to open a new account</td>\n",
              "      <td>createaccount</td>\n",
              "    </tr>\n",
              "    <tr>\n",
              "      <th>3</th>\n",
              "      <td>Hello</td>\n",
              "      <td>greeting</td>\n",
              "    </tr>\n",
              "    <tr>\n",
              "      <th>27</th>\n",
              "      <td>I want to create an account</td>\n",
              "      <td>createaccount</td>\n",
              "    </tr>\n",
              "    <tr>\n",
              "      <th>23</th>\n",
              "      <td>I need a help</td>\n",
              "      <td>help</td>\n",
              "    </tr>\n",
              "    <tr>\n",
              "      <th>30</th>\n",
              "      <td>have a complaint</td>\n",
              "      <td>complaint</td>\n",
              "    </tr>\n",
              "    <tr>\n",
              "      <th>22</th>\n",
              "      <td>I need a support</td>\n",
              "      <td>help</td>\n",
              "    </tr>\n",
              "    <tr>\n",
              "      <th>18</th>\n",
              "      <td>Could you help me?</td>\n",
              "      <td>help</td>\n",
              "    </tr>\n",
              "    <tr>\n",
              "      <th>25</th>\n",
              "      <td>I need to create a new account</td>\n",
              "      <td>createaccount</td>\n",
              "    </tr>\n",
              "    <tr>\n",
              "      <th>6</th>\n",
              "      <td>See you later</td>\n",
              "      <td>goodbye</td>\n",
              "    </tr>\n",
              "    <tr>\n",
              "      <th>20</th>\n",
              "      <td>Can you help?</td>\n",
              "      <td>help</td>\n",
              "    </tr>\n",
              "    <tr>\n",
              "      <th>32</th>\n",
              "      <td>there is a complaint about a service</td>\n",
              "      <td>complaint</td>\n",
              "    </tr>\n",
              "    <tr>\n",
              "      <th>7</th>\n",
              "      <td>Goodbye</td>\n",
              "      <td>goodbye</td>\n",
              "    </tr>\n",
              "    <tr>\n",
              "      <th>10</th>\n",
              "      <td>That's helpful</td>\n",
              "      <td>thanks</td>\n",
              "    </tr>\n",
              "    <tr>\n",
              "      <th>14</th>\n",
              "      <td>Who you are?</td>\n",
              "      <td>about</td>\n",
              "    </tr>\n",
              "    <tr>\n",
              "      <th>28</th>\n",
              "      <td>can you create an account for me</td>\n",
              "      <td>createaccount</td>\n",
              "    </tr>\n",
              "  </tbody>\n",
              "</table>\n",
              "</div>\n",
              "      <button class=\"colab-df-convert\" onclick=\"convertToInteractive('df-07ab59d9-8ac4-4a90-af01-63b974e9c4b7')\"\n",
              "              title=\"Convert this dataframe to an interactive table.\"\n",
              "              style=\"display:none;\">\n",
              "        \n",
              "  <svg xmlns=\"http://www.w3.org/2000/svg\" height=\"24px\"viewBox=\"0 0 24 24\"\n",
              "       width=\"24px\">\n",
              "    <path d=\"M0 0h24v24H0V0z\" fill=\"none\"/>\n",
              "    <path d=\"M18.56 5.44l.94 2.06.94-2.06 2.06-.94-2.06-.94-.94-2.06-.94 2.06-2.06.94zm-11 1L8.5 8.5l.94-2.06 2.06-.94-2.06-.94L8.5 2.5l-.94 2.06-2.06.94zm10 10l.94 2.06.94-2.06 2.06-.94-2.06-.94-.94-2.06-.94 2.06-2.06.94z\"/><path d=\"M17.41 7.96l-1.37-1.37c-.4-.4-.92-.59-1.43-.59-.52 0-1.04.2-1.43.59L10.3 9.45l-7.72 7.72c-.78.78-.78 2.05 0 2.83L4 21.41c.39.39.9.59 1.41.59.51 0 1.02-.2 1.41-.59l7.78-7.78 2.81-2.81c.8-.78.8-2.07 0-2.86zM5.41 20L4 18.59l7.72-7.72 1.47 1.35L5.41 20z\"/>\n",
              "  </svg>\n",
              "      </button>\n",
              "      \n",
              "  <style>\n",
              "    .colab-df-container {\n",
              "      display:flex;\n",
              "      flex-wrap:wrap;\n",
              "      gap: 12px;\n",
              "    }\n",
              "\n",
              "    .colab-df-convert {\n",
              "      background-color: #E8F0FE;\n",
              "      border: none;\n",
              "      border-radius: 50%;\n",
              "      cursor: pointer;\n",
              "      display: none;\n",
              "      fill: #1967D2;\n",
              "      height: 32px;\n",
              "      padding: 0 0 0 0;\n",
              "      width: 32px;\n",
              "    }\n",
              "\n",
              "    .colab-df-convert:hover {\n",
              "      background-color: #E2EBFA;\n",
              "      box-shadow: 0px 1px 2px rgba(60, 64, 67, 0.3), 0px 1px 3px 1px rgba(60, 64, 67, 0.15);\n",
              "      fill: #174EA6;\n",
              "    }\n",
              "\n",
              "    [theme=dark] .colab-df-convert {\n",
              "      background-color: #3B4455;\n",
              "      fill: #D2E3FC;\n",
              "    }\n",
              "\n",
              "    [theme=dark] .colab-df-convert:hover {\n",
              "      background-color: #434B5C;\n",
              "      box-shadow: 0px 1px 3px 1px rgba(0, 0, 0, 0.15);\n",
              "      filter: drop-shadow(0px 1px 2px rgba(0, 0, 0, 0.3));\n",
              "      fill: #FFFFFF;\n",
              "    }\n",
              "  </style>\n",
              "\n",
              "      <script>\n",
              "        const buttonEl =\n",
              "          document.querySelector('#df-07ab59d9-8ac4-4a90-af01-63b974e9c4b7 button.colab-df-convert');\n",
              "        buttonEl.style.display =\n",
              "          google.colab.kernel.accessAllowed ? 'block' : 'none';\n",
              "\n",
              "        async function convertToInteractive(key) {\n",
              "          const element = document.querySelector('#df-07ab59d9-8ac4-4a90-af01-63b974e9c4b7');\n",
              "          const dataTable =\n",
              "            await google.colab.kernel.invokeFunction('convertToInteractive',\n",
              "                                                     [key], {});\n",
              "          if (!dataTable) return;\n",
              "\n",
              "          const docLinkHtml = 'Like what you see? Visit the ' +\n",
              "            '<a target=\"_blank\" href=https://colab.research.google.com/notebooks/data_table.ipynb>data table notebook</a>'\n",
              "            + ' to learn more about interactive tables.';\n",
              "          element.innerHTML = '';\n",
              "          dataTable['output_type'] = 'display_data';\n",
              "          await google.colab.output.renderOutput(dataTable, element);\n",
              "          const docLink = document.createElement('div');\n",
              "          docLink.innerHTML = docLinkHtml;\n",
              "          element.appendChild(docLink);\n",
              "        }\n",
              "      </script>\n",
              "    </div>\n",
              "  </div>\n",
              "  "
            ]
          },
          "metadata": {},
          "execution_count": 377
        }
      ]
    },
    {
      "cell_type": "code",
      "source": [
        "# Let visualise our tags\n",
        "chatbot_df[\"tags\"].value_counts()"
      ],
      "metadata": {
        "colab": {
          "base_uri": "https://localhost:8080/"
        },
        "id": "ozngbeWvVuVQ",
        "outputId": "9a146f49-9ed0-4760-e5fc-be157510ecce"
      },
      "execution_count": null,
      "outputs": [
        {
          "output_type": "execute_result",
          "data": {
            "text/plain": [
              "help             7\n",
              "createaccount    5\n",
              "greeting         5\n",
              "thanks           4\n",
              "complaint        3\n",
              "name             3\n",
              "about            3\n",
              "goodbye          3\n",
              "Name: tags, dtype: int64"
            ]
          },
          "metadata": {},
          "execution_count": 378
        }
      ]
    },
    {
      "cell_type": "code",
      "source": [
        "# let create our train_sentence\n",
        "train_sentence= chatbot_df.inputs.to_list()\n",
        "train_sentence"
      ],
      "metadata": {
        "colab": {
          "base_uri": "https://localhost:8080/"
        },
        "id": "7ViK6snFWkkc",
        "outputId": "8ca288ef-33e6-4638-e87b-e1b665efa353"
      },
      "execution_count": null,
      "outputs": [
        {
          "output_type": "execute_result",
          "data": {
            "text/plain": [
              "['I want to raise a complaint',\n",
              " 'what is your name',\n",
              " 'how to open a new account',\n",
              " 'whats your name?',\n",
              " 'Thanks',\n",
              " 'Thank you',\n",
              " 'give me a hand please',\n",
              " 'What can you do for me?',\n",
              " 'Who are you?',\n",
              " 'Hi',\n",
              " 'Hay',\n",
              " 'what should I call you',\n",
              " 'Bye',\n",
              " 'What are you?',\n",
              " 'Thanks for the help',\n",
              " 'support me please',\n",
              " 'Hey',\n",
              " 'Is anyone there?',\n",
              " 'how to open a new account',\n",
              " 'Hello',\n",
              " 'I want to create an account',\n",
              " 'I need a help',\n",
              " 'have a complaint',\n",
              " 'I need a support',\n",
              " 'Could you help me?',\n",
              " 'I need to create a new account',\n",
              " 'See you later',\n",
              " 'Can you help?',\n",
              " 'there is a complaint about a service',\n",
              " 'Goodbye',\n",
              " \"That's helpful\",\n",
              " 'Who you are?',\n",
              " 'can you create an account for me']"
            ]
          },
          "metadata": {},
          "execution_count": 379
        }
      ]
    },
    {
      "cell_type": "code",
      "source": [
        "sentence_lenght= [len(sentence.split()) for sentence in train_sentence]\n",
        "total_sentence_len= np.sum(sentence_lenght)\n",
        "mean_sentence= np.mean(sentence_lenght)\n",
        "\n",
        "total_sentence_len, mean_sentence"
      ],
      "metadata": {
        "colab": {
          "base_uri": "https://localhost:8080/"
        },
        "id": "gBMWqYQoYXpG",
        "outputId": "6b3d70eb-1bf1-4526-80e2-5b92d4b67620"
      },
      "execution_count": null,
      "outputs": [
        {
          "output_type": "execute_result",
          "data": {
            "text/plain": [
              "(119, 3.606060606060606)"
            ]
          },
          "metadata": {},
          "execution_count": 380
        }
      ]
    },
    {
      "cell_type": "code",
      "source": [
        "# Let have a visual of our sentence distribution\n",
        "plt.hist(sentence_lenght, bins=6);"
      ],
      "metadata": {
        "colab": {
          "base_uri": "https://localhost:8080/",
          "height": 265
        },
        "id": "NT4W9Pb9ZOgw",
        "outputId": "d50f6911-9dfe-459a-b62c-4cf2a1267072"
      },
      "execution_count": null,
      "outputs": [
        {
          "output_type": "display_data",
          "data": {
            "text/plain": [
              "<Figure size 432x288 with 1 Axes>"
            ],
            "image/png": "[encoded data removed]"
          },
          "metadata": {
            "needs_background": "light"
          }
        }
      ]
    },
    {
      "cell_type": "code",
      "source": [
        "# Let check the 95 persentile\n",
        "output_dim = int(np.percentile(sentence_lenght, 95))\n",
        "output_dim"
      ],
      "metadata": {
        "colab": {
          "base_uri": "https://localhost:8080/"
        },
        "id": "AHdscO8cZ9fU",
        "outputId": "96e5438b-9222-4815-872a-8dede6ea8c80"
      },
      "execution_count": null,
      "outputs": [
        {
          "output_type": "execute_result",
          "data": {
            "text/plain": [
              "7"
            ]
          },
          "metadata": {},
          "execution_count": 382
        }
      ]
    },
    {
      "cell_type": "code",
      "source": [
        "from tensorflow.keras.layers import TextVectorization\n"
      ],
      "metadata": {
        "id": "AUsV6hSVam92"
      },
      "execution_count": null,
      "outputs": []
    },
    {
      "cell_type": "code",
      "source": [
        "max_tokens= 100\n",
        "text_vectorizer= TextVectorization(max_tokens= max_tokens,\n",
        "                                   output_sequence_length=output_dim,\n",
        "                                   name= \"text_vectotion_layer\")\n",
        "text_vectorizer\n",
        "\n",
        "text_vectorizer.adapt(train_sentence)"
      ],
      "metadata": {
        "id": "O50PMReocBPR"
      },
      "execution_count": null,
      "outputs": []
    },
    {
      "cell_type": "code",
      "source": [
        "# Let test our text_vectorizer layer with a random sentence\n",
        "import random\n",
        "\n",
        "random_sentence= random.choice(train_sentence)\n",
        "vector_random_sentence= text_vectorizer([random_sentence])\n",
        "\n",
        "print(f\"Random sentence before passing it into our text vectorization layer:\\n {random_sentence}\\n\")\n",
        "print(f\"Random sentence after passing it into our text vectorization layer:\\n {vector_random_sentence}\\n\")\n",
        "print(f\"Shape of random sentence after passing it through our text vectorizer layer:\\n {vector_random_sentence.shape} \")"
      ],
      "metadata": {
        "colab": {
          "base_uri": "https://localhost:8080/"
        },
        "id": "-h8flimsdGmX",
        "outputId": "48e6cb74-b846-4b63-e413-be43426d61e7"
      },
      "execution_count": null,
      "outputs": [
        {
          "output_type": "stream",
          "name": "stdout",
          "text": [
            "Random sentence before passing it into our text vectorization layer:\n",
            " Thanks\n",
            "\n",
            "Random sentence after passing it into our text vectorization layer:\n",
            " [[22  0  0  0  0  0  0]]\n",
            "\n",
            "Shape of random sentence after passing it through our text vectorizer layer:\n",
            " (1, 7) \n"
          ]
        }
      ]
    },
    {
      "cell_type": "code",
      "source": [
        "# Let get the words in our vocabulary\n",
        "words_in_vocab= text_vectorizer.get_vocabulary()\n",
        "print(f\"Lenght of words in vocab: {len(words_in_vocab)}\")\n",
        "print(f\"Five most common words: {words_in_vocab[:5]}\")\n",
        "print(f\"Five least common words: {words_in_vocab[-5:]}\")"
      ],
      "metadata": {
        "colab": {
          "base_uri": "https://localhost:8080/"
        },
        "id": "ZpZ4vjnXhAl3",
        "outputId": "044ecd55-12ad-480e-92d9-571edefce0c8"
      },
      "execution_count": null,
      "outputs": [
        {
          "output_type": "stream",
          "name": "stdout",
          "text": [
            "Lenght of words in vocab: 53\n",
            "Five most common words: ['', '[UNK]', 'you', 'a', 'i']\n",
            "Five least common words: ['could', 'call', 'bye', 'anyone', 'about']\n"
          ]
        }
      ]
    },
    {
      "cell_type": "markdown",
      "source": [
        "### Creating text embeddings"
      ],
      "metadata": {
        "id": "q1EgnQaHf2Mk"
      }
    },
    {
      "cell_type": "code",
      "source": [
        "from tensorflow.keras.layers import Embedding"
      ],
      "metadata": {
        "id": "hJsTH5fgdYDe"
      },
      "execution_count": null,
      "outputs": []
    },
    {
      "cell_type": "code",
      "source": [
        "text_embeddings= Embedding(input_dim= len(words_in_vocab),\n",
        "                           output_dim=25,\n",
        "                           name=\"embedding_layer\")\n",
        "\n",
        "text_embeddings"
      ],
      "metadata": {
        "colab": {
          "base_uri": "https://localhost:8080/"
        },
        "id": "SxfUjGUziec5",
        "outputId": "c29d88b3-989e-464d-91e4-8104068eeb25"
      },
      "execution_count": null,
      "outputs": [
        {
          "output_type": "execute_result",
          "data": {
            "text/plain": [
              "<keras.layers.embeddings.Embedding at 0x7f1adbac97d0>"
            ]
          },
          "metadata": {},
          "execution_count": 388
        }
      ]
    },
    {
      "cell_type": "code",
      "source": [
        "# Let test our text_embeddings layer with a random sentence\n",
        "import random\n",
        "\n",
        "random_sentence= random.choice(train_sentence)\n",
        "vector_random_sentence= text_vectorizer(random_sentence)\n",
        "embed_random_sentence= text_embeddings(vector_random_sentence)\n",
        "\n",
        "print(f\"Random sentence before passing it into our text vectorization layer:\\n {random_sentence}\\n\")\n",
        "print(f\"Random sentence after passing it into our text vectorization layer:\\n {vector_random_sentence}\\n\")\n",
        "print(f\"Random sentence after passing it into our embedding layer {embed_random_sentence} \")\n",
        "print(f\"Shape of random sentence after passing it through our embedding vectorizer layer:\\n {embed_random_sentence.shape} \")"
      ],
      "metadata": {
        "colab": {
          "base_uri": "https://localhost:8080/"
        },
        "id": "38wKx_PTizxC",
        "outputId": "882a1dd1-bc0e-4cec-9ee2-732d6b4a7982"
      },
      "execution_count": null,
      "outputs": [
        {
          "output_type": "stream",
          "name": "stdout",
          "text": [
            "Random sentence before passing it into our text vectorization layer:\n",
            " Hay\n",
            "\n",
            "Random sentence after passing it into our text vectorization layer:\n",
            " [42  0  0  0  0  0  0]\n",
            "\n",
            "Random sentence after passing it into our embedding layer [[-0.02353491 -0.0385123   0.00823892  0.0461805  -0.03305069  0.01107825\n",
            "  -0.03166462 -0.00413181  0.04467786 -0.0077366  -0.01007508 -0.01755737\n",
            "  -0.04400023  0.04642148  0.00057631  0.03708215 -0.03164832  0.01567806\n",
            "  -0.0067568  -0.02812144  0.02762319  0.02498946  0.04034338  0.00920735\n",
            "  -0.04291878]\n",
            " [ 0.00190721 -0.04865251 -0.02255201 -0.04870801  0.0445462   0.02699569\n",
            "   0.03972392 -0.01364066 -0.03154416 -0.01279919  0.0260357   0.00536419\n",
            "  -0.02900374 -0.00134749 -0.01198221  0.04879628  0.04765952 -0.03981858\n",
            "  -0.00561687 -0.0339533  -0.04416419  0.01937331 -0.02959957 -0.01261692\n",
            "   0.02596429]\n",
            " [ 0.00190721 -0.04865251 -0.02255201 -0.04870801  0.0445462   0.02699569\n",
            "   0.03972392 -0.01364066 -0.03154416 -0.01279919  0.0260357   0.00536419\n",
            "  -0.02900374 -0.00134749 -0.01198221  0.04879628  0.04765952 -0.03981858\n",
            "  -0.00561687 -0.0339533  -0.04416419  0.01937331 -0.02959957 -0.01261692\n",
            "   0.02596429]\n",
            " [ 0.00190721 -0.04865251 -0.02255201 -0.04870801  0.0445462   0.02699569\n",
            "   0.03972392 -0.01364066 -0.03154416 -0.01279919  0.0260357   0.00536419\n",
            "  -0.02900374 -0.00134749 -0.01198221  0.04879628  0.04765952 -0.03981858\n",
            "  -0.00561687 -0.0339533  -0.04416419  0.01937331 -0.02959957 -0.01261692\n",
            "   0.02596429]\n",
            " [ 0.00190721 -0.04865251 -0.02255201 -0.04870801  0.0445462   0.02699569\n",
            "   0.03972392 -0.01364066 -0.03154416 -0.01279919  0.0260357   0.00536419\n",
            "  -0.02900374 -0.00134749 -0.01198221  0.04879628  0.04765952 -0.03981858\n",
            "  -0.00561687 -0.0339533  -0.04416419  0.01937331 -0.02959957 -0.01261692\n",
            "   0.02596429]\n",
            " [ 0.00190721 -0.04865251 -0.02255201 -0.04870801  0.0445462   0.02699569\n",
            "   0.03972392 -0.01364066 -0.03154416 -0.01279919  0.0260357   0.00536419\n",
            "  -0.02900374 -0.00134749 -0.01198221  0.04879628  0.04765952 -0.03981858\n",
            "  -0.00561687 -0.0339533  -0.04416419  0.01937331 -0.02959957 -0.01261692\n",
            "   0.02596429]\n",
            " [ 0.00190721 -0.04865251 -0.02255201 -0.04870801  0.0445462   0.02699569\n",
            "   0.03972392 -0.01364066 -0.03154416 -0.01279919  0.0260357   0.00536419\n",
            "  -0.02900374 -0.00134749 -0.01198221  0.04879628  0.04765952 -0.03981858\n",
            "  -0.00561687 -0.0339533  -0.04416419  0.01937331 -0.02959957 -0.01261692\n",
            "   0.02596429]] \n",
            "Shape of random sentence after passing it through our embedding vectorizer layer:\n",
            " (7, 25) \n"
          ]
        }
      ]
    },
    {
      "cell_type": "code",
      "source": [
        "embed_random_sentence[0], embed_random_sentence[0].shape"
      ],
      "metadata": {
        "colab": {
          "base_uri": "https://localhost:8080/"
        },
        "id": "GS5wvkUsjRTu",
        "outputId": "03ac71ba-803e-46ca-d4ab-26f2b358d5cc"
      },
      "execution_count": null,
      "outputs": [
        {
          "output_type": "execute_result",
          "data": {
            "text/plain": [
              "(<tf.Tensor: shape=(25,), dtype=float32, numpy=\n",
              " array([-0.02353491, -0.0385123 ,  0.00823892,  0.0461805 , -0.03305069,\n",
              "         0.01107825, -0.03166462, -0.00413181,  0.04467786, -0.0077366 ,\n",
              "        -0.01007508, -0.01755737, -0.04400023,  0.04642148,  0.00057631,\n",
              "         0.03708215, -0.03164832,  0.01567806, -0.0067568 , -0.02812144,\n",
              "         0.02762319,  0.02498946,  0.04034338,  0.00920735, -0.04291878],\n",
              "       dtype=float32)>, TensorShape([25]))"
            ]
          },
          "metadata": {},
          "execution_count": 390
        }
      ]
    },
    {
      "cell_type": "markdown",
      "source": [
        "### Prepeocessing our labels"
      ],
      "metadata": {
        "id": "OjYR6HV4lkxQ"
      }
    },
    {
      "cell_type": "code",
      "source": [
        "charbot_df.head()"
      ],
      "metadata": {
        "colab": {
          "base_uri": "https://localhost:8080/",
          "height": 206
        },
        "id": "ap3XufvxlklM",
        "outputId": "a62006a1-3012-4e8b-89b0-5c58da57c422"
      },
      "execution_count": null,
      "outputs": [
        {
          "output_type": "execute_result",
          "data": {
            "text/plain": [
              "                         inputs           tags\n",
              "31  I want to raise a complaint      complaint\n",
              "15            what is your name           name\n",
              "26    how to open a new account  createaccount\n",
              "17             whats your name?           name\n",
              "8                        Thanks         thanks"
            ],
            "text/html": [
              "\n",
              "  <div id=\"df-71c45915-d3a8-44a4-8b37-a3005360a5a8\">\n",
              "    <div class=\"colab-df-container\">\n",
              "      <div>\n",
              "<style scoped>\n",
              "    .dataframe tbody tr th:only-of-type {\n",
              "        vertical-align: middle;\n",
              "    }\n",
              "\n",
              "    .dataframe tbody tr th {\n",
              "        vertical-align: top;\n",
              "    }\n",
              "\n",
              "    .dataframe thead th {\n",
              "        text-align: right;\n",
              "    }\n",
              "</style>\n",
              "<table border=\"1\" class=\"dataframe\">\n",
              "  <thead>\n",
              "    <tr style=\"text-align: right;\">\n",
              "      <th></th>\n",
              "      <th>inputs</th>\n",
              "      <th>tags</th>\n",
              "    </tr>\n",
              "  </thead>\n",
              "  <tbody>\n",
              "    <tr>\n",
              "      <th>31</th>\n",
              "      <td>I want to raise a complaint</td>\n",
              "      <td>complaint</td>\n",
              "    </tr>\n",
              "    <tr>\n",
              "      <th>15</th>\n",
              "      <td>what is your name</td>\n",
              "      <td>name</td>\n",
              "    </tr>\n",
              "    <tr>\n",
              "      <th>26</th>\n",
              "      <td>how to open a new account</td>\n",
              "      <td>createaccount</td>\n",
              "    </tr>\n",
              "    <tr>\n",
              "      <th>17</th>\n",
              "      <td>whats your name?</td>\n",
              "      <td>name</td>\n",
              "    </tr>\n",
              "    <tr>\n",
              "      <th>8</th>\n",
              "      <td>Thanks</td>\n",
              "      <td>thanks</td>\n",
              "    </tr>\n",
              "  </tbody>\n",
              "</table>\n",
              "</div>\n",
              "      <button class=\"colab-df-convert\" onclick=\"convertToInteractive('df-71c45915-d3a8-44a4-8b37-a3005360a5a8')\"\n",
              "              title=\"Convert this dataframe to an interactive table.\"\n",
              "              style=\"display:none;\">\n",
              "        \n",
              "  <svg xmlns=\"http://www.w3.org/2000/svg\" height=\"24px\"viewBox=\"0 0 24 24\"\n",
              "       width=\"24px\">\n",
              "    <path d=\"M0 0h24v24H0V0z\" fill=\"none\"/>\n",
              "    <path d=\"M18.56 5.44l.94 2.06.94-2.06 2.06-.94-2.06-.94-.94-2.06-.94 2.06-2.06.94zm-11 1L8.5 8.5l.94-2.06 2.06-.94-2.06-.94L8.5 2.5l-.94 2.06-2.06.94zm10 10l.94 2.06.94-2.06 2.06-.94-2.06-.94-.94-2.06-.94 2.06-2.06.94z\"/><path d=\"M17.41 7.96l-1.37-1.37c-.4-.4-.92-.59-1.43-.59-.52 0-1.04.2-1.43.59L10.3 9.45l-7.72 7.72c-.78.78-.78 2.05 0 2.83L4 21.41c.39.39.9.59 1.41.59.51 0 1.02-.2 1.41-.59l7.78-7.78 2.81-2.81c.8-.78.8-2.07 0-2.86zM5.41 20L4 18.59l7.72-7.72 1.47 1.35L5.41 20z\"/>\n",
              "  </svg>\n",
              "      </button>\n",
              "      \n",
              "  <style>\n",
              "    .colab-df-container {\n",
              "      display:flex;\n",
              "      flex-wrap:wrap;\n",
              "      gap: 12px;\n",
              "    }\n",
              "\n",
              "    .colab-df-convert {\n",
              "      background-color: #E8F0FE;\n",
              "      border: none;\n",
              "      border-radius: 50%;\n",
              "      cursor: pointer;\n",
              "      display: none;\n",
              "      fill: #1967D2;\n",
              "      height: 32px;\n",
              "      padding: 0 0 0 0;\n",
              "      width: 32px;\n",
              "    }\n",
              "\n",
              "    .colab-df-convert:hover {\n",
              "      background-color: #E2EBFA;\n",
              "      box-shadow: 0px 1px 2px rgba(60, 64, 67, 0.3), 0px 1px 3px 1px rgba(60, 64, 67, 0.15);\n",
              "      fill: #174EA6;\n",
              "    }\n",
              "\n",
              "    [theme=dark] .colab-df-convert {\n",
              "      background-color: #3B4455;\n",
              "      fill: #D2E3FC;\n",
              "    }\n",
              "\n",
              "    [theme=dark] .colab-df-convert:hover {\n",
              "      background-color: #434B5C;\n",
              "      box-shadow: 0px 1px 3px 1px rgba(0, 0, 0, 0.15);\n",
              "      filter: drop-shadow(0px 1px 2px rgba(0, 0, 0, 0.3));\n",
              "      fill: #FFFFFF;\n",
              "    }\n",
              "  </style>\n",
              "\n",
              "      <script>\n",
              "        const buttonEl =\n",
              "          document.querySelector('#df-71c45915-d3a8-44a4-8b37-a3005360a5a8 button.colab-df-convert');\n",
              "        buttonEl.style.display =\n",
              "          google.colab.kernel.accessAllowed ? 'block' : 'none';\n",
              "\n",
              "        async function convertToInteractive(key) {\n",
              "          const element = document.querySelector('#df-71c45915-d3a8-44a4-8b37-a3005360a5a8');\n",
              "          const dataTable =\n",
              "            await google.colab.kernel.invokeFunction('convertToInteractive',\n",
              "                                                     [key], {});\n",
              "          if (!dataTable) return;\n",
              "\n",
              "          const docLinkHtml = 'Like what you see? Visit the ' +\n",
              "            '<a target=\"_blank\" href=https://colab.research.google.com/notebooks/data_table.ipynb>data table notebook</a>'\n",
              "            + ' to learn more about interactive tables.';\n",
              "          element.innerHTML = '';\n",
              "          dataTable['output_type'] = 'display_data';\n",
              "          await google.colab.output.renderOutput(dataTable, element);\n",
              "          const docLink = document.createElement('div');\n",
              "          docLink.innerHTML = docLinkHtml;\n",
              "          element.appendChild(docLink);\n",
              "        }\n",
              "      </script>\n",
              "    </div>\n",
              "  </div>\n",
              "  "
            ]
          },
          "metadata": {},
          "execution_count": 391
        }
      ]
    },
    {
      "cell_type": "code",
      "source": [
        "# Let label encode our labels (tag)\n",
        "from sklearn.preprocessing import LabelEncoder"
      ],
      "metadata": {
        "id": "WNkfBcixlkGI"
      },
      "execution_count": null,
      "outputs": []
    },
    {
      "cell_type": "code",
      "source": [
        "label_encoder= LabelEncoder()\n",
        "\n",
        "train_label_label_encode= label_encoder.fit_transform(chatbot_df.tags)\n",
        "train_label_label_encode"
      ],
      "metadata": {
        "colab": {
          "base_uri": "https://localhost:8080/"
        },
        "id": "7_3Ox122lkDY",
        "outputId": "23f9b7d1-7598-4bed-9c91-2b695b1116bc"
      },
      "execution_count": null,
      "outputs": [
        {
          "output_type": "execute_result",
          "data": {
            "text/plain": [
              "array([1, 6, 2, 6, 7, 7, 5, 5, 0, 4, 4, 6, 3, 0, 7, 5, 4, 4, 2, 4, 2, 5,\n",
              "       1, 5, 5, 2, 3, 5, 1, 3, 7, 0, 2])"
            ]
          },
          "metadata": {},
          "execution_count": 393
        }
      ]
    },
    {
      "cell_type": "code",
      "source": [
        "class_names= label_encoder.classes_\n",
        "num_classes= len(label_encoder.classes_)\n",
        "\n",
        "class_names, num_classes"
      ],
      "metadata": {
        "colab": {
          "base_uri": "https://localhost:8080/"
        },
        "id": "nNe_7z-7pecg",
        "outputId": "50762f0a-5fc2-4f07-a1c6-e11ad4110d86"
      },
      "execution_count": null,
      "outputs": [
        {
          "output_type": "execute_result",
          "data": {
            "text/plain": [
              "(array(['about', 'complaint', 'createaccount', 'goodbye', 'greeting',\n",
              "        'help', 'name', 'thanks'], dtype=object), 8)"
            ]
          },
          "metadata": {},
          "execution_count": 394
        }
      ]
    },
    {
      "cell_type": "code",
      "source": [
        "# Let see the representation of our label encode class\n",
        "label_encoder.inverse_transform([0, 1, 2, 3, 4 ,5 ,6, 7])"
      ],
      "metadata": {
        "colab": {
          "base_uri": "https://localhost:8080/"
        },
        "id": "6EnfmTnDpeU-",
        "outputId": "6adb1f87-7db9-4af2-b1e2-75c6b4ab011d"
      },
      "execution_count": null,
      "outputs": [
        {
          "output_type": "execute_result",
          "data": {
            "text/plain": [
              "array(['about', 'complaint', 'createaccount', 'goodbye', 'greeting',\n",
              "       'help', 'name', 'thanks'], dtype=object)"
            ]
          },
          "metadata": {},
          "execution_count": 395
        }
      ]
    },
    {
      "cell_type": "code",
      "source": [
        "from sklearn.preprocessing import OneHotEncoder"
      ],
      "metadata": {
        "id": "9Bx0-efFsZyI"
      },
      "execution_count": null,
      "outputs": []
    },
    {
      "cell_type": "code",
      "source": [
        "# Let one oht encode our label\n",
        "one_hot_encoder= OneHotEncoder(sparse=False)\n",
        "train_label_one_hot= one_hot_encoder.fit_transform(chatbot_df.tags.to_numpy().reshape(-1, 1))\n",
        "train_label_one_hot"
      ],
      "metadata": {
        "colab": {
          "base_uri": "https://localhost:8080/"
        },
        "id": "gSfIsCGQpeSK",
        "outputId": "782737de-ac48-4334-f9ed-c591ffc09566"
      },
      "execution_count": null,
      "outputs": [
        {
          "output_type": "execute_result",
          "data": {
            "text/plain": [
              "array([[0., 1., 0., 0., 0., 0., 0., 0.],\n",
              "       [0., 0., 0., 0., 0., 0., 1., 0.],\n",
              "       [0., 0., 1., 0., 0., 0., 0., 0.],\n",
              "       [0., 0., 0., 0., 0., 0., 1., 0.],\n",
              "       [0., 0., 0., 0., 0., 0., 0., 1.],\n",
              "       [0., 0., 0., 0., 0., 0., 0., 1.],\n",
              "       [0., 0., 0., 0., 0., 1., 0., 0.],\n",
              "       [0., 0., 0., 0., 0., 1., 0., 0.],\n",
              "       [1., 0., 0., 0., 0., 0., 0., 0.],\n",
              "       [0., 0., 0., 0., 1., 0., 0., 0.],\n",
              "       [0., 0., 0., 0., 1., 0., 0., 0.],\n",
              "       [0., 0., 0., 0., 0., 0., 1., 0.],\n",
              "       [0., 0., 0., 1., 0., 0., 0., 0.],\n",
              "       [1., 0., 0., 0., 0., 0., 0., 0.],\n",
              "       [0., 0., 0., 0., 0., 0., 0., 1.],\n",
              "       [0., 0., 0., 0., 0., 1., 0., 0.],\n",
              "       [0., 0., 0., 0., 1., 0., 0., 0.],\n",
              "       [0., 0., 0., 0., 1., 0., 0., 0.],\n",
              "       [0., 0., 1., 0., 0., 0., 0., 0.],\n",
              "       [0., 0., 0., 0., 1., 0., 0., 0.],\n",
              "       [0., 0., 1., 0., 0., 0., 0., 0.],\n",
              "       [0., 0., 0., 0., 0., 1., 0., 0.],\n",
              "       [0., 1., 0., 0., 0., 0., 0., 0.],\n",
              "       [0., 0., 0., 0., 0., 1., 0., 0.],\n",
              "       [0., 0., 0., 0., 0., 1., 0., 0.],\n",
              "       [0., 0., 1., 0., 0., 0., 0., 0.],\n",
              "       [0., 0., 0., 1., 0., 0., 0., 0.],\n",
              "       [0., 0., 0., 0., 0., 1., 0., 0.],\n",
              "       [0., 1., 0., 0., 0., 0., 0., 0.],\n",
              "       [0., 0., 0., 1., 0., 0., 0., 0.],\n",
              "       [0., 0., 0., 0., 0., 0., 0., 1.],\n",
              "       [1., 0., 0., 0., 0., 0., 0., 0.],\n",
              "       [0., 0., 1., 0., 0., 0., 0., 0.]])"
            ]
          },
          "metadata": {},
          "execution_count": 397
        }
      ]
    },
    {
      "cell_type": "code",
      "source": [
        "train_label_one_hot.shape"
      ],
      "metadata": {
        "colab": {
          "base_uri": "https://localhost:8080/"
        },
        "id": "s994Zr61peNq",
        "outputId": "1a6ce552-f3f4-4cb2-e8ca-d0e60b87b53f"
      },
      "execution_count": null,
      "outputs": [
        {
          "output_type": "execute_result",
          "data": {
            "text/plain": [
              "(33, 8)"
            ]
          },
          "metadata": {},
          "execution_count": 398
        }
      ]
    },
    {
      "cell_type": "markdown",
      "source": [
        "## Building our model\n"
      ],
      "metadata": {
        "id": "5fo4W66rklfV"
      }
    },
    {
      "cell_type": "code",
      "source": [
        "from tensorflow.keras import layers"
      ],
      "metadata": {
        "id": "Gs1pantAktjZ"
      },
      "execution_count": null,
      "outputs": []
    },
    {
      "cell_type": "code",
      "source": [
        "input_layer= layers.Input(shape=(1, ), dtype= tf.string, name=\"input_layer\")\n",
        "vectorization_layer= text_vectorizer(input_layer)\n",
        "embedding_layer= text_embeddings(vectorization_layer)\n",
        "x= layers.LSTM(512, activation=\"tanh\", return_sequences=False)(embedding_layer)\n",
        "# x= layers.LSTM(512, activation=\"tanh\", return_sequences=True)(x)\n",
        "# x= layers.LSTM(512, activation=\"tanh\")(x)\n",
        "# x= layers.GlobalMaxPool1D()(x)\n",
        "x= layers.Dense(10, activation=\"relu\")(x)\n",
        "output_layer= layers.Dense(num_classes, activation=\"softmax\", name= \"output_layer\")(x)\n",
        "\n",
        "model= tf.keras.Model(inputs= input_layer,\n",
        "                      outputs= output_layer,\n",
        "                      name=\"chatbot_model\")"
      ],
      "metadata": {
        "id": "-fPF0GP_kP9P"
      },
      "execution_count": null,
      "outputs": []
    },
    {
      "cell_type": "code",
      "source": [
        "# Let get the summary of our model\n",
        "model.summary()"
      ],
      "metadata": {
        "colab": {
          "base_uri": "https://localhost:8080/"
        },
        "id": "ArhPILmwtpBy",
        "outputId": "1021adba-ce85-4e31-df56-fb40ed92c9e3"
      },
      "execution_count": null,
      "outputs": [
        {
          "output_type": "stream",
          "name": "stdout",
          "text": [
            "Model: \"chatbot_model\"\n",
            "_________________________________________________________________\n",
            " Layer (type)                Output Shape              Param #   \n",
            "=================================================================\n",
            " input_layer (InputLayer)    [(None, 1)]               0         \n",
            "                                                                 \n",
            " text_vectotion_layer (TextV  (None, 7)                0         \n",
            " ectorization)                                                   \n",
            "                                                                 \n",
            " embedding_layer (Embedding)  (None, 7, 25)            1325      \n",
            "                                                                 \n",
            " lstm_22 (LSTM)              (None, 512)               1101824   \n",
            "                                                                 \n",
            " dense_14 (Dense)            (None, 10)                5130      \n",
            "                                                                 \n",
            " output_layer (Dense)        (None, 8)                 88        \n",
            "                                                                 \n",
            "=================================================================\n",
            "Total params: 1,108,367\n",
            "Trainable params: 1,108,367\n",
            "Non-trainable params: 0\n",
            "_________________________________________________________________\n"
          ]
        }
      ]
    },
    {
      "cell_type": "code",
      "source": [
        "from tensorflow.keras.utils import plot_model\n",
        "\n",
        "plot_model(model)"
      ],
      "metadata": {
        "colab": {
          "base_uri": "https://localhost:8080/",
          "height": 564
        },
        "id": "H1Osvgmnt66l",
        "outputId": "28c473b2-3baf-4510-8d8a-a6f9072670b2"
      },
      "execution_count": null,
      "outputs": [
        {
          "output_type": "execute_result",
          "data": {
            "image/png": "[encoded data removed]",
            "text/plain": [
              "<IPython.core.display.Image object>"
            ]
          },
          "metadata": {},
          "execution_count": 414
        }
      ]
    },
    {
      "cell_type": "code",
      "source": [
        "# Let compile our model\n",
        "model.compile(loss= tf.keras.losses.CategoricalCrossentropy(),\n",
        "                optimizer=\"Adam\",\n",
        "                metrics=[\"accuracy\"])"
      ],
      "metadata": {
        "id": "f-OoZ4cjuDDQ"
      },
      "execution_count": null,
      "outputs": []
    },
    {
      "cell_type": "markdown",
      "source": [
        "### Setting up callbacks"
      ],
      "metadata": {
        "id": "QCTExRrawra1"
      }
    },
    {
      "cell_type": "code",
      "source": [
        "from tensorflow.keras.callbacks import EarlyStopping"
      ],
      "metadata": {
        "id": "uVPtcFpdvV4V"
      },
      "execution_count": null,
      "outputs": []
    },
    {
      "cell_type": "code",
      "source": [
        "early_stop= EarlyStopping(monitor=\"accuracy\",\n",
        "                          patience=3,\n",
        "                          verbose=1,\n",
        "                          )"
      ],
      "metadata": {
        "id": "DsnVWnIRw45G"
      },
      "execution_count": null,
      "outputs": []
    },
    {
      "cell_type": "code",
      "source": [
        "# Let create a tensorflow data set\n",
        "train_data= tf.data.Dataset.from_tensor_slices((train_sentence, train_label_one_hot)).batch(8).prefetch(tf.data.AUTOTUNE)\n",
        "print(train_data)"
      ],
      "metadata": {
        "colab": {
          "base_uri": "https://localhost:8080/"
        },
        "id": "zUFLlQtFujoj",
        "outputId": "4c8ee8e7-dd16-4b6e-8940-93f3eba87c1a"
      },
      "execution_count": null,
      "outputs": [
        {
          "output_type": "stream",
          "name": "stdout",
          "text": [
            "<PrefetchDataset element_spec=(TensorSpec(shape=(None,), dtype=tf.string, name=None), TensorSpec(shape=(None, 8), dtype=tf.float64, name=None))>\n"
          ]
        }
      ]
    },
    {
      "cell_type": "code",
      "source": [
        "# Let fit out model\n",
        "\n",
        "#i ran this cell three times, so it like continue from where the last epochs left off\n",
        "history_model= model.fit(train_data,\n",
        "                         epochs=15,\n",
        "                         callbacks= [early_stop])"
      ],
      "metadata": {
        "colab": {
          "base_uri": "https://localhost:8080/"
        },
        "id": "FcTSYUeUuT__",
        "outputId": "e9526414-dd59-4e61-e717-4f14987645ab"
      },
      "execution_count": null,
      "outputs": [
        {
          "output_type": "stream",
          "name": "stdout",
          "text": [
            "Epoch 1/15\n",
            "5/5 [==============================] - 2s 55ms/step - loss: 2.0786 - accuracy: 0.2121\n",
            "Epoch 2/15\n",
            "5/5 [==============================] - 0s 46ms/step - loss: 2.0626 - accuracy: 0.2424\n",
            "Epoch 3/15\n",
            "5/5 [==============================] - 0s 45ms/step - loss: 2.0293 - accuracy: 0.1818\n",
            "Epoch 4/15\n",
            "5/5 [==============================] - 0s 48ms/step - loss: 1.9685 - accuracy: 0.1818\n",
            "Epoch 5/15\n",
            "5/5 [==============================] - 0s 48ms/step - loss: 1.9082 - accuracy: 0.3030\n",
            "Epoch 6/15\n",
            "5/5 [==============================] - 0s 48ms/step - loss: 1.7550 - accuracy: 0.3333\n",
            "Epoch 7/15\n",
            "5/5 [==============================] - 0s 46ms/step - loss: 1.6615 - accuracy: 0.3333\n",
            "Epoch 8/15\n",
            "5/5 [==============================] - 0s 49ms/step - loss: 1.5982 - accuracy: 0.3939\n",
            "Epoch 9/15\n",
            "5/5 [==============================] - 0s 47ms/step - loss: 1.5228 - accuracy: 0.3939\n",
            "Epoch 10/15\n",
            "5/5 [==============================] - 0s 47ms/step - loss: 1.3246 - accuracy: 0.5152\n",
            "Epoch 11/15\n",
            "5/5 [==============================] - 0s 48ms/step - loss: 1.2405 - accuracy: 0.5152\n",
            "Epoch 12/15\n",
            "5/5 [==============================] - 0s 47ms/step - loss: 1.1308 - accuracy: 0.5455\n",
            "Epoch 13/15\n",
            "5/5 [==============================] - 0s 45ms/step - loss: 1.0503 - accuracy: 0.5758\n",
            "Epoch 14/15\n",
            "5/5 [==============================] - 0s 47ms/step - loss: 0.9676 - accuracy: 0.6061\n",
            "Epoch 15/15\n",
            "5/5 [==============================] - 0s 48ms/step - loss: 0.8939 - accuracy: 0.6061\n"
          ]
        }
      ]
    },
    {
      "cell_type": "markdown",
      "source": [
        "Wow, close we have 100% accuracy"
      ],
      "metadata": {
        "id": "Rjwa3ukwzT6k"
      }
    },
    {
      "cell_type": "code",
      "source": [
        "# let evaluate our model\n",
        "model.evaluate(train_data)"
      ],
      "metadata": {
        "colab": {
          "base_uri": "https://localhost:8080/"
        },
        "id": "fl5VQQvovKjI",
        "outputId": "193d9813-9ca3-4d6f-e9aa-315bbda265d9"
      },
      "execution_count": null,
      "outputs": [
        {
          "output_type": "stream",
          "name": "stdout",
          "text": [
            "5/5 [==============================] - 1s 9ms/step - loss: 0.8278 - accuracy: 0.6061\n"
          ]
        },
        {
          "output_type": "execute_result",
          "data": {
            "text/plain": [
              "[0.8277987241744995, 0.6060606241226196]"
            ]
          },
          "metadata": {},
          "execution_count": 418
        }
      ]
    },
    {
      "cell_type": "code",
      "source": [
        "chatbot_df.head()"
      ],
      "metadata": {
        "colab": {
          "base_uri": "https://localhost:8080/",
          "height": 206
        },
        "id": "AgZ4cqCQ3ofh",
        "outputId": "d0dfe9ae-3cab-4534-c00c-bb2858d97123"
      },
      "execution_count": null,
      "outputs": [
        {
          "output_type": "execute_result",
          "data": {
            "text/plain": [
              "                         inputs           tags\n",
              "31  I want to raise a complaint      complaint\n",
              "15            what is your name           name\n",
              "26    how to open a new account  createaccount\n",
              "17             whats your name?           name\n",
              "8                        Thanks         thanks"
            ],
            "text/html": [
              "\n",
              "  <div id=\"df-72326b4e-9372-44c9-a475-752a62fa314f\">\n",
              "    <div class=\"colab-df-container\">\n",
              "      <div>\n",
              "<style scoped>\n",
              "    .dataframe tbody tr th:only-of-type {\n",
              "        vertical-align: middle;\n",
              "    }\n",
              "\n",
              "    .dataframe tbody tr th {\n",
              "        vertical-align: top;\n",
              "    }\n",
              "\n",
              "    .dataframe thead th {\n",
              "        text-align: right;\n",
              "    }\n",
              "</style>\n",
              "<table border=\"1\" class=\"dataframe\">\n",
              "  <thead>\n",
              "    <tr style=\"text-align: right;\">\n",
              "      <th></th>\n",
              "      <th>inputs</th>\n",
              "      <th>tags</th>\n",
              "    </tr>\n",
              "  </thead>\n",
              "  <tbody>\n",
              "    <tr>\n",
              "      <th>31</th>\n",
              "      <td>I want to raise a complaint</td>\n",
              "      <td>complaint</td>\n",
              "    </tr>\n",
              "    <tr>\n",
              "      <th>15</th>\n",
              "      <td>what is your name</td>\n",
              "      <td>name</td>\n",
              "    </tr>\n",
              "    <tr>\n",
              "      <th>26</th>\n",
              "      <td>how to open a new account</td>\n",
              "      <td>createaccount</td>\n",
              "    </tr>\n",
              "    <tr>\n",
              "      <th>17</th>\n",
              "      <td>whats your name?</td>\n",
              "      <td>name</td>\n",
              "    </tr>\n",
              "    <tr>\n",
              "      <th>8</th>\n",
              "      <td>Thanks</td>\n",
              "      <td>thanks</td>\n",
              "    </tr>\n",
              "  </tbody>\n",
              "</table>\n",
              "</div>\n",
              "      <button class=\"colab-df-convert\" onclick=\"convertToInteractive('df-72326b4e-9372-44c9-a475-752a62fa314f')\"\n",
              "              title=\"Convert this dataframe to an interactive table.\"\n",
              "              style=\"display:none;\">\n",
              "        \n",
              "  <svg xmlns=\"http://www.w3.org/2000/svg\" height=\"24px\"viewBox=\"0 0 24 24\"\n",
              "       width=\"24px\">\n",
              "    <path d=\"M0 0h24v24H0V0z\" fill=\"none\"/>\n",
              "    <path d=\"M18.56 5.44l.94 2.06.94-2.06 2.06-.94-2.06-.94-.94-2.06-.94 2.06-2.06.94zm-11 1L8.5 8.5l.94-2.06 2.06-.94-2.06-.94L8.5 2.5l-.94 2.06-2.06.94zm10 10l.94 2.06.94-2.06 2.06-.94-2.06-.94-.94-2.06-.94 2.06-2.06.94z\"/><path d=\"M17.41 7.96l-1.37-1.37c-.4-.4-.92-.59-1.43-.59-.52 0-1.04.2-1.43.59L10.3 9.45l-7.72 7.72c-.78.78-.78 2.05 0 2.83L4 21.41c.39.39.9.59 1.41.59.51 0 1.02-.2 1.41-.59l7.78-7.78 2.81-2.81c.8-.78.8-2.07 0-2.86zM5.41 20L4 18.59l7.72-7.72 1.47 1.35L5.41 20z\"/>\n",
              "  </svg>\n",
              "      </button>\n",
              "      \n",
              "  <style>\n",
              "    .colab-df-container {\n",
              "      display:flex;\n",
              "      flex-wrap:wrap;\n",
              "      gap: 12px;\n",
              "    }\n",
              "\n",
              "    .colab-df-convert {\n",
              "      background-color: #E8F0FE;\n",
              "      border: none;\n",
              "      border-radius: 50%;\n",
              "      cursor: pointer;\n",
              "      display: none;\n",
              "      fill: #1967D2;\n",
              "      height: 32px;\n",
              "      padding: 0 0 0 0;\n",
              "      width: 32px;\n",
              "    }\n",
              "\n",
              "    .colab-df-convert:hover {\n",
              "      background-color: #E2EBFA;\n",
              "      box-shadow: 0px 1px 2px rgba(60, 64, 67, 0.3), 0px 1px 3px 1px rgba(60, 64, 67, 0.15);\n",
              "      fill: #174EA6;\n",
              "    }\n",
              "\n",
              "    [theme=dark] .colab-df-convert {\n",
              "      background-color: #3B4455;\n",
              "      fill: #D2E3FC;\n",
              "    }\n",
              "\n",
              "    [theme=dark] .colab-df-convert:hover {\n",
              "      background-color: #434B5C;\n",
              "      box-shadow: 0px 1px 3px 1px rgba(0, 0, 0, 0.15);\n",
              "      filter: drop-shadow(0px 1px 2px rgba(0, 0, 0, 0.3));\n",
              "      fill: #FFFFFF;\n",
              "    }\n",
              "  </style>\n",
              "\n",
              "      <script>\n",
              "        const buttonEl =\n",
              "          document.querySelector('#df-72326b4e-9372-44c9-a475-752a62fa314f button.colab-df-convert');\n",
              "        buttonEl.style.display =\n",
              "          google.colab.kernel.accessAllowed ? 'block' : 'none';\n",
              "\n",
              "        async function convertToInteractive(key) {\n",
              "          const element = document.querySelector('#df-72326b4e-9372-44c9-a475-752a62fa314f');\n",
              "          const dataTable =\n",
              "            await google.colab.kernel.invokeFunction('convertToInteractive',\n",
              "                                                     [key], {});\n",
              "          if (!dataTable) return;\n",
              "\n",
              "          const docLinkHtml = 'Like what you see? Visit the ' +\n",
              "            '<a target=\"_blank\" href=https://colab.research.google.com/notebooks/data_table.ipynb>data table notebook</a>'\n",
              "            + ' to learn more about interactive tables.';\n",
              "          element.innerHTML = '';\n",
              "          dataTable['output_type'] = 'display_data';\n",
              "          await google.colab.output.renderOutput(dataTable, element);\n",
              "          const docLink = document.createElement('div');\n",
              "          docLink.innerHTML = docLinkHtml;\n",
              "          element.appendChild(docLink);\n",
              "        }\n",
              "      </script>\n",
              "    </div>\n",
              "  </div>\n",
              "  "
            ]
          },
          "metadata": {},
          "execution_count": 426
        }
      ]
    },
    {
      "cell_type": "code",
      "source": [
        "# Let text our model\n",
        "sentence= [\"account problem\"]\n",
        "sen_pred= model.predict(sentence)\n",
        "preds= np.argmax(sen_pred, axis= 1)\n",
        "preds"
      ],
      "metadata": {
        "colab": {
          "base_uri": "https://localhost:8080/"
        },
        "id": "HsHdYzF_01gl",
        "outputId": "54be8a14-58ab-48c0-9283-b061f2bd491f"
      },
      "execution_count": null,
      "outputs": [
        {
          "output_type": "execute_result",
          "data": {
            "text/plain": [
              "array([5])"
            ]
          },
          "metadata": {},
          "execution_count": 444
        }
      ]
    },
    {
      "cell_type": "code",
      "source": [
        "class_names"
      ],
      "metadata": {
        "colab": {
          "base_uri": "https://localhost:8080/"
        },
        "id": "QQa4j7Ca2lj_",
        "outputId": "b61b6be7-50aa-43eb-d7f0-7f349315ebab"
      },
      "execution_count": null,
      "outputs": [
        {
          "output_type": "execute_result",
          "data": {
            "text/plain": [
              "array(['about', 'complaint', 'createaccount', 'goodbye', 'greeting',\n",
              "       'help', 'name', 'thanks'], dtype=object)"
            ]
          },
          "metadata": {},
          "execution_count": 433
        }
      ]
    },
    {
      "cell_type": "code",
      "source": [
        "tag_predicted= class_names[preds]\n",
        "tag_predicted"
      ],
      "metadata": {
        "colab": {
          "base_uri": "https://localhost:8080/"
        },
        "id": "_SAhwSmC1TMH",
        "outputId": "1912bd9c-510e-404d-b0d5-a7bfc1c39169"
      },
      "execution_count": null,
      "outputs": [
        {
          "output_type": "execute_result",
          "data": {
            "text/plain": [
              "array(['help'], dtype=object)"
            ]
          },
          "metadata": {},
          "execution_count": 434
        }
      ]
    },
    {
      "cell_type": "code",
      "source": [
        "# let make read predictions\n",
        "print(f\"Hello my name is Sam and I'm a chatbot\")\n",
        "print(\"How may I help you: \")\n",
        "while True:\n",
        "\n",
        "  predict_input= input(\"YOU :  \")\n",
        "\n",
        "  input_preds= model.predict([predict_input])\n",
        "  preds= np.argmax(input_preds)\n",
        "  \n",
        "  if predict_input != \"goodbye\":\n",
        "    # Finding the predicton tag\n",
        "    tag_predicted= class_names[preds]\n",
        "    print(\"Sam :\", random.choice(responses[tag_predicted]))\n",
        "  elif predict_input == \"goodbye\":\n",
        "    print(f\"Goodbye, see you next time\")\n",
        "    break\n"
      ],
      "metadata": {
        "colab": {
          "base_uri": "https://localhost:8080/"
        },
        "id": "nX7GyKU210Br",
        "outputId": "9971d566-025b-408e-ac4a-d91132e6e6f1"
      },
      "execution_count": null,
      "outputs": [
        {
          "output_type": "stream",
          "name": "stdout",
          "text": [
            "Hello my name is Sam and I'm a chatbot\n",
            "How may I help you: \n",
            "YOU :  hi\n",
            "Sam : Hi there\n",
            "YOU :  i need your help\n",
            "Sam : Yes Sure, How can I support you\n",
            "YOU :  i want to create an account\n",
            "Sam : Just go to our web site and follow the guidelines to create a new account\n",
            "YOU :  ok, thanks\n",
            "Sam : See you later\n",
            "YOU :  goodbye\n",
            "Goodbye, see you next time\n"
          ]
        }
      ]
    },
    {
      "cell_type": "code",
      "source": [],
      "metadata": {
        "id": "TACsVew26XhJ"
      },
      "execution_count": null,
      "outputs": []
    }
  ]
}