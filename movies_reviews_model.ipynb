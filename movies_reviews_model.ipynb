{
  "cells": [
    {
      "cell_type": "markdown",
      "metadata": {
        "id": "view-in-github",
        "colab_type": "text"
      },
      "source": [
        "<a href=\"https://colab.research.google.com/github/olowu289/Deep-learning-machine-learning-project/blob/main/movies_reviews_model.ipynb\" target=\"_parent\"><img src=\"https://colab.research.google.com/assets/colab-badge.svg\" alt=\"Open In Colab\"/></a>"
      ]
    },
    {
      "cell_type": "markdown",
      "metadata": {
        "id": "bGFFnxZefcKd"
      },
      "source": [
        "Welcome to anothe Natural Language processing workflow. During this project, we are going to be building a model that is able to calssify if a movie is either has a positive review or a nagative review. We will be using the tensorflow movies review datasets which has 50,000 reviews (25,000 for training, another 25,000 for testing.\n",
        "\n",
        "What we are going to cover,\n",
        "1. Load in our tensorflow dataset\n",
        "2. Preprocess our dataset (converting our test to numbers throught process known as `Tokenization and Embedding`\n",
        "3. Build 6 diffrent models\n",
        " 1. Model 0. baseline model using Sklearn.\n",
        " 2. model 1. Normal dense layer model\n",
        " 3. model 3. Using LSTM layer\n",
        " 4. model 4. using GRU layer\n",
        " 5. model 5. Using RNN (recurrent nueral network)\n",
        " 6. model 6. Using Transfer learning.\n",
        "4. Finding the best model\n",
        "5. Evaluation my best model\n",
        "6. Saving and making predictions with my best model\n",
        "7. Testing my best model with data from the wild\n",
        "8. Saving and uploading to Github."
      ]
    },
    {
      "cell_type": "code",
      "execution_count": null,
      "metadata": {
        "colab": {
          "background_save": true
        },
        "id": "whCObrFpfT6y"
      },
      "outputs": [],
      "source": [
        "# let import the useful liabaries \n",
        "import tensorflow as tf\n",
        "import numpy as np\n",
        "import pandas as pd\n",
        "import tensorflow_datasets as tfds"
      ]
    },
    {
      "cell_type": "code",
      "execution_count": null,
      "metadata": {
        "colab": {
          "background_save": true,
          "base_uri": "https://localhost:8080/"
        },
        "id": "tGXLJs-SjRoT",
        "outputId": "6ea18822-96c4-4c22-b9c6-7dceb035245f"
      },
      "outputs": [
        {
          "name": "stdout",
          "output_type": "stream",
          "text": [
            "--2022-06-29 16:20:09--  https://raw.githubusercontent.com/mrdbourke/tensorflow-deep-learning/main/extras/helper_functions.py\n",
            "Resolving raw.githubusercontent.com (raw.githubusercontent.com)... 185.199.108.133, 185.199.109.133, 185.199.110.133, ...\n",
            "Connecting to raw.githubusercontent.com (raw.githubusercontent.com)|185.199.108.133|:443... connected.\n",
            "HTTP request sent, awaiting response... 200 OK\n",
            "Length: 10246 (10K) [text/plain]\n",
            "Saving to: ‘helper_functions.py’\n",
            "\n",
            "\rhelper_functions.py   0%[                    ]       0  --.-KB/s               \rhelper_functions.py 100%[===================>]  10.01K  --.-KB/s    in 0s      \n",
            "\n",
            "2022-06-29 16:20:09 (119 MB/s) - ‘helper_functions.py’ saved [10246/10246]\n",
            "\n"
          ]
        }
      ],
      "source": [
        "# let get our helper funtions\n",
        "!wget https://raw.githubusercontent.com/mrdbourke/tensorflow-deep-learning/main/extras/helper_functions.py"
      ]
    },
    {
      "cell_type": "code",
      "execution_count": null,
      "metadata": {
        "colab": {
          "background_save": true,
          "base_uri": "https://localhost:8080/",
          "height": 284,
          "referenced_widgets": [
            "fce485dce4224447b81dc479616f6de5",
            "b38af9d20a06406d9c4f2fe9fe0c45f0",
            "60f69392103f42c39eb6186660c02bf0",
            "08aaae919542463bbf175926bb9fc90f",
            "b5e9f3db73474a0a994b29363ab9dfe9",
            "3ff835d17c2742ab9129efe876ae0e57",
            "4675e154075241a4aaeac8cdd7d20e22",
            "55bd6d9820ae476492e12ca207eb5e59"
          ]
        },
        "id": "I2haZzdfjgqY",
        "outputId": "96eadccb-d739-42b3-e991-3440a9c97741"
      },
      "outputs": [
        {
          "name": "stdout",
          "output_type": "stream",
          "text": [
            "\u001b[1mDownloading and preparing dataset imdb_reviews/plain_text/1.0.0 (download: 80.23 MiB, generated: Unknown size, total: 80.23 MiB) to /root/tensorflow_datasets/imdb_reviews/plain_text/1.0.0...\u001b[0m\n"
          ]
        },
        {
          "data": {
            "application/vnd.jupyter.widget-view+json": {
              "model_id": "fce485dce4224447b81dc479616f6de5",
              "version_major": 2,
              "version_minor": 0
            },
            "text/plain": [
              "Dl Completed...: 0 url [00:00, ? url/s]"
            ]
          },
          "metadata": {},
          "output_type": "display_data"
        },
        {
          "data": {
            "application/vnd.jupyter.widget-view+json": {
              "model_id": "b38af9d20a06406d9c4f2fe9fe0c45f0",
              "version_major": 2,
              "version_minor": 0
            },
            "text/plain": [
              "Dl Size...: 0 MiB [00:00, ? MiB/s]"
            ]
          },
          "metadata": {},
          "output_type": "display_data"
        },
        {
          "name": "stdout",
          "output_type": "stream",
          "text": [
            "\n",
            "\n"
          ]
        },
        {
          "data": {
            "application/vnd.jupyter.widget-view+json": {
              "model_id": "60f69392103f42c39eb6186660c02bf0",
              "version_major": 2,
              "version_minor": 0
            },
            "text/plain": [
              "0 examples [00:00, ? examples/s]"
            ]
          },
          "metadata": {},
          "output_type": "display_data"
        },
        {
          "name": "stdout",
          "output_type": "stream",
          "text": [
            "Shuffling and writing examples to /root/tensorflow_datasets/imdb_reviews/plain_text/1.0.0.incompleteNFQ9GH/imdb_reviews-train.tfrecord\n"
          ]
        },
        {
          "data": {
            "application/vnd.jupyter.widget-view+json": {
              "model_id": "08aaae919542463bbf175926bb9fc90f",
              "version_major": 2,
              "version_minor": 0
            },
            "text/plain": [
              "  0%|          | 0/25000 [00:00<?, ? examples/s]"
            ]
          },
          "metadata": {},
          "output_type": "display_data"
        },
        {
          "data": {
            "application/vnd.jupyter.widget-view+json": {
              "model_id": "b5e9f3db73474a0a994b29363ab9dfe9",
              "version_major": 2,
              "version_minor": 0
            },
            "text/plain": [
              "0 examples [00:00, ? examples/s]"
            ]
          },
          "metadata": {},
          "output_type": "display_data"
        },
        {
          "name": "stdout",
          "output_type": "stream",
          "text": [
            "Shuffling and writing examples to /root/tensorflow_datasets/imdb_reviews/plain_text/1.0.0.incompleteNFQ9GH/imdb_reviews-test.tfrecord\n"
          ]
        },
        {
          "data": {
            "application/vnd.jupyter.widget-view+json": {
              "model_id": "3ff835d17c2742ab9129efe876ae0e57",
              "version_major": 2,
              "version_minor": 0
            },
            "text/plain": [
              "  0%|          | 0/25000 [00:00<?, ? examples/s]"
            ]
          },
          "metadata": {},
          "output_type": "display_data"
        },
        {
          "data": {
            "application/vnd.jupyter.widget-view+json": {
              "model_id": "4675e154075241a4aaeac8cdd7d20e22",
              "version_major": 2,
              "version_minor": 0
            },
            "text/plain": [
              "0 examples [00:00, ? examples/s]"
            ]
          },
          "metadata": {},
          "output_type": "display_data"
        },
        {
          "name": "stdout",
          "output_type": "stream",
          "text": [
            "Shuffling and writing examples to /root/tensorflow_datasets/imdb_reviews/plain_text/1.0.0.incompleteNFQ9GH/imdb_reviews-unsupervised.tfrecord\n"
          ]
        },
        {
          "data": {
            "application/vnd.jupyter.widget-view+json": {
              "model_id": "55bd6d9820ae476492e12ca207eb5e59",
              "version_major": 2,
              "version_minor": 0
            },
            "text/plain": [
              "  0%|          | 0/50000 [00:00<?, ? examples/s]"
            ]
          },
          "metadata": {},
          "output_type": "display_data"
        },
        {
          "name": "stderr",
          "output_type": "stream",
          "text": [
            "WARNING:absl:Dataset is using deprecated text encoder API which will be removed soon. Please use the plain_text version of the dataset and migrate to `tensorflow_text`.\n"
          ]
        },
        {
          "name": "stdout",
          "output_type": "stream",
          "text": [
            "\u001b[1mDataset imdb_reviews downloaded and prepared to /root/tensorflow_datasets/imdb_reviews/plain_text/1.0.0. Subsequent calls will reuse this data.\u001b[0m\n",
            "WARNING:tensorflow:From /usr/local/lib/python3.7/dist-packages/tensorflow_datasets/core/dataset_builder.py:598: get_single_element (from tensorflow.python.data.experimental.ops.get_single_element) is deprecated and will be removed in a future version.\n",
            "Instructions for updating:\n",
            "Use `tf.data.Dataset.get_single_element()`.\n"
          ]
        },
        {
          "name": "stderr",
          "output_type": "stream",
          "text": [
            "WARNING:tensorflow:From /usr/local/lib/python3.7/dist-packages/tensorflow_datasets/core/dataset_builder.py:598: get_single_element (from tensorflow.python.data.experimental.ops.get_single_element) is deprecated and will be removed in a future version.\n",
            "Instructions for updating:\n",
            "Use `tf.data.Dataset.get_single_element()`.\n"
          ]
        }
      ],
      "source": [
        "# let load in our data set\n",
        "\n",
        "train_data, test_data =tfds.load(name=\"imdb_reviews\", split=[\"train\", \"test\"], batch_size=-1, as_supervised=True)\n"
      ]
    },
    {
      "cell_type": "code",
      "execution_count": null,
      "metadata": {
        "colab": {
          "background_save": true
        },
        "id": "xqIl9T_gu96I"
      },
      "outputs": [],
      "source": [
        "train_examples, train_labels = tfds.as_numpy(train_data)\n",
        "test_examples, test_labels = tfds.as_numpy(test_data)"
      ]
    },
    {
      "cell_type": "markdown",
      "metadata": {
        "id": "Q5lCrNmKxB-4"
      },
      "source": [
        "note, tfds.as_numpy helps us to itrare through our dataset. read tesorflow guide for more info https://www.tensorflow.org/datasets/api_docs/python/tfds/as_numpy"
      ]
    },
    {
      "cell_type": "code",
      "execution_count": null,
      "metadata": {
        "colab": {
          "background_save": true
        },
        "id": "RzcqAcH3tnhs",
        "outputId": "ec2c3392-577b-49b9-ddca-be169b21b1a4"
      },
      "outputs": [
        {
          "data": {
            "text/plain": [
              "(b'As others have mentioned, all the women that go nude in this film are mostly absolutely gorgeous. The plot very ably shows the hypocrisy of the female libido. When men are around they want to be pursued, but when no \"men\" are around, they become the pursuers of a 14 year old boy. And the boy becomes a man really fast (we should all be so lucky at this age!). He then gets up the courage to pursue his true love.',\n",
              " 1)"
            ]
          },
          "execution_count": null,
          "metadata": {},
          "output_type": "execute_result"
        }
      ],
      "source": [
        "train_examples[4], train_labels[4]"
      ]
    },
    {
      "cell_type": "markdown",
      "metadata": {
        "id": "_55w9NYOxUQ4"
      },
      "source": [
        "### Becoming one with the data\n",
        "\n",
        "let visualised our data"
      ]
    },
    {
      "cell_type": "code",
      "execution_count": null,
      "metadata": {
        "colab": {
          "background_save": true
        },
        "id": "o50udN-ivMsZ",
        "outputId": "fabbb105-2826-4753-ee64-ec308c5f841b"
      },
      "outputs": [
        {
          "name": "stdout",
          "output_type": "stream",
          "text": [
            "The numbers of traning examples is 25000\n",
            "The numbers of test samples is 25000\n",
            "The numbers of traning lables is 25000\n",
            "The numbers of test lables is 25000\n"
          ]
        }
      ],
      "source": [
        "# let look at the numbers of training and test samples that we have\n",
        "print(f\"The numbers of traning examples is {len(train_examples)}\")\n",
        "print(f\"The numbers of test samples is {len(test_examples)}\")\n",
        "print(f\"The numbers of traning lables is {len(train_labels)}\")\n",
        "print(f\"The numbers of test lables is {len(test_labels)}\")"
      ]
    },
    {
      "cell_type": "code",
      "execution_count": null,
      "metadata": {
        "colab": {
          "background_save": true
        },
        "id": "0ubnGc1_3pCe",
        "outputId": "681cbdb6-7344-4bf1-cb98-af8691c867e9"
      },
      "outputs": [
        {
          "data": {
            "text/plain": [
              "numpy.ndarray"
            ]
          },
          "execution_count": null,
          "metadata": {},
          "output_type": "execute_result"
        }
      ],
      "source": [
        "type(train_examples)"
      ]
    },
    {
      "cell_type": "code",
      "execution_count": null,
      "metadata": {
        "colab": {
          "background_save": true
        },
        "id": "oGc9Q0Ai62Dg",
        "outputId": "3796cfe4-c572-4693-8bb4-cc34c083ea63"
      },
      "outputs": [
        {
          "data": {
            "text/html": [
              "\n",
              "  <div id=\"df-3f3aecac-a898-49e3-ad84-b6da4e8916db\">\n",
              "    <div class=\"colab-df-container\">\n",
              "      <div>\n",
              "<style scoped>\n",
              "    .dataframe tbody tr th:only-of-type {\n",
              "        vertical-align: middle;\n",
              "    }\n",
              "\n",
              "    .dataframe tbody tr th {\n",
              "        vertical-align: top;\n",
              "    }\n",
              "\n",
              "    .dataframe thead th {\n",
              "        text-align: right;\n",
              "    }\n",
              "</style>\n",
              "<table border=\"1\" class=\"dataframe\">\n",
              "  <thead>\n",
              "    <tr style=\"text-align: right;\">\n",
              "      <th></th>\n",
              "      <th>train_example</th>\n",
              "      <th>train_lables</th>\n",
              "    </tr>\n",
              "  </thead>\n",
              "  <tbody>\n",
              "    <tr>\n",
              "      <th>0</th>\n",
              "      <td>b\"This was an absolutely terrible movie. Don't...</td>\n",
              "      <td>0</td>\n",
              "    </tr>\n",
              "    <tr>\n",
              "      <th>1</th>\n",
              "      <td>b'I have been known to fall asleep during film...</td>\n",
              "      <td>0</td>\n",
              "    </tr>\n",
              "    <tr>\n",
              "      <th>2</th>\n",
              "      <td>b'Mann photographs the Alberta Rocky Mountains...</td>\n",
              "      <td>0</td>\n",
              "    </tr>\n",
              "    <tr>\n",
              "      <th>3</th>\n",
              "      <td>b'This is the kind of film for a snowy Sunday ...</td>\n",
              "      <td>1</td>\n",
              "    </tr>\n",
              "    <tr>\n",
              "      <th>4</th>\n",
              "      <td>b'As others have mentioned, all the women that...</td>\n",
              "      <td>1</td>\n",
              "    </tr>\n",
              "    <tr>\n",
              "      <th>...</th>\n",
              "      <td>...</td>\n",
              "      <td>...</td>\n",
              "    </tr>\n",
              "    <tr>\n",
              "      <th>24995</th>\n",
              "      <td>b'I have a severe problem with this show, seve...</td>\n",
              "      <td>0</td>\n",
              "    </tr>\n",
              "    <tr>\n",
              "      <th>24996</th>\n",
              "      <td>b'The year is 1964. Ernesto \"Che\" Guevara, hav...</td>\n",
              "      <td>1</td>\n",
              "    </tr>\n",
              "    <tr>\n",
              "      <th>24997</th>\n",
              "      <td>b'Okay. So I just got back. Before I start my ...</td>\n",
              "      <td>0</td>\n",
              "    </tr>\n",
              "    <tr>\n",
              "      <th>24998</th>\n",
              "      <td>b'When I saw this trailer on TV I was surprise...</td>\n",
              "      <td>0</td>\n",
              "    </tr>\n",
              "    <tr>\n",
              "      <th>24999</th>\n",
              "      <td>b'First of all, Riget is wonderful. Good comed...</td>\n",
              "      <td>1</td>\n",
              "    </tr>\n",
              "  </tbody>\n",
              "</table>\n",
              "<p>25000 rows × 2 columns</p>\n",
              "</div>\n",
              "      <button class=\"colab-df-convert\" onclick=\"convertToInteractive('df-3f3aecac-a898-49e3-ad84-b6da4e8916db')\"\n",
              "              title=\"Convert this dataframe to an interactive table.\"\n",
              "              style=\"display:none;\">\n",
              "        \n",
              "  <svg xmlns=\"http://www.w3.org/2000/svg\" height=\"24px\"viewBox=\"0 0 24 24\"\n",
              "       width=\"24px\">\n",
              "    <path d=\"M0 0h24v24H0V0z\" fill=\"none\"/>\n",
              "    <path d=\"M18.56 5.44l.94 2.06.94-2.06 2.06-.94-2.06-.94-.94-2.06-.94 2.06-2.06.94zm-11 1L8.5 8.5l.94-2.06 2.06-.94-2.06-.94L8.5 2.5l-.94 2.06-2.06.94zm10 10l.94 2.06.94-2.06 2.06-.94-2.06-.94-.94-2.06-.94 2.06-2.06.94z\"/><path d=\"M17.41 7.96l-1.37-1.37c-.4-.4-.92-.59-1.43-.59-.52 0-1.04.2-1.43.59L10.3 9.45l-7.72 7.72c-.78.78-.78 2.05 0 2.83L4 21.41c.39.39.9.59 1.41.59.51 0 1.02-.2 1.41-.59l7.78-7.78 2.81-2.81c.8-.78.8-2.07 0-2.86zM5.41 20L4 18.59l7.72-7.72 1.47 1.35L5.41 20z\"/>\n",
              "  </svg>\n",
              "      </button>\n",
              "      \n",
              "  <style>\n",
              "    .colab-df-container {\n",
              "      display:flex;\n",
              "      flex-wrap:wrap;\n",
              "      gap: 12px;\n",
              "    }\n",
              "\n",
              "    .colab-df-convert {\n",
              "      background-color: #E8F0FE;\n",
              "      border: none;\n",
              "      border-radius: 50%;\n",
              "      cursor: pointer;\n",
              "      display: none;\n",
              "      fill: #1967D2;\n",
              "      height: 32px;\n",
              "      padding: 0 0 0 0;\n",
              "      width: 32px;\n",
              "    }\n",
              "\n",
              "    .colab-df-convert:hover {\n",
              "      background-color: #E2EBFA;\n",
              "      box-shadow: 0px 1px 2px rgba(60, 64, 67, 0.3), 0px 1px 3px 1px rgba(60, 64, 67, 0.15);\n",
              "      fill: #174EA6;\n",
              "    }\n",
              "\n",
              "    [theme=dark] .colab-df-convert {\n",
              "      background-color: #3B4455;\n",
              "      fill: #D2E3FC;\n",
              "    }\n",
              "\n",
              "    [theme=dark] .colab-df-convert:hover {\n",
              "      background-color: #434B5C;\n",
              "      box-shadow: 0px 1px 3px 1px rgba(0, 0, 0, 0.15);\n",
              "      filter: drop-shadow(0px 1px 2px rgba(0, 0, 0, 0.3));\n",
              "      fill: #FFFFFF;\n",
              "    }\n",
              "  </style>\n",
              "\n",
              "      <script>\n",
              "        const buttonEl =\n",
              "          document.querySelector('#df-3f3aecac-a898-49e3-ad84-b6da4e8916db button.colab-df-convert');\n",
              "        buttonEl.style.display =\n",
              "          google.colab.kernel.accessAllowed ? 'block' : 'none';\n",
              "\n",
              "        async function convertToInteractive(key) {\n",
              "          const element = document.querySelector('#df-3f3aecac-a898-49e3-ad84-b6da4e8916db');\n",
              "          const dataTable =\n",
              "            await google.colab.kernel.invokeFunction('convertToInteractive',\n",
              "                                                     [key], {});\n",
              "          if (!dataTable) return;\n",
              "\n",
              "          const docLinkHtml = 'Like what you see? Visit the ' +\n",
              "            '<a target=\"_blank\" href=https://colab.research.google.com/notebooks/data_table.ipynb>data table notebook</a>'\n",
              "            + ' to learn more about interactive tables.';\n",
              "          element.innerHTML = '';\n",
              "          dataTable['output_type'] = 'display_data';\n",
              "          await google.colab.output.renderOutput(dataTable, element);\n",
              "          const docLink = document.createElement('div');\n",
              "          docLink.innerHTML = docLinkHtml;\n",
              "          element.appendChild(docLink);\n",
              "        }\n",
              "      </script>\n",
              "    </div>\n",
              "  </div>\n",
              "  "
            ],
            "text/plain": [
              "                                           train_example  train_lables\n",
              "0      b\"This was an absolutely terrible movie. Don't...             0\n",
              "1      b'I have been known to fall asleep during film...             0\n",
              "2      b'Mann photographs the Alberta Rocky Mountains...             0\n",
              "3      b'This is the kind of film for a snowy Sunday ...             1\n",
              "4      b'As others have mentioned, all the women that...             1\n",
              "...                                                  ...           ...\n",
              "24995  b'I have a severe problem with this show, seve...             0\n",
              "24996  b'The year is 1964. Ernesto \"Che\" Guevara, hav...             1\n",
              "24997  b'Okay. So I just got back. Before I start my ...             0\n",
              "24998  b'When I saw this trailer on TV I was surprise...             0\n",
              "24999  b'First of all, Riget is wonderful. Good comed...             1\n",
              "\n",
              "[25000 rows x 2 columns]"
            ]
          },
          "execution_count": null,
          "metadata": {},
          "output_type": "execute_result"
        }
      ],
      "source": [
        "dataset = pd.DataFrame({'train_example': train_examples, 'train_lables':train_labels})\n",
        "dataset"
      ]
    },
    {
      "cell_type": "code",
      "execution_count": null,
      "metadata": {
        "colab": {
          "background_save": true
        },
        "id": "fHvbqEzk2lat",
        "outputId": "13fe3609-44a3-4577-880d-2ae175e5b68d"
      },
      "outputs": [
        {
          "name": "stdout",
          "output_type": "stream",
          "text": [
            "Target: 0 (nagative)\n",
            "Text:\n",
            "b'A half-hearted attempt to bring Elvis Presley into the modern day, but despite a sexy little shower scene and a pseudo-Playboy magazine subplot, Presley is surrounded by the same old coy, winking clich\\xc3\\xa9s. A woman picks E.P. up on the beach and then proceeds to take over his life--and he doesn\\'t seem to care! Dick Sargent is grueling in another sidebar, but Don Porter and Rudy Vallee (!) try hard as Elvis\\' two bosses (he\\'s moonlighting, you see). Some of the songs are quite good, especially \"Almost in Love\", but if you want to see a looser, hipper, updated Elvis sex-comedy--look elsewhere. When Elvis and his Fatal Attraction get into bed together, there\\'s actually a wooden board in between them! Get real. ** from ****'\n",
            "\n",
            "---\n",
            "\n",
            "Target: 1 (positive)\n",
            "Text:\n",
            "b'This has long been one of my favourite adaptations of an Austen novel. Although it is definitely not in the same category as the spectacular \"Pride and Prejudice,\" \"Emma\" is a lush and relatively faithful TV version of Austen\\'s novel -- especially considering its short length. The biggest change between the novel and the movie is a good one, as the unnecessary snobbishness that Austen exhibits at the end of the story is removed here and replaced with someone much more akin to Emma\\'s character in the rest of the book. I thought the characters chosen to portray the roles were well-picked. Kate Beckinsale walks the fine line between girlishness and the social snob with a grace completely lost in Gwyneth Paltrow\\'s \\'96 version. Samantha Morton\\'s wispy blonde locks suit her attitude and character as the simper that accompanies her role in previous characterisations is replaced with the Harriet we know from the book. Mister Knightly\\'s role is carried out extremely well in my opinion; both the seriousness and the gentle compassion that the hero is painted with in the novel are present here in this much-neglected, sumptuous film.'\n",
            "\n",
            "---\n",
            "\n",
            "Target: 1 (positive)\n",
            "Text:\n",
            "b'Let us begin by saying that this film\\'s English title \"The Power of Kangwon Province\" is an absolute misnomer.It is because in Hong Sang Soo\\'s film,there are no actual shots of wars,troubles and conflicts.So the idea of establishing power of a province is neither suitable nor valid in the context of this film.If we were to judge this film by its Korean language title,\"Kangwon-do ui him\" is going to appear as a cryptic statement about emotional turmoils of its young protagonists whose minds are not at rest.Hong Sang Soo has also directed a highly prolific visual document about erratic choices made by people in their lives.The people in question are a couple of young girls who are constantly in the process of displaying their moods,whims and fancies. If making a film out of nothingness can be claimed as a film maker\\'s meritorious virtue then Hong Sang Soo has to be saluted as a courageous film maker whose films speak volumes about ubiquitous nothingness of human relationships,sentiments and lives.Whether one likes it or not,this is the only fair conclusion that be deduced from this particular film.'\n",
            "\n",
            "---\n",
            "\n",
            "Target: 0 (nagative)\n",
            "Text:\n",
            "b'In fact, it never was. I\\'m not sure why Billy Crystal wanted to recreate a 1940s screwball comedy. What a vacuous shambles! None of these people come close to a Cary Grant, Spencer Tracy, Katherine Hepburn, etc, and anyway, today\\'s audience isn\\'t as receptive to this facile muck. Writing is trivial. The hackneyed plot is razor thin and obvious. The chemistry between the leading characters is non-existent. It\\'s interesting that Julia Roberts seems to think she\\'s a reincarnation of some big star from the \"golden age of Hollywood\", whenever that may be. It\\'s an effect she tries and fails to attain yet again with Richard Gere in Runaway Bride.'\n",
            "\n",
            "---\n",
            "\n",
            "Target: 0 (nagative)\n",
            "Text:\n",
            "b\"I'm a big fan of Italian films from the seventies, and I wouldn't hesitate to list the beautiful Barbara Bouchet among my favourite actresses of all time, so I did go into this film with some hopes. However, it soon becomes apparent that this is a largely pointless film that isn't going to go anywhere. Clearly nobody would go into this expecting much more, but the fact that this is pointless gets more annoying when you consider that it's also rather dull and none of the characters are interesting. As the title suggests, the film focuses on a 'rogue'; in this case one that steals, womanises and smuggles stuff. That's basically all the plot that this movie has. The film does have a real 'seventies style' to it and the idea of it all being very carefree gets across well. It sometimes seems like directors Boro Draskovic and Gregory Simpson were trying to put across some sort of point, although whatever that point is doesn't come across very well. Seeing Barbara Bouchet on screen is always a pleasure, and that is the case here too; she's definitely the best thing about the film and the sequence in which she hangs out of a car naked is the best part of the film. Overall, The Rogue will probably have some appeal for people who love the seventies style, but unfortunately it doesn't have much else to offer.\"\n",
            "\n",
            "---\n",
            "\n"
          ]
        }
      ],
      "source": [
        "# Let's visualize some random training examples\n",
        "import random\n",
        "random_index = random.randint(0, len(train_examples)-5) # create random indexes not higher than the total number of samples\n",
        "for row in dataset[[\"train_example\", \"train_lables\"]][random_index:random_index+5].itertuples():\n",
        "  _,train_examples, train_labels = row\n",
        "  print(f\"Target: {train_labels}\", \"(positive)\" if train_labels > 0 else \"(nagative)\")\n",
        "  print(f\"Text:\\n{train_examples}\\n\")\n",
        "  print(\"---\\n\")"
      ]
    },
    {
      "cell_type": "code",
      "execution_count": null,
      "metadata": {
        "colab": {
          "background_save": true
        },
        "id": "fZNqYN183XTE",
        "outputId": "1e885e64-f1c6-4aeb-e6a2-a219a0b3d9c0"
      },
      "outputs": [
        {
          "data": {
            "text/html": [
              "\n",
              "  <div id=\"df-af09fa00-9fc8-4d73-bf71-216aec93a42a\">\n",
              "    <div class=\"colab-df-container\">\n",
              "      <div>\n",
              "<style scoped>\n",
              "    .dataframe tbody tr th:only-of-type {\n",
              "        vertical-align: middle;\n",
              "    }\n",
              "\n",
              "    .dataframe tbody tr th {\n",
              "        vertical-align: top;\n",
              "    }\n",
              "\n",
              "    .dataframe thead th {\n",
              "        text-align: right;\n",
              "    }\n",
              "</style>\n",
              "<table border=\"1\" class=\"dataframe\">\n",
              "  <thead>\n",
              "    <tr style=\"text-align: right;\">\n",
              "      <th></th>\n",
              "      <th>train_example</th>\n",
              "      <th>train_lables</th>\n",
              "      <th>rewiew_lenght</th>\n",
              "    </tr>\n",
              "  </thead>\n",
              "  <tbody>\n",
              "    <tr>\n",
              "      <th>0</th>\n",
              "      <td>b\"This was an absolutely terrible movie. Don't...</td>\n",
              "      <td>0</td>\n",
              "      <td>709</td>\n",
              "    </tr>\n",
              "    <tr>\n",
              "      <th>1</th>\n",
              "      <td>b'I have been known to fall asleep during film...</td>\n",
              "      <td>0</td>\n",
              "      <td>617</td>\n",
              "    </tr>\n",
              "    <tr>\n",
              "      <th>2</th>\n",
              "      <td>b'Mann photographs the Alberta Rocky Mountains...</td>\n",
              "      <td>0</td>\n",
              "      <td>787</td>\n",
              "    </tr>\n",
              "    <tr>\n",
              "      <th>3</th>\n",
              "      <td>b'This is the kind of film for a snowy Sunday ...</td>\n",
              "      <td>1</td>\n",
              "      <td>464</td>\n",
              "    </tr>\n",
              "    <tr>\n",
              "      <th>4</th>\n",
              "      <td>b'As others have mentioned, all the women that...</td>\n",
              "      <td>1</td>\n",
              "      <td>413</td>\n",
              "    </tr>\n",
              "    <tr>\n",
              "      <th>...</th>\n",
              "      <td>...</td>\n",
              "      <td>...</td>\n",
              "      <td>...</td>\n",
              "    </tr>\n",
              "    <tr>\n",
              "      <th>24995</th>\n",
              "      <td>b'I have a severe problem with this show, seve...</td>\n",
              "      <td>0</td>\n",
              "      <td>2992</td>\n",
              "    </tr>\n",
              "    <tr>\n",
              "      <th>24996</th>\n",
              "      <td>b'The year is 1964. Ernesto \"Che\" Guevara, hav...</td>\n",
              "      <td>1</td>\n",
              "      <td>972</td>\n",
              "    </tr>\n",
              "    <tr>\n",
              "      <th>24997</th>\n",
              "      <td>b'Okay. So I just got back. Before I start my ...</td>\n",
              "      <td>0</td>\n",
              "      <td>4230</td>\n",
              "    </tr>\n",
              "    <tr>\n",
              "      <th>24998</th>\n",
              "      <td>b'When I saw this trailer on TV I was surprise...</td>\n",
              "      <td>0</td>\n",
              "      <td>877</td>\n",
              "    </tr>\n",
              "    <tr>\n",
              "      <th>24999</th>\n",
              "      <td>b'First of all, Riget is wonderful. Good comed...</td>\n",
              "      <td>1</td>\n",
              "      <td>1700</td>\n",
              "    </tr>\n",
              "  </tbody>\n",
              "</table>\n",
              "<p>25000 rows × 3 columns</p>\n",
              "</div>\n",
              "      <button class=\"colab-df-convert\" onclick=\"convertToInteractive('df-af09fa00-9fc8-4d73-bf71-216aec93a42a')\"\n",
              "              title=\"Convert this dataframe to an interactive table.\"\n",
              "              style=\"display:none;\">\n",
              "        \n",
              "  <svg xmlns=\"http://www.w3.org/2000/svg\" height=\"24px\"viewBox=\"0 0 24 24\"\n",
              "       width=\"24px\">\n",
              "    <path d=\"M0 0h24v24H0V0z\" fill=\"none\"/>\n",
              "    <path d=\"M18.56 5.44l.94 2.06.94-2.06 2.06-.94-2.06-.94-.94-2.06-.94 2.06-2.06.94zm-11 1L8.5 8.5l.94-2.06 2.06-.94-2.06-.94L8.5 2.5l-.94 2.06-2.06.94zm10 10l.94 2.06.94-2.06 2.06-.94-2.06-.94-.94-2.06-.94 2.06-2.06.94z\"/><path d=\"M17.41 7.96l-1.37-1.37c-.4-.4-.92-.59-1.43-.59-.52 0-1.04.2-1.43.59L10.3 9.45l-7.72 7.72c-.78.78-.78 2.05 0 2.83L4 21.41c.39.39.9.59 1.41.59.51 0 1.02-.2 1.41-.59l7.78-7.78 2.81-2.81c.8-.78.8-2.07 0-2.86zM5.41 20L4 18.59l7.72-7.72 1.47 1.35L5.41 20z\"/>\n",
              "  </svg>\n",
              "      </button>\n",
              "      \n",
              "  <style>\n",
              "    .colab-df-container {\n",
              "      display:flex;\n",
              "      flex-wrap:wrap;\n",
              "      gap: 12px;\n",
              "    }\n",
              "\n",
              "    .colab-df-convert {\n",
              "      background-color: #E8F0FE;\n",
              "      border: none;\n",
              "      border-radius: 50%;\n",
              "      cursor: pointer;\n",
              "      display: none;\n",
              "      fill: #1967D2;\n",
              "      height: 32px;\n",
              "      padding: 0 0 0 0;\n",
              "      width: 32px;\n",
              "    }\n",
              "\n",
              "    .colab-df-convert:hover {\n",
              "      background-color: #E2EBFA;\n",
              "      box-shadow: 0px 1px 2px rgba(60, 64, 67, 0.3), 0px 1px 3px 1px rgba(60, 64, 67, 0.15);\n",
              "      fill: #174EA6;\n",
              "    }\n",
              "\n",
              "    [theme=dark] .colab-df-convert {\n",
              "      background-color: #3B4455;\n",
              "      fill: #D2E3FC;\n",
              "    }\n",
              "\n",
              "    [theme=dark] .colab-df-convert:hover {\n",
              "      background-color: #434B5C;\n",
              "      box-shadow: 0px 1px 3px 1px rgba(0, 0, 0, 0.15);\n",
              "      filter: drop-shadow(0px 1px 2px rgba(0, 0, 0, 0.3));\n",
              "      fill: #FFFFFF;\n",
              "    }\n",
              "  </style>\n",
              "\n",
              "      <script>\n",
              "        const buttonEl =\n",
              "          document.querySelector('#df-af09fa00-9fc8-4d73-bf71-216aec93a42a button.colab-df-convert');\n",
              "        buttonEl.style.display =\n",
              "          google.colab.kernel.accessAllowed ? 'block' : 'none';\n",
              "\n",
              "        async function convertToInteractive(key) {\n",
              "          const element = document.querySelector('#df-af09fa00-9fc8-4d73-bf71-216aec93a42a');\n",
              "          const dataTable =\n",
              "            await google.colab.kernel.invokeFunction('convertToInteractive',\n",
              "                                                     [key], {});\n",
              "          if (!dataTable) return;\n",
              "\n",
              "          const docLinkHtml = 'Like what you see? Visit the ' +\n",
              "            '<a target=\"_blank\" href=https://colab.research.google.com/notebooks/data_table.ipynb>data table notebook</a>'\n",
              "            + ' to learn more about interactive tables.';\n",
              "          element.innerHTML = '';\n",
              "          dataTable['output_type'] = 'display_data';\n",
              "          await google.colab.output.renderOutput(dataTable, element);\n",
              "          const docLink = document.createElement('div');\n",
              "          docLink.innerHTML = docLinkHtml;\n",
              "          element.appendChild(docLink);\n",
              "        }\n",
              "      </script>\n",
              "    </div>\n",
              "  </div>\n",
              "  "
            ],
            "text/plain": [
              "                                           train_example  train_lables  \\\n",
              "0      b\"This was an absolutely terrible movie. Don't...             0   \n",
              "1      b'I have been known to fall asleep during film...             0   \n",
              "2      b'Mann photographs the Alberta Rocky Mountains...             0   \n",
              "3      b'This is the kind of film for a snowy Sunday ...             1   \n",
              "4      b'As others have mentioned, all the women that...             1   \n",
              "...                                                  ...           ...   \n",
              "24995  b'I have a severe problem with this show, seve...             0   \n",
              "24996  b'The year is 1964. Ernesto \"Che\" Guevara, hav...             1   \n",
              "24997  b'Okay. So I just got back. Before I start my ...             0   \n",
              "24998  b'When I saw this trailer on TV I was surprise...             0   \n",
              "24999  b'First of all, Riget is wonderful. Good comed...             1   \n",
              "\n",
              "       rewiew_lenght  \n",
              "0                709  \n",
              "1                617  \n",
              "2                787  \n",
              "3                464  \n",
              "4                413  \n",
              "...              ...  \n",
              "24995           2992  \n",
              "24996            972  \n",
              "24997           4230  \n",
              "24998            877  \n",
              "24999           1700  \n",
              "\n",
              "[25000 rows x 3 columns]"
            ]
          },
          "execution_count": null,
          "metadata": {},
          "output_type": "execute_result"
        }
      ],
      "source": [
        "# let add the length of each dataset to the model, it will be useful\n",
        "dataset['rewiew_lenght'] = dataset.train_example.apply(len)\n",
        "dataset"
      ]
    },
    {
      "cell_type": "markdown",
      "metadata": {
        "id": "zKgw_iHqfTVW"
      },
      "source": [
        "### Converting our text to numbers:\n",
        "\n",
        "When working with nueral network, they prefer our text to be converted into numbers, and we will be using a process callled `Tokenization and Embeding`"
      ]
    },
    {
      "cell_type": "code",
      "execution_count": null,
      "metadata": {
        "colab": {
          "background_save": true
        },
        "id": "iD_L-sIxf2P7"
      },
      "outputs": [],
      "source": [
        "# impoeting text vectorizer\n",
        "from tensorflow.keras.layers.experimental.preprocessing import TextVectorization"
      ]
    },
    {
      "cell_type": "code",
      "execution_count": null,
      "metadata": {
        "colab": {
          "background_save": true
        },
        "id": "I0KLPV-IhQPH",
        "outputId": "143fdacc-640f-40c7-c026-0995464cdfbc"
      },
      "outputs": [
        {
          "data": {
            "text/plain": [
              "1325"
            ]
          },
          "execution_count": null,
          "metadata": {},
          "output_type": "execute_result"
        }
      ],
      "source": [
        "# calculating the average number of token (words) in our training_example\n",
        "max_lenght= round(sum(dataset[\"rewiew_lenght\"])/len(dataset))\n",
        "max_lenght"
      ]
    },
    {
      "cell_type": "code",
      "execution_count": null,
      "metadata": {
        "colab": {
          "background_save": true
        },
        "id": "0bCeMd29hzON"
      },
      "outputs": [],
      "source": [
        "# Finding the maximum lenght of the \n",
        "# For this particular proble, i habe decided to keep at least 50% of the words in my train_examples\n",
        "max_vocal_lenght=round(sum(dataset[\"rewiew_lenght\"])/.50)\n",
        "max_vocal_lenght= 30000"
      ]
    },
    {
      "cell_type": "code",
      "execution_count": null,
      "metadata": {
        "colab": {
          "background_save": true
        },
        "id": "1kOpNcFJf2L7"
      },
      "outputs": [],
      "source": [
        "text_vectorizer= TextVectorization(max_tokens=max_vocal_lenght,\n",
        "                                   output_mode=\"int\",\n",
        "                                   output_sequence_length=max_lenght,\n",
        "                                   )"
      ]
    },
    {
      "cell_type": "code",
      "execution_count": null,
      "metadata": {
        "colab": {
          "background_save": true
        },
        "id": "kdo9kKW4l0sr"
      },
      "outputs": [],
      "source": [
        "# now, we have to do this cause we have convert our train_example and train_lables into a pandas dataframe\n",
        "train_examples= dataset[\"train_example\"]\n",
        "train_lables= dataset[\"train_lables\"]"
      ]
    },
    {
      "cell_type": "code",
      "execution_count": null,
      "metadata": {
        "colab": {
          "background_save": true
        },
        "id": "zfvKju9onAVj"
      },
      "outputs": [],
      "source": [
        "# let adapt our text_vectorizer to our train_example\n",
        "# note, its very important\n",
        "text_vectorizer.adapt(train_examples)"
      ]
    },
    {
      "cell_type": "code",
      "execution_count": null,
      "metadata": {
        "colab": {
          "background_save": true
        },
        "id": "7nccbYVKQwjw",
        "outputId": "6bb8aa09-e7c1-44d2-e880-ed1dfd70b241"
      },
      "outputs": [
        {
          "data": {
            "text/plain": [
              "TensorShape([1, 1325])"
            ]
          },
          "execution_count": null,
          "metadata": {},
          "output_type": "execute_result"
        }
      ],
      "source": [
        "# Create a sample sentences and tokenized it\n",
        "sampel_sentence= \"There's a flood in my street!\"\n",
        "b=text_vectorizer([sampel_sentence])\n",
        "b.shape"
      ]
    },
    {
      "cell_type": "code",
      "execution_count": null,
      "metadata": {
        "colab": {
          "background_save": true
        },
        "id": "dz5rfiCef2JK",
        "outputId": "5c386e06-54fa-43c3-d3dd-529199b8dcac"
      },
      "outputs": [
        {
          "name": "stdout",
          "output_type": "stream",
          "text": [
            "Random sentence before passing it into our text_vectorizer layer \n",
            " b\"I rented this movie this past weekend, cranked up the surround sound system, and got some great sound from special affects. This movie is a great movie rental, the special affects where enough to scare my fiance, but I noticed some looked suprisingly computer generated. I didn't go to the movies and see this, but its a scary late night don't feel like going out movie. I would recommend it!\"\n",
            "\n",
            " \n",
            "Random sentence after passing it into our text_vecotrizer layer\n",
            "\n",
            " [<tf.Tensor: shape=(1, 1325), dtype=int64, numpy=array([[  10, 1536,   11, ...,    0,    0,    0]])>] \n",
            "Shape after appling text_vectorizer (1, 1325)\n"
          ]
        }
      ],
      "source": [
        "# now len pass a random sentence into our text_vectorizer and see the output\n",
        "random_sentence= random.choice(train_examples)\n",
        "# let pass our random sentence to our text vectorizer\n",
        "vectorized_word= text_vectorizer([random_sentence])\n",
        "# let print a nice output\n",
        "print(f\"Random sentence before passing it into our text_vectorizer layer \\n {random_sentence}\\n\\n \")\n",
        "print(f\"Random sentence after passing it into our text_vecotrizer layer\\n\\n {[vectorized_word]} \")\n",
        "print(f\"Shape after appling text_vectorizer {vectorized_word.shape}\")"
      ]
    },
    {
      "cell_type": "code",
      "execution_count": null,
      "metadata": {
        "colab": {
          "background_save": true
        },
        "id": "v3x7HcXJf2DD",
        "outputId": "1307e2e0-12b7-4c37-fe86-86ccd9cb251d"
      },
      "outputs": [
        {
          "name": "stdout",
          "output_type": "stream",
          "text": [
            "Number of words in vocab: 30000\n",
            "5 most common words: ['', '[UNK]', 'the', 'and', 'a']\n",
            "5 least words: ['ond345ej', 'oncoming', 'oncamera', 'omniscient', 'omitting'] \n"
          ]
        }
      ],
      "source": [
        "# Get the unique words in the vocabulary\n",
        "words_in_vocab = text_vectorizer.get_vocabulary() # get all of the unique words in \n",
        "top_5_words= words_in_vocab[:5] # get the 5  most common words\n",
        "bottom_5_words= words_in_vocab[-5:]  # get the 5 least common words\n",
        "print(f\"Number of words in vocab: {len(words_in_vocab)}\")\n",
        "print(f\"5 most common words: {top_5_words}\")\n",
        "print(f\"5 least words: {bottom_5_words} \")"
      ]
    },
    {
      "cell_type": "markdown",
      "metadata": {
        "id": "FApYJa2oLi-Q"
      },
      "source": [
        "### Creating text embeding using embeding layer.\n",
        "\n",
        "Embeding are very import as it helps convert the numbers that oue text has been converted to into floating point value and can be updated during training. To know more check out https://www.tensorflow.org/api_docs/python/tf/keras/layers/Embedding"
      ]
    },
    {
      "cell_type": "code",
      "execution_count": null,
      "metadata": {
        "colab": {
          "background_save": true
        },
        "id": "bfyCKisXLir0"
      },
      "outputs": [],
      "source": [
        "# import keras layers\n",
        "from tensorflow.keras.layers import Embedding"
      ]
    },
    {
      "cell_type": "code",
      "execution_count": null,
      "metadata": {
        "colab": {
          "background_save": true
        },
        "id": "QEEG2TV7-UsA"
      },
      "outputs": [],
      "source": [
        "embedding= Embedding(input_dim=max_vocal_lenght,# set input shape\n",
        "                     output_dim= 128,\n",
        "                     embeddings_initializer= \"uniform\", # default, it initialized our embeddings randomly \n",
        "                     input_length=max_lenght)"
      ]
    },
    {
      "cell_type": "code",
      "execution_count": null,
      "metadata": {
        "colab": {
          "background_save": true
        },
        "id": "cSaAQew8fF7a",
        "outputId": "13b6afd9-172f-41bc-c3c2-eab23ea86101"
      },
      "outputs": [
        {
          "name": "stdout",
          "output_type": "stream",
          "text": [
            "Random sentence before passing it into our text_vectorizer layer \n",
            " b'For what it is, \"Raising Victor Vargas\" is about as close to perfection as a film can get. Either sheer genius from a fledgling auteur or just one of those lucky mixes where everything clicked (probably some of each), this simple little slice-of-urban-life ethnic first love flick fleshes out its young characters with such depth you can almost read their minds. The film begins with a strong flavor of \"street\" but works its way into a Latino family affair and then focuses on a story which speaks volumes about the uncertainty of youth and the profoundly natural desire to love another. In my experience, never has so much been done with so little (cast of tyros, novice director, etc.). Praised by the critics but not for everyone, \"Raising Victor Vargas\" is recommended for indie lovers and realists into simple tales rich in humanness. (A)'\n",
            "\n",
            " \n",
            "Random sentence after passing it into our text_vecotrizer layer\n",
            "\n",
            " [<tf.Tensor: shape=(1, 1325), dtype=int64, numpy=array([[16, 49,  9, ...,  0,  0,  0]])>]\n",
            "\n",
            " \n",
            "Random sentence before passing it into our embedding layer \n",
            " [[[ 0.01494973 -0.04574852  0.03546521 ...  0.03878012 -0.01186639\n",
            "    0.00523905]\n",
            "  [ 0.04206588  0.00456952  0.04999069 ... -0.04952376 -0.00712117\n",
            "   -0.0340171 ]\n",
            "  [-0.045363    0.02646936 -0.03004371 ...  0.02588606 -0.03208168\n",
            "   -0.01064227]\n",
            "  ...\n",
            "  [ 0.02543583  0.02694735  0.04617721 ...  0.04008697  0.03887359\n",
            "   -0.01201848]\n",
            "  [ 0.02543583  0.02694735  0.04617721 ...  0.04008697  0.03887359\n",
            "   -0.01201848]\n",
            "  [ 0.02543583  0.02694735  0.04617721 ...  0.04008697  0.03887359\n",
            "   -0.01201848]]] \n",
            "Shape of our random sentence after our embedding layer:\n",
            "  (1, 1325, 128) \n"
          ]
        }
      ],
      "source": [
        "# let pass our random sentence into our embedding layer\n",
        "# now len pass a random sentence into our text_vectorizer and see the output\n",
        "random_sentence= random.choice(train_examples)\n",
        "# let pass our random sentence to our text vectorizer\n",
        "vectorized_word= text_vectorizer([random_sentence])\n",
        "# let no pass it into our embedding layer\n",
        "embed= embedding(vectorized_word) # Note that i passed in the random senctence in to th embedding layer after it has been tokenized,\n",
        "# it very important to note so \n",
        "# let print a nice output\n",
        "print(f\"Random sentence before passing it into our text_vectorizer layer \\n {random_sentence}\\n\\n \")\n",
        "print(f\"Random sentence after passing it into our text_vecotrizer layer\\n\\n {[vectorized_word]}\\n\\n \")\n",
        "print(f\"Random sentence before passing it into our embedding layer \\n {embed} \")\n",
        "print(f\"Shape of our random sentence after our embedding layer:\\n  {embed.shape} \")"
      ]
    },
    {
      "cell_type": "markdown",
      "metadata": {
        "id": "_t0Cc173T67q"
      },
      "source": [
        "### Model 0: baseline model.\n",
        "\n",
        "For our baseline model, we will be using the sklearn and we will be able to figure our if our deep learning model can perforem better than our baseline model"
      ]
    },
    {
      "cell_type": "markdown",
      "metadata": {
        "id": "kXczRYSqUc04"
      },
      "source": [
        "We will be usint sklearn TfiedVectorizer https://scikit-learn.org/stable/modules/generated/sklearn.feature_extraction.text.TfidfVectorizer.html"
      ]
    },
    {
      "cell_type": "code",
      "execution_count": null,
      "metadata": {
        "colab": {
          "background_save": true
        },
        "id": "NCQi-y9oT5pl"
      },
      "outputs": [],
      "source": [
        "# impor the useful libaries\n",
        "from sklearn.feature_extraction.text import TfidfVectorizer\n",
        "from sklearn.naive_bayes import MultinomialNB\n",
        "from sklearn.pipeline import Pipeline"
      ]
    },
    {
      "cell_type": "code",
      "execution_count": null,
      "metadata": {
        "colab": {
          "background_save": true
        },
        "id": "M1e5ZgHgoEQb",
        "outputId": "18a59fa3-d290-4e76-800e-550f49176c04"
      },
      "outputs": [
        {
          "data": {
            "text/plain": [
              "0"
            ]
          },
          "execution_count": null,
          "metadata": {},
          "output_type": "execute_result"
        }
      ],
      "source": [
        "train_labels"
      ]
    },
    {
      "cell_type": "code",
      "execution_count": null,
      "metadata": {
        "colab": {
          "background_save": true
        },
        "id": "kdTZ4b3FPbqV",
        "outputId": "02bb4801-83cc-4072-d7fa-f95d8d74534b"
      },
      "outputs": [
        {
          "data": {
            "text/plain": [
              "Pipeline(steps=[('tfid', TfidfVectorizer()), ('clf', MultinomialNB())])"
            ]
          },
          "execution_count": null,
          "metadata": {},
          "output_type": "execute_result"
        }
      ],
      "source": [
        "# creating tokenization and embedding pilepline\n",
        "model_0= Pipeline([\n",
        "                   (\"tfid\", TfidfVectorizer()),# convert words to numbers using tfidf\n",
        "                  (\"clf\",  MultinomialNB()) # model the text\n",
        "])\n",
        "\n",
        "# let fit our model\n",
        "model_0.fit(train_examples, train_lables)"
      ]
    },
    {
      "cell_type": "code",
      "execution_count": null,
      "metadata": {
        "colab": {
          "background_save": true
        },
        "id": "2pdMnidmXJCT",
        "outputId": "e6802a9d-2a99-454c-a941-f277d8ebe5d0"
      },
      "outputs": [
        {
          "name": "stdout",
          "output_type": "stream",
          "text": [
            "Our baseline model was able to achive an accuracy of: 82.96\n"
          ]
        }
      ],
      "source": [
        "# Let evaluate our base model\n",
        "baseline_score=model_0.score(test_examples, test_labels)\n",
        "print(f\"Our baseline model was able to achive an accuracy of: {baseline_score*100 :.2f}\")"
      ]
    },
    {
      "cell_type": "code",
      "execution_count": null,
      "metadata": {
        "colab": {
          "background_save": true
        },
        "id": "lcGz5qBnp0p4",
        "outputId": "9a92820c-92bf-4232-ef9c-f846f1a5c075"
      },
      "outputs": [
        {
          "data": {
            "text/plain": [
              "array([1, 1, 0, 0, 1, 1, 1, 1, 0, 0])"
            ]
          },
          "execution_count": null,
          "metadata": {},
          "output_type": "execute_result"
        }
      ],
      "source": [
        "# let make predictions with our base line model\n",
        "baseline_model_pred_probs= model_0.predict(test_examples)\n",
        "# Let view the first 10 predictions\n",
        "baseline_model_pred_probs[:10]"
      ]
    },
    {
      "cell_type": "markdown",
      "metadata": {
        "id": "K354svk_bmdf"
      },
      "source": [
        "### Creating an evaluation function for our model experiments\n",
        "\n",
        "We could evaluate these as they are but since we're going to be evaluating several models in the same way going forward, let's create a helper function which takes an array of predictions and ground truth labels and computes the following:\n",
        "* Accuracy\n",
        "* Precision\n",
        "* Recall\n",
        "* F1-score\n",
        "\n",
        "> 🔑 **Note:** Since we're dealing with a classification problem, the above metrics are the most appropriate. If we were working with a regression problem, other metrics such as MAE (mean absolute error) would be a better choice."
      ]
    },
    {
      "cell_type": "code",
      "execution_count": null,
      "metadata": {
        "colab": {
          "background_save": true
        },
        "id": "1-TIK84Tslq6"
      },
      "outputs": [],
      "source": [
        "# let create a funtion that will calculate our models Accuracy, precision, Recall amd F1-score\n",
        "# importing tne use full libaries\n",
        "from sklearn.metrics import precision_recall_fscore_support, accuracy_score\n",
        "def calculate_results(y_true, y_preds):\n",
        "  \"\"\"\n",
        "  This funtion takes in the true prediction labels in our case (val_labes)\n",
        "  and also a model_predictions and out put the Accuracy, Precision, Recall and F1_score of the model\n",
        "  \"\"\"\n",
        "  # let calculate the accuracy of the model\n",
        "  model_accuracy=accuracy_score(y_true, y_preds) * 100\n",
        "  # let get our models precision, recall amd f1_score\n",
        "  precision, recall, F1_score,_= precision_recall_fscore_support(y_true, y_preds, average=\"weighted\")\n",
        "  # let obtain our models result\n",
        "  model_results= {\"accuracy\": model_accuracy,\n",
        "                  \"precision\":precision,\n",
        "                  \"recall\":recall,\n",
        "                  \"f1_score\":F1_score}\n",
        "\n",
        "  return model_results"
      ]
    },
    {
      "cell_type": "code",
      "execution_count": null,
      "metadata": {
        "colab": {
          "background_save": true
        },
        "id": "hWzmJRJ8vXZz",
        "outputId": "40553c77-4400-42ff-e68e-3a535061fc9f"
      },
      "outputs": [
        {
          "data": {
            "text/plain": [
              "{'accuracy': 82.956,\n",
              " 'f1_score': 0.828953229782028,\n",
              " 'precision': 0.8343036261758116,\n",
              " 'recall': 0.82956}"
            ]
          },
          "execution_count": null,
          "metadata": {},
          "output_type": "execute_result"
        }
      ],
      "source": [
        "# let obtain our baseline model results\n",
        "baseline_result= calculate_results(y_true=test_labels, y_preds=baseline_model_pred_probs)\n",
        "baseline_result"
      ]
    },
    {
      "cell_type": "markdown",
      "metadata": {
        "id": "uu6vCjVXwErH"
      },
      "source": [
        "well, looks like our baseline model "
      ]
    },
    {
      "cell_type": "markdown",
      "metadata": {
        "id": "pZ7Xz9Val4wK"
      },
      "source": [
        "### Model 1:A Simple Dence Model"
      ]
    },
    {
      "cell_type": "code",
      "execution_count": null,
      "metadata": {
        "colab": {
          "background_save": true
        },
        "id": "QL0oLjGvv8Em"
      },
      "outputs": [],
      "source": [
        "# let create tensorboard callbacks to track our models resuls\n",
        "SAVE_DIR= \"MOVIES_REVIEWS_USING_TENSORFLOW_MOVIES_DATASET\"\n",
        "\n",
        "from helper_functions import create_tensorboard_callback"
      ]
    },
    {
      "cell_type": "code",
      "execution_count": null,
      "metadata": {
        "colab": {
          "background_save": true
        },
        "id": "-ZYmrRoPm8DL",
        "outputId": "d2766e51-b85a-4e48-b461-707697fbb150"
      },
      "outputs": [
        {
          "name": "stdout",
          "output_type": "stream",
          "text": [
            "shape of our inputs after our text_vectorizer layer (None, 1325) \n",
            "shape of our inputs after our embedding layer (None, 1325, 128) \n",
            "shape of our inputs after our Global_max_popling layer (None, 128) \n",
            "shape of our inputs after our Dense layer (None, 16) \n"
          ]
        }
      ],
      "source": [
        "# We are going to be using the funtional API approch\n",
        "from tensorflow.keras import layers\n",
        "from tensorflow.keras import Model\n",
        "\n",
        "inputs= layers.Input(shape= (1), dtype=\"string\") # setting our input into a 1 dimesiona array and a dtype of string\n",
        "x= text_vectorizer(inputs) # This layers as we have seen above will convert our input text into numbers \n",
        "print(f\"shape of our inputs after our text_vectorizer layer {x.shape} \")\n",
        "x= embedding(x) # this will convert each numbers from the text vectorizer into a floating point value and output a 128 dimetional vector\n",
        "print(f\"shape of our inputs after our embedding layer {x.shape} \")\n",
        "x= layers.GlobalAveragePooling1D()(x) # it will condence the output from our embedding layer\n",
        "print(f\"shape of our inputs after our Global_max_popling layer {x.shape} \")\n",
        "x= layers.Dropout(0.5)(x)\n",
        "x= layers.Dense(16, activation=\"relu\")(x) # our dense layer which will be use to extract features in our model\n",
        "print(f\"shape of our inputs after our Dense layer {x.shape} \")\n",
        "output= layers.Dense(1, activation=\"sigmoid\")(x)\n",
        "model_1 = Model(inputs, output)"
      ]
    },
    {
      "cell_type": "markdown",
      "metadata": {
        "id": "gXwfXjyGq4YW"
      },
      "source": [
        "** NOTE** It's important to always check thw shape of you inputs after each layers to aviod mistakes or you cam do a model.summary"
      ]
    },
    {
      "cell_type": "code",
      "execution_count": null,
      "metadata": {
        "colab": {
          "background_save": true
        },
        "id": "0K4KFGBknBQa",
        "outputId": "ade9d865-e527-47f0-ffc2-c9aa32c7967a"
      },
      "outputs": [
        {
          "name": "stdout",
          "output_type": "stream",
          "text": [
            "Model: \"model\"\n",
            "_________________________________________________________________\n",
            " Layer (type)                Output Shape              Param #   \n",
            "=================================================================\n",
            " input_1 (InputLayer)        [(None, 1)]               0         \n",
            "                                                                 \n",
            " text_vectorization (TextVec  (None, 1325)             0         \n",
            " torization)                                                     \n",
            "                                                                 \n",
            " embedding (Embedding)       (None, 1325, 128)         3840000   \n",
            "                                                                 \n",
            " global_average_pooling1d (G  (None, 128)              0         \n",
            " lobalAveragePooling1D)                                          \n",
            "                                                                 \n",
            " dropout (Dropout)           (None, 128)               0         \n",
            "                                                                 \n",
            " dense (Dense)               (None, 16)                2064      \n",
            "                                                                 \n",
            " dense_1 (Dense)             (None, 1)                 17        \n",
            "                                                                 \n",
            "=================================================================\n",
            "Total params: 3,842,081\n",
            "Trainable params: 3,842,081\n",
            "Non-trainable params: 0\n",
            "_________________________________________________________________\n"
          ]
        }
      ],
      "source": [
        "# let check the sumarry our our model\n",
        "model_1.summary()"
      ]
    },
    {
      "cell_type": "markdown",
      "metadata": {
        "id": "V2SK6qJDrjkk"
      },
      "source": [
        "### Creating a funtion to compile and fit our models\n",
        "\n",
        "Since we are going to be building a lot of models(7) and we will be compilling and fitting them the same way, how about we create a funtions that can do that"
      ]
    },
    {
      "cell_type": "code",
      "execution_count": null,
      "metadata": {
        "colab": {
          "background_save": true
        },
        "id": "kqQIggapnBLK"
      },
      "outputs": [],
      "source": [
        "# creating our compile and fit funtions\n",
        "def compile_and_fit_model(model, train_examples, train_labels ,test_examples, test_labels, experiment_name, epochs):\n",
        "  \"\"\"\n",
        "  This funtions takes in a model, compile and fit the model to our \n",
        "  test data\n",
        "\n",
        "  Return:\n",
        "   a compile and fit mode\n",
        "  \"\"\"\n",
        "  model.compile(loss= \"binary_crossentropy\",\n",
        "                optimizer= tf.keras.optimizers.Adam(),\n",
        "                metrics=[\"accuracy\"])\n",
        "  \n",
        "  # fit the model\n",
        "  history_model=model.fit(train_examples,\n",
        "                          train_labels,\n",
        "                          epochs=epochs,\n",
        "                          validation_data=(test_examples, test_labels),\n",
        "                          callbacks= [create_tensorboard_callback(dir_name= SAVE_DIR,\n",
        "                                                                  experiment_name=experiment_name)])\n",
        "  return model, history_model"
      ]
    },
    {
      "cell_type": "code",
      "execution_count": null,
      "metadata": {
        "colab": {
          "background_save": true
        },
        "id": "fIYA2pvRuE24",
        "outputId": "9e76b737-cdee-4f96-b335-0c38e87b3d48"
      },
      "outputs": [
        {
          "data": {
            "text/plain": [
              "0        0\n",
              "1        0\n",
              "2        0\n",
              "3        1\n",
              "4        1\n",
              "        ..\n",
              "24995    0\n",
              "24996    1\n",
              "24997    0\n",
              "24998    0\n",
              "24999    1\n",
              "Name: train_lables, Length: 25000, dtype: int64"
            ]
          },
          "execution_count": null,
          "metadata": {},
          "output_type": "execute_result"
        }
      ],
      "source": [
        "train_lables"
      ]
    },
    {
      "cell_type": "code",
      "execution_count": null,
      "metadata": {
        "colab": {
          "background_save": true
        },
        "id": "cgh4B_5WnBEe",
        "outputId": "b5f72382-59af-46c8-bfc9-95d67f9c8023"
      },
      "outputs": [
        {
          "name": "stdout",
          "output_type": "stream",
          "text": [
            "Saving TensorBoard log files to: MOVIES_REVIEWS_USING_TENSORFLOW_MOVIES_DATASET/model_1_dense_model/20220629-162141\n",
            "Epoch 1/5\n",
            "782/782 [==============================] - 15s 15ms/step - loss: 0.6303 - accuracy: 0.6472 - val_loss: 0.4675 - val_accuracy: 0.8312\n",
            "Epoch 2/5\n",
            "782/782 [==============================] - 11s 15ms/step - loss: 0.3606 - accuracy: 0.8530 - val_loss: 0.3229 - val_accuracy: 0.8724\n",
            "Epoch 3/5\n",
            "782/782 [==============================] - 10s 12ms/step - loss: 0.2627 - accuracy: 0.8977 - val_loss: 0.2907 - val_accuracy: 0.8851\n",
            "Epoch 4/5\n",
            "782/782 [==============================] - 9s 12ms/step - loss: 0.2193 - accuracy: 0.9154 - val_loss: 0.2773 - val_accuracy: 0.8903\n",
            "Epoch 5/5\n",
            "782/782 [==============================] - 11s 15ms/step - loss: 0.1852 - accuracy: 0.9297 - val_loss: 0.2893 - val_accuracy: 0.8862\n"
          ]
        },
        {
          "data": {
            "text/plain": [
              "(<keras.engine.functional.Functional at 0x7f7131ef0810>,\n",
              " <keras.callbacks.History at 0x7f70acedaf90>)"
            ]
          },
          "execution_count": null,
          "metadata": {},
          "output_type": "execute_result"
        }
      ],
      "source": [
        "compile_and_fit_model(model_1, train_examples=train_examples, train_labels=train_lables, test_examples=test_examples, test_labels=test_labels, experiment_name=\"model_1_dense_model\", epochs=5)"
      ]
    },
    {
      "cell_type": "markdown",
      "metadata": {
        "id": "VTV82mBz1V26"
      },
      "source": [
        "Wow, looks like our model_1 finish up with a nice accuarcy than our baseline model. let make predictions with our model"
      ]
    },
    {
      "cell_type": "code",
      "execution_count": null,
      "metadata": {
        "colab": {
          "background_save": true
        },
        "id": "1lkzZ9oJ19jl",
        "outputId": "264b2773-4fed-4a1c-ca71-23972013ccc0"
      },
      "outputs": [
        {
          "data": {
            "image/png": "[encoded data removed]",
            "text/plain": [
              "<Figure size 432x288 with 1 Axes>"
            ]
          },
          "metadata": {},
          "output_type": "display_data"
        },
        {
          "data": {
            "image/png": "[encoded data removed]",
            "text/plain": [
              "<Figure size 432x288 with 1 Axes>"
            ]
          },
          "metadata": {},
          "output_type": "display_data"
        }
      ],
      "source": [
        "# let plot our model's loss curve\n",
        "from helper_functions import plot_loss_curves\n",
        "plot_loss_curves(model_1.history)"
      ]
    },
    {
      "cell_type": "code",
      "execution_count": null,
      "metadata": {
        "colab": {
          "background_save": true
        },
        "id": "JuZD5k-B19gj",
        "outputId": "80358f2e-9c34-4a8f-f4d6-e2776d4eec1a"
      },
      "outputs": [
        {
          "data": {
            "text/plain": [
              "array([[0.6256658 ],\n",
              "       [0.815474  ],\n",
              "       [0.00234899],\n",
              "       [0.01182713],\n",
              "       [0.9250387 ],\n",
              "       [0.9791524 ],\n",
              "       [0.99703276],\n",
              "       [0.9908619 ],\n",
              "       [0.60702103],\n",
              "       [0.55389917]], dtype=float32)"
            ]
          },
          "execution_count": null,
          "metadata": {},
          "output_type": "execute_result"
        }
      ],
      "source": [
        "# let make predictions with our model\n",
        "model_1_pred_probs= model_1.predict(test_examples)\n",
        "# let view the first 10 prediction\n",
        "model_1_pred_probs[:10]"
      ]
    },
    {
      "cell_type": "markdown",
      "metadata": {
        "id": "DTgFWCqa20Sd"
      },
      "source": [
        "We have a prediction probability between 0 and 1 whcich ia as a result of our sigmoid activation funtion from our output layer"
      ]
    },
    {
      "cell_type": "code",
      "execution_count": null,
      "metadata": {
        "colab": {
          "background_save": true
        },
        "id": "iploIcNX19dU",
        "outputId": "dca4e077-71cd-41be-ad51-da08ae3f8b85"
      },
      "outputs": [
        {
          "data": {
            "text/plain": [
              "<tf.Tensor: shape=(10,), dtype=float32, numpy=array([1., 1., 0., 0., 1., 1., 1., 1., 1., 1.], dtype=float32)>"
            ]
          },
          "execution_count": null,
          "metadata": {},
          "output_type": "execute_result"
        }
      ],
      "source": [
        "model_1_pred= tf.round(tf.squeeze(model_1_pred_probs)) # this will round up our prediction to either 0 or 1 an also squeeze the shape of our prediction to a 1 dimensional arrar\n",
        "model_1_pred[:10]"
      ]
    },
    {
      "cell_type": "code",
      "execution_count": null,
      "metadata": {
        "colab": {
          "background_save": true
        },
        "id": "mwPdmFms4Pvp",
        "outputId": "f0581806-e7c2-46a7-dedf-7a5bf7f4c0a7"
      },
      "outputs": [
        {
          "data": {
            "text/plain": [
              "{'accuracy': 88.616,\n",
              " 'f1_score': 0.8860161900008447,\n",
              " 'precision': 0.8881187115602467,\n",
              " 'recall': 0.88616}"
            ]
          },
          "execution_count": null,
          "metadata": {},
          "output_type": "execute_result"
        }
      ],
      "source": [
        "# let obtain our models result\n",
        "model_1_results=calculate_results(y_true= test_labels, y_preds=model_1_pred)\n",
        "model_1_results"
      ]
    },
    {
      "cell_type": "code",
      "execution_count": null,
      "metadata": {
        "colab": {
          "background_save": true
        },
        "id": "5H2fFqjNnA0k",
        "outputId": "9931d1e5-ecbd-447a-bd72-4f5709bd9a88"
      },
      "outputs": [
        {
          "data": {
            "text/plain": [
              "{'accuracy': 82.956,\n",
              " 'f1_score': 0.828953229782028,\n",
              " 'precision': 0.8343036261758116,\n",
              " 'recall': 0.82956}"
            ]
          },
          "execution_count": null,
          "metadata": {},
          "output_type": "execute_result"
        }
      ],
      "source": [
        "baseline_result"
      ]
    },
    {
      "cell_type": "code",
      "execution_count": null,
      "metadata": {
        "colab": {
          "background_save": true
        },
        "id": "WkhlO6a_1Tq4",
        "outputId": "697d8ed6-5c93-48b5-d87a-27e8e2d43c00"
      },
      "outputs": [
        {
          "name": "stdout",
          "output_type": "stream",
          "text": [
            "Baseline accuracy: 82.96, New accuracy: 88.62, Difference: 5.66\n",
            "Baseline precision: 0.83, New precision: 0.89, Difference: 0.05\n",
            "Baseline recall: 0.83, New recall: 0.89, Difference: 0.06\n",
            "Baseline f1_score: 0.83, New f1_score: 0.89, Difference: 0.06\n"
          ]
        }
      ],
      "source": [
        "# Create a helper function to compare our baseline results to new model results\n",
        "def compare_baseline_to_new_results(baseline_results, new_model_results):\n",
        "  for key, value in baseline_results.items():\n",
        "    print(f\"Baseline {key}: {value:.2f}, New {key}: {new_model_results[key]:.2f}, Difference: {new_model_results[key]-value:.2f}\")\n",
        "\n",
        "compare_baseline_to_new_results(baseline_results=baseline_result, \n",
        "                                new_model_results=model_1_results)"
      ]
    },
    {
      "cell_type": "markdown",
      "metadata": {
        "id": "tdG24QXa5OJ8"
      },
      "source": [
        "well, looks like our model_1 outperform our baseline model in all metric of eveluation.\n",
        "\n",
        "we still have 6 more models to go, lets do it"
      ]
    },
    {
      "cell_type": "code",
      "execution_count": null,
      "metadata": {
        "colab": {
          "background_save": true
        },
        "id": "l6LwKJQY48Ip"
      },
      "outputs": [],
      "source": []
    }
  ],
  "metadata": {
    "accelerator": "GPU",
    "colab": {
      "collapsed_sections": [],
      "provenance": [],
      "authorship_tag": "ABX9TyN575sfo0j5S13CkWL4Ub5Q",
      "include_colab_link": true
    },
    "gpuClass": "standard",
    "kernelspec": {
      "display_name": "Python 3",
      "name": "python3"
    },
    "language_info": {
      "name": "python"
    },
    "widgets": {
      "application/vnd.jupyter.widget-state+json": {}
    }
  },
  "nbformat": 4,
  "nbformat_minor": 0
}